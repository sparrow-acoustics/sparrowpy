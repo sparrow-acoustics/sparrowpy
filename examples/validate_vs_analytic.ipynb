{
 "cells": [
  {
   "cell_type": "code",
   "execution_count": 1,
   "metadata": {},
   "outputs": [],
   "source": [
    "\"\"\"Test the radiosity.Radiosity module.\"\"\"\n",
    "import numpy as np\n",
    "import pyfar as pf\n",
    "import sparrowpy as sp\n",
    "import matplotlib.pyplot as plt\n",
    "%matplotlib inline"
   ]
  },
  {
   "cell_type": "code",
   "execution_count": 2,
   "metadata": {},
   "outputs": [
    {
     "name": "stdout",
     "output_type": "stream",
     "text": [
      "reverberation distance is 0.5426201661567753m\n",
      "reverberation time is 1.2398651513106647s\n"
     ]
    },
    {
     "name": "stderr",
     "output_type": "stream",
     "text": [
      "/Users/anne/git/_pyfar/sparapy/sparapy/radiosity.py:60: RuntimeWarning: invalid value encountered in divide\n",
      "  real_size = size/patch_nums\n"
     ]
    }
   ],
   "source": [
    "X = 5\n",
    "Y = 6\n",
    "Z = 4\n",
    "patch_size = 0.5\n",
    "ir_length_s = 2\n",
    "sampling_rate = 1000\n",
    "max_order_k = 150\n",
    "speed_of_sound = 343\n",
    "\n",
    "absorption = 0.1\n",
    "S = (2*X*Y) + (2*X*Z) + (2*Y*Z)\n",
    "A = S*absorption\n",
    "alpha_dash = A/S\n",
    "r_h = 1/4*np.sqrt(A/np.pi)\n",
    "print(f'reverberation distance is {r_h}m')\n",
    "V = X*Y*Z\n",
    "RT = 24*np.log(10)/(speed_of_sound)*V/(-S*np.log(1-alpha_dash))\n",
    "print(f'reverberation time is {RT}s')\n",
    "# create geometry\n",
    "walls = sp.testing.shoebox_room_stub(X, Y, Z)\n",
    "source = sp.geometry.SoundSource([2, 2, 2], [0, 1, 0], [0, 0, 1])\n",
    "\n",
    "## new approach\n",
    "radi = sp.radiosity.Radiosity(\n",
    "    walls, patch_size, max_order_k, ir_length_s,\n",
    "    speed_of_sound=speed_of_sound, sampling_rate=sampling_rate)\n",
    "\n"
   ]
  },
  {
   "cell_type": "code",
   "execution_count": 3,
   "metadata": {},
   "outputs": [
    {
     "name": "stderr",
     "output_type": "stream",
     "text": [
      " 17%|█▋        | 25/150 [01:44<08:45,  4.20s/it]"
     ]
    }
   ],
   "source": [
    "# run simulation\n",
    "radi.run(source)\n"
   ]
  },
  {
   "cell_type": "code",
   "execution_count": null,
   "metadata": {},
   "outputs": [],
   "source": [
    "# test energy at receiver\n",
    "receiver_pos = [\n",
    "    [2, 3, 2], [3, 2, 2], [3, 3, 2], [3, 4, 2],\n",
    "    [2, 3, 2.5], [3, 2, 2.5], [3, 3, 2.5], [3, 4, 2.5],\n",
    "    [2, 2, 1.5]\n",
    "    ]\n",
    "irs_new = []\n",
    "for pos in receiver_pos:\n",
    "    receiver = sp.geometry.Receiver(pos, [0, 1, 0], [0, 0, 1])\n",
    "    irs_new.append(radi.energy_at_receiver(receiver, ignore_direct=False))\n",
    "irs_new = np.array(irs_new).squeeze()\n",
    "reverberation = pf.Signal(irs_new, sampling_rate=sampling_rate)"
   ]
  },
  {
   "cell_type": "code",
   "execution_count": null,
   "metadata": {},
   "outputs": [],
   "source": [
    "direct_sound_list = []\n",
    "direct_analytic = []\n",
    "for pos in receiver_pos:\n",
    "    r = np.sqrt(np.sum((np.array(pos)-source.position)**2))\n",
    "    direct_sound = (1/(4 * np.pi * np.square(r)))\n",
    "    delay_dir = int(r/speed_of_sound*sampling_rate)\n",
    "    direct_analytic.append(direct_sound)\n",
    "    direct_sound_list.append(pf.signals.impulse(\n",
    "        reverberation.n_samples, delay_dir, direct_sound, sampling_rate).time)\n",
    "direct_analytic = np.array(direct_analytic)\n",
    "direct_sound = pf.Signal(\n",
    "    np.array(direct_sound_list).squeeze(), sampling_rate=sampling_rate)\n",
    "result = pf.utils.concatenate_channels([reverberation, direct_sound])\n"
   ]
  },
  {
   "cell_type": "code",
   "execution_count": null,
   "metadata": {},
   "outputs": [],
   "source": [
    "E_direct = np.sum(direct_sound.time, axis=-1)\n",
    "E_reverb = np.sum(reverberation.time, axis=-1)\n",
    "\n",
    "E_ratio = E_reverb/E_direct\n",
    "\n",
    "E_direct_analytical = 1/(4*np.pi*r**2)\n",
    "E_reverb_analytical = 4/A\n",
    "E_ratio_analytical = E_reverb_analytical/E_direct_analytical"
   ]
  },
  {
   "cell_type": "code",
   "execution_count": null,
   "metadata": {},
   "outputs": [],
   "source": [
    "t = reverberation.times\n",
    "w_0 = E_reverb_analytical/ V # Kuttruff Eq 4.7\n",
    "t_0 = 0.03\n",
    "reverberation_analytic = w_0 * np.exp(+(speed_of_sound*S*np.log(1-alpha_dash)/(4*V))*(t-t_0)) # Kuttruff Eq 4.10\n",
    "reverberation_analytic = pf.Signal(reverberation_analytic, sampling_rate=sampling_rate)\n",
    "plt.figure()\n",
    "pf.plot.time(\n",
    "    reverberation_analytic, dB=True, log_prefix=10,\n",
    "    label=f'analytical E_rev={E_reverb_analytical:0.2f}', color='r')\n",
    "for i in range(len(receiver_pos)):\n",
    "    e_rel = (E_reverb[i]/E_reverb_analytical)\n",
    "    pf.plot.time(\n",
    "        reverberation[i], dB=True, log_prefix=10,\n",
    "        label=f'simulated E_rev={E_reverb[i]:0.2f} ratio={e_rel:0.2f}',\n",
    "        linestyle='--')\n",
    "plt.legend()\n",
    "plt.show()"
   ]
  },
  {
   "cell_type": "code",
   "execution_count": null,
   "metadata": {},
   "outputs": [],
   "source": [
    "print(f'E_reverb_analytical: {E_reverb_analytical} == E_reverb: {E_reverb}')\n",
    "print(f'Ratio: {E_reverb/E_reverb_analytical}')\n",
    "# print(f'E_direct_analytical: {direct_analytic} == E_direct: {E_direct}')\n",
    "print(f'Ratio mean: {E_reverb_analytical/np.mean(E_reverb)}')"
   ]
  },
  {
   "cell_type": "code",
   "execution_count": null,
   "metadata": {},
   "outputs": [],
   "source": [
    "%load_ext watermark\n",
    "%watermark -v -m -iv"
   ]
  }
 ],
 "metadata": {
  "kernelspec": {
   "display_name": "sparapy",
   "language": "python",
   "name": "python3"
  },
  "language_info": {
   "codemirror_mode": {
    "name": "ipython",
    "version": 3
   },
   "file_extension": ".py",
   "mimetype": "text/x-python",
   "name": "python",
   "nbconvert_exporter": "python",
   "pygments_lexer": "ipython3",
   "version": "3.12.3"
  }
 },
 "nbformat": 4,
 "nbformat_minor": 2
}
