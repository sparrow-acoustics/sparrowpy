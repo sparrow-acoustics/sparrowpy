{
 "cells": [
  {
   "cell_type": "code",
   "execution_count": 1,
   "metadata": {},
   "outputs": [],
   "source": [
    "\"\"\"Test the radiosity.Radiosity module.\"\"\"\n",
    "import numpy as np\n",
    "import pyfar as pf\n",
    "import sparapy as sp\n",
    "import matplotlib.pyplot as plt\n",
    "from datetime import datetime\n",
    "%matplotlib inline\n",
    "# %matplotlib ipympl\n",
    "from sparapy import io"
   ]
  },
  {
   "cell_type": "markdown",
   "metadata": {},
   "source": [
    "Define the parameters and geometry for the simulation."
   ]
  },
  {
   "cell_type": "code",
   "execution_count": 2,
   "metadata": {},
   "outputs": [
    {
     "name": "stdout",
     "output_type": "stream",
     "text": [
      "Number of vertices: 8\n",
      "Number of triangular faces: 12\n"
     ]
    }
   ],
   "source": [
    "# Define parameters\n",
    "patch_size = 0.5\n",
    "ir_length_s = 2\n",
    "sampling_rate = 1000\n",
    "max_order_k = 150\n",
    "speed_of_sound = 346.18\n",
    "absorption = 0.1\n",
    "\n",
    "# create geometry\n",
    "\n",
    "path = 'shoebox_3.stl'\n",
    "walls = io.mod_read_geometry(path,'rectangle')\n",
    "source_pos = [2, 2, 2]\n",
    "source = sp.geometry.SoundSource(source_pos, [0, 1, 0], [0, 0, 1])\n",
    "receiver_pos = [1, 1, 1]"
   ]
  },
  {
   "cell_type": "markdown",
   "metadata": {},
   "source": [
    "Calculate old slow approach for comparison."
   ]
  },
  {
   "cell_type": "code",
   "execution_count": 3,
   "metadata": {},
   "outputs": [
    {
     "name": "stderr",
     "output_type": "stream",
     "text": [
      "/Users/anne/git/_pyfar/sparapy/sparapy/radiosity.py:60: RuntimeWarning: invalid value encountered in divide\n",
      "  real_size = size/patch_nums\n",
      "100%|██████████| 150/150 [10:14<00:00,  4.09s/it]\n"
     ]
    },
    {
     "name": "stdout",
     "output_type": "stream",
     "text": [
      "Time elapsed: 0:10:20.824955\n"
     ]
    }
   ],
   "source": [
    "start = datetime.now()\n",
    "# init object\n",
    "radi = sp.radiosity.Radiosity(\n",
    "    walls, patch_size, max_order_k, ir_length_s,\n",
    "    speed_of_sound=speed_of_sound, sampling_rate=sampling_rate)\n",
    "\n",
    "# run simulation\n",
    "radi.run(source)\n",
    "\n",
    "# gather energy at receiver\n",
    "receiver = sp.geometry.Receiver(receiver_pos, [0, 1, 0], [0, 0, 1])\n",
    "ir_slow = radi.energy_at_receiver(receiver, ignore_direct=True)\n",
    "reverberation_slow = pf.Signal(ir_slow, sampling_rate=sampling_rate)\n",
    "\n",
    "# stop timer\n",
    "delta = (datetime.now() - start)\n",
    "print(f\"Time elapsed: {delta}\")\n",
    "slow_time_s = (delta.seconds*1e6 + delta.microseconds)/1e6"
   ]
  },
  {
   "cell_type": "markdown",
   "metadata": {},
   "source": [
    "Calculate new fast approach"
   ]
  },
  {
   "cell_type": "code",
   "execution_count": 3,
   "metadata": {},
   "outputs": [
    {
     "name": "stderr",
     "output_type": "stream",
     "text": [
      "C:\\Users\\Anindita I. Hapsari\\AppData\\Local\\Temp\\ipykernel_13504\\2885776735.py:14: UserWarning: Gimbal lock detected. Setting third angle to zero since it is not possible to uniquely determine all angles.\n",
      "  radiosity_fast.set_wall_scattering(\n"
     ]
    },
    {
     "name": "stdout",
     "output_type": "stream",
     "text": [
      "Time elapsed: 0:01:01.422649\n"
     ]
    }
   ],
   "source": [
    "start = datetime.now()\n",
    "\n",
    "# create object\n",
    "radiosity_fast = sp.DRadiosityFast.from_polygon(walls, patch_size)\n",
    "\n",
    "# create directional scattering data (totally diffuse)\n",
    "sources = pf.Coordinates(0, 0, 1)\n",
    "receivers = pf.Coordinates(0, 0, 1)\n",
    "frequencies = np.array([500])\n",
    "data_scattering = pf.FrequencyData(\n",
    "    np.ones((sources.csize, receivers.csize, frequencies.size)), frequencies)\n",
    "\n",
    "# set directional scattering data\n",
    "radiosity_fast.set_wall_scattering(\n",
    "    np.arange(len(walls)), data_scattering, sources, receivers)\n",
    "\n",
    "# set air absorption\n",
    "radiosity_fast.set_air_attenuation(\n",
    "    pf.FrequencyData(\n",
    "        np.zeros_like(data_scattering.frequencies),\n",
    "        data_scattering.frequencies))\n",
    "\n",
    "# set absorption coefficient\n",
    "radiosity_fast.set_wall_absorption(\n",
    "    np.arange(len(walls)),\n",
    "    pf.FrequencyData(\n",
    "        np.zeros_like(data_scattering.frequencies)+absorption,\n",
    "        data_scattering.frequencies))\n",
    "\n",
    "# calculate from factors including directivity and absorption\n",
    "radiosity_fast.bake_geometry(algorithm='order')\n",
    "\n",
    "# initialize source energy at each patch\n",
    "radiosity_fast.init_source_energy(source_pos, algorithm='order')\n",
    "\n",
    "# gather energy at receiver\n",
    "ir_fast = radiosity_fast.calculate_energy_exchange_receiver(\n",
    "    receiver_pos, speed_of_sound=speed_of_sound,\n",
    "    histogram_time_resolution=1/sampling_rate, histogram_length=ir_length_s,\n",
    "    algorithm='order', max_depth=max_order_k)\n",
    "reverberation_fast = pf.Signal(ir_fast, sampling_rate=sampling_rate)\n",
    "\n",
    "# stop timer\n",
    "delta = (datetime.now() - start)\n",
    "print(f\"Time elapsed: {delta}\")\n",
    "fast_time_s = (delta.seconds*1e6 + delta.microseconds)/1e6"
   ]
  },
  {
   "cell_type": "markdown",
   "metadata": {},
   "source": [
    "Calculate the analytical reference after Kuttruff."
   ]
  },
  {
   "cell_type": "code",
   "execution_count": 5,
   "metadata": {},
   "outputs": [
    {
     "name": "stdout",
     "output_type": "stream",
     "text": [
      "reverberation distance is 0.5426201661567753m\n",
      "reverberation time is 1.228475783983933s\n"
     ]
    }
   ],
   "source": [
    "\n",
    "S = (2*X*Y) + (2*X*Z) + (2*Y*Z)\n",
    "A = S*absorption\n",
    "alpha_dash = A/S\n",
    "r_h = 1/4*np.sqrt(A/np.pi)\n",
    "print(f'reverberation distance is {r_h}m')\n",
    "V = X*Y*Z\n",
    "RT = 24*np.log(10)/(speed_of_sound)*V/(-S*np.log(1-alpha_dash))\n",
    "print(f'reverberation time is {RT}s')\n",
    "E_reverb_analytical = 4/A\n",
    "t = reverberation_fast.times\n",
    "# Kuttruff Eq 4.7\n",
    "w_0 = E_reverb_analytical/ V\n",
    "t_0 = 0.03\n",
    "# Kuttruff Eq 4.10\n",
    "reverberation_analytic = w_0 * np.exp(+(\n",
    "    speed_of_sound*S*np.log(1-alpha_dash)/(4*V))*(t-t_0))\n",
    "reverberation_analytic = pf.Signal(\n",
    "    reverberation_analytic, sampling_rate=sampling_rate)"
   ]
  },
  {
   "cell_type": "markdown",
   "metadata": {},
   "source": [
    "Plot comparison"
   ]
  },
  {
   "cell_type": "code",
   "execution_count": 4,
   "metadata": {},
   "outputs": [
    {
     "data": {
      "image/png": "[encoded data removed]",
      "text/plain": [
       "<Figure size 640x480 with 1 Axes>"
      ]
     },
     "metadata": {},
     "output_type": "display_data"
    }
   ],
   "source": [
    "plt.figure()\n",
    "\n",
    "pf.plot.time(\n",
    "    reverberation_fast, dB=True, log_prefix=10,\n",
    "    label=f'simulated fast ({fast_time_s:0.2f}s)',\n",
    "    linestyle='--')\n",
    "\n",
    "plt.legend()\n",
    "plt.show()"
   ]
  },
  {
   "cell_type": "code",
   "execution_count": 7,
   "metadata": {},
   "outputs": [
    {
     "name": "stdout",
     "output_type": "stream",
     "text": [
      "Python implementation: CPython\n",
      "Python version       : 3.12.3\n",
      "IPython version      : 8.25.0\n",
      "\n",
      "Compiler    : Clang 14.0.6 \n",
      "OS          : Darwin\n",
      "Release     : 23.5.0\n",
      "Machine     : arm64\n",
      "Processor   : arm\n",
      "CPU cores   : 8\n",
      "Architecture: 64bit\n",
      "\n",
      "pyfar     : 0.6.6\n",
      "numpy     : 1.26.4\n",
      "matplotlib: 3.9.0\n",
      "sparapy   : 0.1.0\n",
      "\n"
     ]
    }
   ],
   "source": [
    "%load_ext watermark\n",
    "%watermark -v -m -iv"
   ]
  }
 ],
 "metadata": {
  "kernelspec": {
   "display_name": "hiwi",
   "language": "python",
   "name": "python3"
  },
  "language_info": {
   "codemirror_mode": {
    "name": "ipython",
    "version": 3
   },
   "file_extension": ".py",
   "mimetype": "text/x-python",
   "name": "python",
   "nbconvert_exporter": "python",
   "pygments_lexer": "ipython3",
   "version": "3.12.5"
  }
 },
 "nbformat": 4,
 "nbformat_minor": 2
}
