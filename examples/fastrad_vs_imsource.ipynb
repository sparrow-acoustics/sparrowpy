{
 "cells": [
  {
   "cell_type": "code",
   "execution_count": 1,
   "metadata": {},
   "outputs": [
    {
     "name": "stderr",
     "output_type": "stream",
     "text": [
      "\n",
      "A module that was compiled using NumPy 1.x cannot be run in\n",
      "NumPy 2.0.2 as it may crash. To support both 1.x and 2.x\n",
      "versions of NumPy, modules must be compiled with NumPy 2.0.\n",
      "Some module may need to rebuild instead e.g. with 'pybind11>=2.12'.\n",
      "\n",
      "If you are a user of the module, the easiest solution will be to\n",
      "downgrade to 'numpy<2' or try to upgrade the affected module.\n",
      "We expect that some modules will need time to support NumPy 2.\n",
      "\n",
      "Traceback (most recent call last):  File \"<frozen runpy>\", line 198, in _run_module_as_main\n",
      "  File \"<frozen runpy>\", line 88, in _run_code\n",
      "  File \"c:\\Users\\heimes\\AppData\\Local\\miniconda3\\envs\\sparrowpy\\Lib\\site-packages\\ipykernel_launcher.py\", line 18, in <module>\n",
      "    app.launch_new_instance()\n",
      "  File \"c:\\Users\\heimes\\AppData\\Local\\miniconda3\\envs\\sparrowpy\\Lib\\site-packages\\traitlets\\config\\application.py\", line 1075, in launch_instance\n",
      "    app.start()\n",
      "  File \"c:\\Users\\heimes\\AppData\\Local\\miniconda3\\envs\\sparrowpy\\Lib\\site-packages\\ipykernel\\kernelapp.py\", line 739, in start\n",
      "    self.io_loop.start()\n",
      "  File \"c:\\Users\\heimes\\AppData\\Local\\miniconda3\\envs\\sparrowpy\\Lib\\site-packages\\tornado\\platform\\asyncio.py\", line 195, in start\n",
      "    self.asyncio_loop.run_forever()\n",
      "  File \"c:\\Users\\heimes\\AppData\\Local\\miniconda3\\envs\\sparrowpy\\Lib\\asyncio\\base_events.py\", line 608, in run_forever\n",
      "    self._run_once()\n",
      "  File \"c:\\Users\\heimes\\AppData\\Local\\miniconda3\\envs\\sparrowpy\\Lib\\asyncio\\base_events.py\", line 1936, in _run_once\n",
      "    handle._run()\n",
      "  File \"c:\\Users\\heimes\\AppData\\Local\\miniconda3\\envs\\sparrowpy\\Lib\\asyncio\\events.py\", line 84, in _run\n",
      "    self._context.run(self._callback, *self._args)\n",
      "  File \"c:\\Users\\heimes\\AppData\\Local\\miniconda3\\envs\\sparrowpy\\Lib\\site-packages\\ipykernel\\kernelbase.py\", line 545, in dispatch_queue\n",
      "    await self.process_one()\n",
      "  File \"c:\\Users\\heimes\\AppData\\Local\\miniconda3\\envs\\sparrowpy\\Lib\\site-packages\\ipykernel\\kernelbase.py\", line 534, in process_one\n",
      "    await dispatch(*args)\n",
      "  File \"c:\\Users\\heimes\\AppData\\Local\\miniconda3\\envs\\sparrowpy\\Lib\\site-packages\\ipykernel\\kernelbase.py\", line 437, in dispatch_shell\n",
      "    await result\n",
      "  File \"c:\\Users\\heimes\\AppData\\Local\\miniconda3\\envs\\sparrowpy\\Lib\\site-packages\\ipykernel\\ipkernel.py\", line 362, in execute_request\n",
      "    await super().execute_request(stream, ident, parent)\n",
      "  File \"c:\\Users\\heimes\\AppData\\Local\\miniconda3\\envs\\sparrowpy\\Lib\\site-packages\\ipykernel\\kernelbase.py\", line 778, in execute_request\n",
      "    reply_content = await reply_content\n",
      "  File \"c:\\Users\\heimes\\AppData\\Local\\miniconda3\\envs\\sparrowpy\\Lib\\site-packages\\ipykernel\\ipkernel.py\", line 449, in do_execute\n",
      "    res = shell.run_cell(\n",
      "  File \"c:\\Users\\heimes\\AppData\\Local\\miniconda3\\envs\\sparrowpy\\Lib\\site-packages\\ipykernel\\zmqshell.py\", line 549, in run_cell\n",
      "    return super().run_cell(*args, **kwargs)\n",
      "  File \"c:\\Users\\heimes\\AppData\\Local\\miniconda3\\envs\\sparrowpy\\Lib\\site-packages\\IPython\\core\\interactiveshell.py\", line 3075, in run_cell\n",
      "    result = self._run_cell(\n",
      "  File \"c:\\Users\\heimes\\AppData\\Local\\miniconda3\\envs\\sparrowpy\\Lib\\site-packages\\IPython\\core\\interactiveshell.py\", line 3130, in _run_cell\n",
      "    result = runner(coro)\n",
      "  File \"c:\\Users\\heimes\\AppData\\Local\\miniconda3\\envs\\sparrowpy\\Lib\\site-packages\\IPython\\core\\async_helpers.py\", line 128, in _pseudo_sync_runner\n",
      "    coro.send(None)\n",
      "  File \"c:\\Users\\heimes\\AppData\\Local\\miniconda3\\envs\\sparrowpy\\Lib\\site-packages\\IPython\\core\\interactiveshell.py\", line 3334, in run_cell_async\n",
      "    has_raised = await self.run_ast_nodes(code_ast.body, cell_name,\n",
      "  File \"c:\\Users\\heimes\\AppData\\Local\\miniconda3\\envs\\sparrowpy\\Lib\\site-packages\\IPython\\core\\interactiveshell.py\", line 3517, in run_ast_nodes\n",
      "    if await self.run_code(code, result, async_=asy):\n",
      "  File \"c:\\Users\\heimes\\AppData\\Local\\miniconda3\\envs\\sparrowpy\\Lib\\site-packages\\IPython\\core\\interactiveshell.py\", line 3577, in run_code\n",
      "    exec(code_obj, self.user_global_ns, self.user_ns)\n",
      "  File \"C:\\Users\\heimes\\AppData\\Local\\Temp\\ipykernel_67224\\1357446683.py\", line 2, in <module>\n",
      "    import sparrowpy as sp\n",
      "  File \"D:\\git\\_pyfar\\sparapy\\sparrowpy\\__init__.py\", line 17, in <module>\n",
      "    from . import utils\n",
      "  File \"D:\\git\\_pyfar\\sparapy\\sparrowpy\\utils\\__init__.py\", line 2, in <module>\n",
      "    from .blender import read_geometry_file\n",
      "  File \"D:\\git\\_pyfar\\sparapy\\sparrowpy\\utils\\blender.py\", line 5, in <module>\n",
      "    import bpy\n"
     ]
    },
    {
     "ename": "AttributeError",
     "evalue": "_ARRAY_API not found",
     "output_type": "error",
     "traceback": [
      "\u001b[1;31m---------------------------------------------------------------------------\u001b[0m",
      "\u001b[1;31mAttributeError\u001b[0m                            Traceback (most recent call last)",
      "\u001b[1;31mAttributeError\u001b[0m: _ARRAY_API not found"
     ]
    },
    {
     "ename": "ImportError",
     "evalue": "numpy.core.multiarray failed to import",
     "output_type": "error",
     "traceback": [
      "\u001b[1;31m---------------------------------------------------------------------------\u001b[0m",
      "\u001b[1;31mImportError\u001b[0m                               Traceback (most recent call last)",
      "\u001b[1;31mImportError\u001b[0m: numpy.core.multiarray failed to import"
     ]
    }
   ],
   "source": [
    "import numpy as np\n",
    "import sparrowpy as sp\n",
    "from sparrowpy import image_source as ims\n",
    "\n",
    "\n",
    "import pyfar as pf\n",
    "import matplotlib.pyplot as plt\n",
    "%matplotlib inline\n",
    "from datetime import datetime"
   ]
  },
  {
   "cell_type": "markdown",
   "metadata": {},
   "source": [
    "fast rad"
   ]
  },
  {
   "cell_type": "code",
   "execution_count": 2,
   "metadata": {},
   "outputs": [
    {
     "name": "stdout",
     "output_type": "stream",
     "text": [
      "number of sources 36\n",
      "number of receivers 36\n"
     ]
    },
    {
     "name": "stderr",
     "output_type": "stream",
     "text": [
      "C:\\Users\\heimes\\AppData\\Local\\Temp\\ipykernel_67224\\3685337642.py:23: PyfarDeprecationWarning: 'This function will be deprecated in pyfar 0.8.0 in favor of spharpy.samplings.gaussian.'\n",
      "  sources = pf.samplings.sph_gaussian(sh_order=5)\n",
      "c:\\Users\\heimes\\AppData\\Local\\miniconda3\\envs\\sparrowpy\\Lib\\site-packages\\pyfar\\samplings\\samplings.py:344: PyfarDeprecationWarning: 'This function will be changed in pyfar 0.8.0 to init(x, y, z).'\n",
      "  sampling = pyfar.Coordinates(\n",
      "c:\\Users\\heimes\\AppData\\Local\\miniconda3\\envs\\sparrowpy\\Lib\\site-packages\\pyfar\\classes\\coordinates.py:265: PyfarDeprecationWarning: 'This function will be deprecated in pyfar 0.8.0 in favor of spharpy.samplings.SamplingSphere.'\n",
      "  self.sh_order = sh_order\n",
      "C:\\Users\\heimes\\AppData\\Local\\Temp\\ipykernel_67224\\3685337642.py:26: PyfarDeprecationWarning: 'This function will be deprecated in pyfar 0.8.0 in favor of spharpy.samplings.gaussian.'\n",
      "  receivers = pf.samplings.sph_gaussian(sh_order=5)\n",
      "C:\\Users\\heimes\\AppData\\Local\\Temp\\ipykernel_67224\\3685337642.py:35: UserWarning: Gimbal lock detected. Setting third angle to zero since it is not possible to uniquely determine all angles.\n",
      "  radiosity_fast.set_wall_scattering(\n"
     ]
    }
   ],
   "source": [
    "# Define parameters\n",
    "X = 3\n",
    "Y = 3\n",
    "Z = 3\n",
    "patch_size = 1\n",
    "ir_length_s = 2\n",
    "sampling_rate = 1000\n",
    "max_order_k = 5\n",
    "speed_of_sound = 346.18\n",
    "absorption = 0.1\n",
    "\n",
    "# create geometry\n",
    "walls = sp.testing.shoebox_room_stub(X, Y, Z)\n",
    "source_pos = [0.5, 0.5, 0.5]\n",
    "source = sp.geometry.SoundSource(source_pos, [0, 1, 0], [0, 0, 1])\n",
    "receiver_pos = [0.25, 0.25, 0.25]\n",
    "\n",
    "\n",
    "# create object\n",
    "radiosity_fast = sp.DRadiosityFast.from_polygon(walls, patch_size)\n",
    "\n",
    "# create directional scattering data (totally diffuse)\n",
    "sources = pf.samplings.sph_gaussian(sh_order=5)\n",
    "sources = sources[sources.z>=0]\n",
    "print(f'number of sources {sources.csize}')\n",
    "receivers = pf.samplings.sph_gaussian(sh_order=5)\n",
    "receivers = receivers[receivers.z>=0]\n",
    "print(f'number of receivers {receivers.csize}')\n",
    "frequencies = np.array([500])\n",
    "data_scattering = sp.brdf.create_from_scattering(\n",
    "    sources, receivers,\n",
    "    pf.FrequencyData(np.zeros_like(frequencies), frequencies))\n",
    "\n",
    "# set directional scattering data\n",
    "radiosity_fast.set_wall_scattering(\n",
    "    np.arange(len(walls)), data_scattering, sources, receivers)\n",
    "\n",
    "# set air absorption\n",
    "radiosity_fast.set_air_attenuation(\n",
    "    pf.FrequencyData(\n",
    "        np.zeros_like(data_scattering.frequencies),\n",
    "        data_scattering.frequencies))\n",
    "\n",
    "# set absorption coefficient\n",
    "radiosity_fast.set_wall_absorption(\n",
    "    np.arange(len(walls)),\n",
    "    pf.FrequencyData(\n",
    "        np.zeros_like(data_scattering.frequencies)+absorption,\n",
    "        data_scattering.frequencies))\n"
   ]
  },
  {
   "cell_type": "code",
   "execution_count": 3,
   "metadata": {},
   "outputs": [
    {
     "name": "stderr",
     "output_type": "stream",
     "text": [
      "D:\\git\\_pyfar\\sparapy\\sparrowpy\\radiosity_fast\\form_factor.py:198: NumbaPerformanceWarning: \u001b[1m\u001b[1m\u001b[1m\u001b[1m\u001b[1m\u001b[1m\u001b[1m\u001b[1mnp.dot() is faster on contiguous arrays, called on (Array(float64, 1, 'A', False, aligned=True), Array(float64, 1, 'C', False, aligned=True))\u001b[0m\u001b[0m\u001b[0m\u001b[0m\u001b[0m\u001b[0m\u001b[0m\u001b[0m\n",
      "  form_factors[i,j] = calc_form_factor(\n"
     ]
    },
    {
     "name": "stdout",
     "output_type": "stream",
     "text": [
      "Time elapsed for bake_geometry: 0:01:06.029665\n"
     ]
    }
   ],
   "source": [
    "# calculate from factors including directivity and absorption\n",
    "start = datetime.now()\n",
    "radiosity_fast.bake_geometry(algorithm='order')\n",
    "delta = (datetime.now() - start)\n",
    "print(f\"Time elapsed for bake_geometry: {delta}\")\n",
    "fast_time_s = (delta.seconds*1e6 + delta.microseconds)/1e6"
   ]
  },
  {
   "cell_type": "code",
   "execution_count": null,
   "metadata": {},
   "outputs": [
    {
     "name": "stdout",
     "output_type": "stream",
     "text": [
      "Time elapsed for init_source_energy: 0:00:08.293791\n",
      "Time elapsed for calculate_energy_exchange_receiver: 0:00:09.559629\n"
     ]
    }
   ],
   "source": [
    "# initialize source energy at each patch\n",
    "start = datetime.now()\n",
    "radiosity_fast.init_source_energy(source_pos, algorithm='order')\n",
    "delta = (datetime.now() - start)\n",
    "print(f\"Time elapsed for init_source_energy: {delta}\")\n",
    "fast_time_s = (delta.seconds*1e6 + delta.microseconds)/1e6\n",
    "\n",
    "\n",
    "# calculate energy exchange\n",
    "start = datetime.now()\n",
    "radiosity_fast.calculate_energy_exchange(\n",
    "    speed_of_sound=speed_of_sound,\n",
    "    histogram_time_resolution=1/sampling_rate,\n",
    "    histogram_length=ir_length_s,\n",
    "    algorithm='order', max_depth=max_order_k)\n",
    "\n",
    "# gather energy at receiver\n",
    "ir_fast = radiosity_fast.collect_receiver_energy(\n",
    "    receiver_pos,\n",
    "    )\n",
    "reverberation_fast = pf.Signal(ir_fast[0, 0, 0], sampling_rate=sampling_rate)\n",
    "delta = (datetime.now() - start)\n",
    "print(f\"Time elapsed for calculate_energy_exchange_receiver: {delta}\")\n",
    "fast_time_s = (delta.seconds*1e6 + delta.microseconds)/1e6"
   ]
  },
  {
   "cell_type": "code",
   "execution_count": 9,
   "metadata": {},
   "outputs": [],
   "source": [
    "reverberation_fast = pf.Signal(ir_fast[0, 0, 0], sampling_rate=sampling_rate)\n"
   ]
  },
  {
   "cell_type": "code",
   "execution_count": null,
   "metadata": {},
   "outputs": [],
   "source": []
  },
  {
   "cell_type": "markdown",
   "metadata": {},
   "source": [
    "image source"
   ]
  },
  {
   "cell_type": "code",
   "execution_count": 10,
   "metadata": {},
   "outputs": [],
   "source": [
    "MaxOrder = 5\n",
    "\n",
    "\n",
    "RoomSizes = (3, 3, 3)\n",
    "WallsHesse = ims.get_walls_hesse(*RoomSizes)\n",
    "\n",
    "\n",
    "WallsR = 0.9\n",
    "SourcePos = [0.50, 0.50, 0.50]\n",
    "\n",
    "\n",
    "ISList_valid = ims.calculate_image_sources(WallsHesse, SourcePos, MaxOrder)\n",
    "\n",
    "\n",
    "ReceiverPos = [0.25, 0.25, 0.25]\n",
    "ISList_audible = ims.filter_image_sources(ISList_valid, WallsHesse, ReceiverPos)\n",
    "\n",
    "\n",
    "impulse_response = ims.calculate_impulse_response(ISList_audible, WallsR, ReceiverPos)\n",
    "energy = np.square(impulse_response)\n",
    "image_source = pf.Signal(energy, 10000)\n"
   ]
  },
  {
   "cell_type": "markdown",
   "metadata": {},
   "source": [
    "compare"
   ]
  },
  {
   "cell_type": "code",
   "execution_count": 12,
   "metadata": {},
   "outputs": [
    {
     "data": {
      "image/png": "[encoded data removed]",
      "text/plain": [
       "<Figure size 640x480 with 1 Axes>"
      ]
     },
     "metadata": {},
     "output_type": "display_data"
    }
   ],
   "source": [
    "pf.plot.use()\n",
    "plt.figure()\n",
    "\n",
    "# ax = pf.plot.time(image_source, dB=True, label=\"Image Source Method\")\n",
    "ax = pf.plot.time(reverberation_fast, dB=True, label=\"Fast Radiosity\")\n",
    "\n",
    "#title = title = f\"Radiosity Order {k} Patch Size {patch_size} vs Image Source Order {MaxOrder}\"\n",
    "ax.legend(loc=\"upper right\")\n",
    "ax.set_xlim([0, 0.1])\n",
    "#plt.title(title)\n",
    "plt.show()"
   ]
  },
  {
   "cell_type": "code",
   "execution_count": null,
   "metadata": {},
   "outputs": [],
   "source": []
  }
 ],
 "metadata": {
  "kernelspec": {
   "display_name": "sparrowpy",
   "language": "python",
   "name": "python3"
  },
  "language_info": {
   "codemirror_mode": {
    "name": "ipython",
    "version": 3
   },
   "file_extension": ".py",
   "mimetype": "text/x-python",
   "name": "python",
   "nbconvert_exporter": "python",
   "pygments_lexer": "ipython3",
   "version": "3.11.11"
  }
 },
 "nbformat": 4,
 "nbformat_minor": 2
}
