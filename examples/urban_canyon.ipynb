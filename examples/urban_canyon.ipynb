{
 "cells": [
  {
   "cell_type": "markdown",
   "metadata": {},
   "source": [
    "# Urban canyon study\n",
    "\n",
    "This example shows the behavior of sparrowpy in the simulation of an urban canyon under different simulation conditions"
   ]
  },
  {
   "cell_type": "code",
   "execution_count": 15,
   "metadata": {},
   "outputs": [
    {
     "name": "stdout",
     "output_type": "stream",
     "text": [
      "The memory_profiler extension is already loaded. To reload it, use:\n",
      "  %reload_ext memory_profiler\n"
     ]
    }
   ],
   "source": [
    "\"\"\"Test the radiosity.Radiosity module.\"\"\"\n",
    "import pyfar as pf\n",
    "import sparrowpy as sp\n",
    "import matplotlib.pyplot as plt\n",
    "from run_simu import run_simu, run_simu_mem\n",
    "import time\n",
    "import json\n",
    "\n",
    "%load_ext memory_profiler\n",
    "\n",
    "%matplotlib inline\n",
    "# %matplotlib ipympl"
   ]
  },
  {
   "cell_type": "markdown",
   "metadata": {},
   "source": [
    "Lets define our room and source position."
   ]
  },
  {
   "cell_type": "code",
   "execution_count": 16,
   "metadata": {},
   "outputs": [],
   "source": [
    "def urban_canyon_stub(length_x, length_y, length_z):\n",
    "    \"\"\"Create a shoebox room with the given dimensions.\n",
    "\n",
    "    Parameters\n",
    "    ----------\n",
    "    length_x : float\n",
    "        Length of the urban canyon in meters.\n",
    "    length_y : float\n",
    "        width of the urban canyon in meters.\n",
    "    length_z : float\n",
    "        height of the urban canyon in meters.\n",
    "\n",
    "    Returns\n",
    "    -------\n",
    "    room : list[geo.Polygon]\n",
    "        List of the walls of the room.\n",
    "\n",
    "    \"\"\"\n",
    "    return [\n",
    "        sp.geometry.Polygon(\n",
    "            [[0, 0, 0], [length_x, 0, 0],\n",
    "            [length_x, 0, length_z], [0, 0, length_z]],\n",
    "            [0, 0, 1], [0, 1, 0]),\n",
    "        sp.geometry.Polygon(\n",
    "            [[0, 0, 0],[0, length_y, 0],\n",
    "            [length_x, length_y, 0], [length_x, 0, 0 ]],\n",
    "            [1, 0, 0], [0, 0, 1]),\n",
    "        sp.geometry.Polygon(\n",
    "            [[0, length_y, 0], [length_x, length_y, 0],\n",
    "            [length_x, length_y, length_z], [0, length_y, length_z]],\n",
    "            [0, 0, 1], [0, -1, 0]),\n",
    "        ]"
   ]
  },
  {
   "cell_type": "code",
   "execution_count": 17,
   "metadata": {},
   "outputs": [],
   "source": [
    "# Define parameters\n",
    "X = 90\n",
    "Y = 12\n",
    "Z = 6\n",
    "\n",
    "# create geometry\n",
    "canyon = urban_canyon_stub(X, Y, Z)\n",
    "source = pf.Coordinates(30, 6, 1)\n",
    "receiver = pf.Coordinates(90, 9, 2)"
   ]
  },
  {
   "cell_type": "code",
   "execution_count": 18,
   "metadata": {},
   "outputs": [
    {
     "data": {
      "text/plain": [
       "TimeData:\n",
       "(1, 1) channels with 5 samples"
      ]
     },
     "execution_count": 18,
     "metadata": {},
     "output_type": "execute_result"
    }
   ],
   "source": [
    "run_simu(walls=urban_canyon_stub(1,1,1),\n",
    "        source=pf.Coordinates(.5,.5,.5),\n",
    "        receiver=pf.Coordinates(.5,.5,.5),\n",
    "        patch_size=1)"
   ]
  },
  {
   "cell_type": "markdown",
   "metadata": {},
   "source": [
    "### run simulation"
   ]
  },
  {
   "cell_type": "code",
   "execution_count": 19,
   "metadata": {},
   "outputs": [],
   "source": [
    "time_steps = [1/50,1/100,1/250,1/500,1/1000]\n",
    "patch_sizes = [6,3]#,2,1.5]\n",
    "refl_orders = [1,20,40,60,80,100]\n",
    "angl_res =[180,60,30,15,6]"
   ]
  },
  {
   "cell_type": "code",
   "execution_count": 20,
   "metadata": {},
   "outputs": [],
   "source": [
    "# baseline\n",
    "pss = 6\n",
    "refll = 40\n",
    "tss=1/100\n",
    "angg=30\n",
    "\n",
    "out={\"baseline\":{\"patch_size\":[],\n",
    "                 \"reflection_order\":[],\n",
    "                 \"time_step\":[],\n",
    "                 \"brdf_resolution\":[]},\n",
    "     \"reflection_order\":{\"mem\":[],\n",
    "                  \"t\":[],\n",
    "                  \"edc\":[],\n",
    "                  \"data\":[]},\n",
    "     \"brdf_resolution\":{\"mem\":[],\n",
    "                  \"t\":[],\n",
    "                  \"edc\":[],\n",
    "                  \"data\":[]},\n",
    "     \"patch_size\":{\"mem\":[],\n",
    "                  \"t\":[],\n",
    "                  \"edc\":[],\n",
    "                  \"data\":[]},\n",
    "     \"time_step\":{\"mem\":[],\n",
    "                  \"t\":[],\n",
    "                  \"edc\":[],\n",
    "                  \"data\":[]},\n",
    "                  }\n",
    "\n",
    "out[\"baseline\"][\"patch_size\"]=pss\n",
    "\n",
    "out[\"baseline\"][\"reflection_order\"]=refll\n",
    "\n",
    "out[\"baseline\"][\"time_step\"]=tss\n",
    "\n",
    "out[\"baseline\"][\"brdf_resolution\"]=angg"
   ]
  },
  {
   "cell_type": "code",
   "execution_count": null,
   "metadata": {},
   "outputs": [],
   "source": [
    "# time stepping\n",
    "\n",
    "for ts in time_steps:\n",
    "    t0 = time.time()\n",
    "    edc = run_simu( walls=canyon, source=source,\n",
    "                    receiver=receiver, patch_size=pss,\n",
    "                    time_step=ts, duration=1.2,\n",
    "                    refl_order=refll, res=angg)\n",
    "    out[\"time_step\"][\"edc\"]=edc.time.tolist()\n",
    "    out[\"time_step\"][\"t\"] = time.time()-t0\n",
    "out[\"time_step\"][\"data\"]=time_steps\n"
   ]
  },
  {
   "cell_type": "code",
   "execution_count": 8,
   "metadata": {},
   "outputs": [],
   "source": [
    "# reflection order\n",
    "\n",
    "for refl in refl_orders:\n",
    "    t0 = time.time()\n",
    "    edc = run_simu( walls=canyon, source=source,\n",
    "                    receiver=receiver, patch_size=pss,\n",
    "                    time_step=tss, duration=1.2,\n",
    "                    refl_order=refl, res=angg)\n",
    "    out[\"reflection_order\"][\"edc\"]=edc.time.tolist()\n",
    "    out[\"reflection_order\"][\"t\"] = time.time()-t0\n",
    "out[\"reflection_order\"][\"data\"]=refl_orders\n",
    "\n"
   ]
  },
  {
   "cell_type": "code",
   "execution_count": 9,
   "metadata": {},
   "outputs": [],
   "source": [
    "# angular resolution\n",
    "\n",
    "for ang in angl_res:\n",
    "    t0 = time.time()\n",
    "    edc = run_simu( walls=canyon, source=source,\n",
    "                    receiver=receiver, patch_size=pss,\n",
    "                    time_step=tss, duration=1.2,\n",
    "                    refl_order=refll, res=ang)\n",
    "    out[\"brdf_resolution\"][\"edc\"]=edc.time.tolist()\n",
    "    out[\"brdf_resolution\"][\"t\"] = time.time()-t0\n",
    "out[\"brdf_resolution\"][\"data\"]=angl_res"
   ]
  },
  {
   "cell_type": "code",
   "execution_count": 10,
   "metadata": {},
   "outputs": [],
   "source": [
    "with open('resources/urban_canyon_nops.json', 'w') as fp:\n",
    "    json.dump(out, fp)"
   ]
  },
  {
   "cell_type": "code",
   "execution_count": 11,
   "metadata": {},
   "outputs": [],
   "source": [
    "# patch sizes\n",
    "\n",
    "for pat in patch_sizes:\n",
    "    t0 = time.time()\n",
    "    edc = run_simu( walls=canyon, source=source,\n",
    "                    receiver=receiver, patch_size=pat,\n",
    "                    time_step=tss, duration=1.2,\n",
    "                    refl_order=refll, res=angg )\n",
    "    out[\"patch_size\"][\"edc\"] = edc.time.tolist()\n",
    "    out[\"patch_size\"][\"t\"] = time.time()-t0\n",
    "out[\"patch_size\"][\"data\"]=patch_sizes\n"
   ]
  },
  {
   "cell_type": "code",
   "execution_count": 12,
   "metadata": {},
   "outputs": [],
   "source": [
    "with open('resources/urban_canyon_no_mem.json', 'w') as fp:\n",
    "    json.dump(out, fp)"
   ]
  },
  {
   "cell_type": "code",
   "execution_count": null,
   "metadata": {},
   "outputs": [
    {
     "name": "stderr",
     "output_type": "stream",
     "text": [
      "d:\\Joao_Fatela\\dev\\sparrowpy\\examples\\run_simu.py:18: PyfarDeprecationWarning: 'This function will be deprecated in pyfar 0.8.0 in favor of spharpy.samplings.equal_angle.'\n",
      "  samples = pf.samplings.sph_equal_angle(delta_angles=res)\n",
      "d:\\Joao_Fatela\\dev\\sparrowpy\\examples\\run_simu.py:35: UserWarning: Gimbal lock detected. Setting third angle to zero since it is not possible to uniquely determine all angles.\n",
      "  radi.set_wall_brdf(\n"
     ]
    }
   ],
   "source": [
    "# memory\n",
    "for ts in time_steps:\n",
    "    out[\"time_step\"][\"mem\"] = run_simu_mem( walls=canyon, source=source,\n",
    "                    receiver=receiver, patch_size=pss,\n",
    "                    time_step=ts, duration=1.2,\n",
    "                    refl_order=refll, res=angg)\n",
    "for refl in refl_orders:\n",
    "    out[\"reflection_order\"][\"mem\"] = run_simu_mem( walls=canyon, source=source,\n",
    "                    receiver=receiver, patch_size=pss,\n",
    "                    time_step=tss, duration=1.2,\n",
    "                    refl_order=refl, res=angg)\n",
    "for ang in angl_res:\n",
    "    out[\"brdf_resolution\"][\"mem\"] = run_simu_mem( walls=canyon, source=source,\n",
    "                    receiver=receiver, patch_size=pss,\n",
    "                    time_step=tss, duration=1.2,\n",
    "                    refl_order=refll, res=ang)\n",
    "for pat in patch_sizes:\n",
    "    out[\"patch_size\"][\"mem\"] = run_simu_mem( walls=canyon, source=source,\n",
    "                    receiver=receiver, patch_size=pat,\n",
    "                    time_step=tss, duration=1.2,\n",
    "                    refl_order=refll, res=angg)"
   ]
  },
  {
   "cell_type": "code",
   "execution_count": null,
   "metadata": {},
   "outputs": [
    {
     "data": {
      "image/png": "[encoded data removed]",
      "text/plain": [
       "<Figure size 640x480 with 1 Axes>"
      ]
     },
     "metadata": {},
     "output_type": "display_data"
    }
   ],
   "source": [
    "with open('resources/urban_canyon_with_mem.json', 'w') as fp:\n",
    "    json.dump(out, fp)"
   ]
  },
  {
   "cell_type": "markdown",
   "metadata": {},
   "source": [
    "If the order would be increased, this would match even after 0.5s.\n"
   ]
  },
  {
   "cell_type": "code",
   "execution_count": null,
   "metadata": {},
   "outputs": [
    {
     "name": "stdout",
     "output_type": "stream",
     "text": [
      "Python implementation: CPython\n",
      "Python version       : 3.11.9\n",
      "IPython version      : 9.1.0\n",
      "\n",
      "Compiler    : MSC v.1938 64 bit (AMD64)\n",
      "OS          : Windows\n",
      "Release     : 10\n",
      "Machine     : AMD64\n",
      "Processor   : AMD64 Family 25 Model 68 Stepping 1, AuthenticAMD\n",
      "CPU cores   : 16\n",
      "Architecture: 64bit\n",
      "\n",
      "pyfar     : 0.7.2\n",
      "matplotlib: 3.10.1\n",
      "sparrowpy : 0.1.0\n",
      "\n"
     ]
    }
   ],
   "source": [
    "%load_ext watermark\n",
    "%watermark -v -m -iv"
   ]
  }
 ],
 "metadata": {
  "kernelspec": {
   "display_name": ".venv",
   "language": "python",
   "name": "python3"
  },
  "language_info": {
   "codemirror_mode": {
    "name": "ipython",
    "version": 3
   },
   "file_extension": ".py",
   "mimetype": "text/x-python",
   "name": "python",
   "nbconvert_exporter": "python",
   "pygments_lexer": "ipython3",
   "version": "3.11.9"
  }
 },
 "nbformat": 4,
 "nbformat_minor": 2
}
