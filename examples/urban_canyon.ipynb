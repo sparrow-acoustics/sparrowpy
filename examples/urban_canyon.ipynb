{
 "cells": [
  {
   "cell_type": "markdown",
   "metadata": {},
   "source": [
    "# Urban canyon study\n",
    "\n",
    "This example shows the behavior of sparrowpy in the simulation of an urban canyon under different simulation conditions"
   ]
  },
  {
   "cell_type": "code",
   "execution_count": 42,
   "metadata": {},
   "outputs": [
    {
     "name": "stdout",
     "output_type": "stream",
     "text": [
      "The memory_profiler extension is already loaded. To reload it, use:\n",
      "  %reload_ext memory_profiler\n"
     ]
    }
   ],
   "source": [
    "\"\"\"Test the radiosity.Radiosity module.\"\"\"\n",
    "import numpy as np\n",
    "import pyfar as pf\n",
    "import sparrowpy as sp\n",
    "import matplotlib.pyplot as plt\n",
    "\n",
    "%load_ext memory_profiler\n",
    "\n",
    "%matplotlib inline\n",
    "# %matplotlib ipympl"
   ]
  },
  {
   "cell_type": "markdown",
   "metadata": {},
   "source": [
    "Lets define our room and source position."
   ]
  },
  {
   "cell_type": "code",
   "execution_count": 43,
   "metadata": {},
   "outputs": [],
   "source": [
    "def urban_canyon_stub(length_x, length_y, length_z):\n",
    "    \"\"\"Create a shoebox room with the given dimensions.\n",
    "\n",
    "    Parameters\n",
    "    ----------\n",
    "    length_x : float\n",
    "        Length of the urban canyon in meters.\n",
    "    length_y : float\n",
    "        width of the urban canyon in meters.\n",
    "    length_z : float\n",
    "        height of the urban canyon in meters.\n",
    "\n",
    "    Returns\n",
    "    -------\n",
    "    room : list[geo.Polygon]\n",
    "        List of the walls of the room.\n",
    "\n",
    "    \"\"\"\n",
    "    return [\n",
    "        sp.geometry.Polygon(\n",
    "            [[0, 0, 0], [length_x, 0, 0],\n",
    "            [length_x, 0, length_z], [0, 0, length_z]],\n",
    "            [0, 0, 1], [0, 1, 0]),\n",
    "        sp.geometry.Polygon(\n",
    "            [[0, 0, 0],[0, length_y, 0],\n",
    "            [length_x, length_y, 0], [length_x, 0, 0 ]],\n",
    "            [1, 0, 0], [0, 0, 1]),\n",
    "        sp.geometry.Polygon(\n",
    "            [[0, length_y, 0], [length_x, length_y, 0],\n",
    "            [length_x, length_y, length_z], [0, length_y, length_z]],\n",
    "            [0, 0, 1], [0, -1, 0]),\n",
    "        ]"
   ]
  },
  {
   "cell_type": "code",
   "execution_count": null,
   "metadata": {},
   "outputs": [],
   "source": [
    "# Define parameters\n",
    "X = 50\n",
    "Y = 50\n",
    "Z = 50\n",
    "\n",
    "# create geometry\n",
    "canyon = urban_canyon_stub(X, Y, Z)\n",
    "source = pf.Coordinates(20, 5, 1)\n",
    "receiver = pf.Coordinates(60, 2, 1.7)"
   ]
  },
  {
   "cell_type": "code",
   "execution_count": 49,
   "metadata": {},
   "outputs": [],
   "source": [
    "from run_simu import run_simu\n",
    "\n",
    "\n"
   ]
  },
  {
   "cell_type": "code",
   "execution_count": null,
   "metadata": {},
   "outputs": [
    {
     "name": "stdout",
     "output_type": "stream",
     "text": [
      "\n"
     ]
    },
    {
     "name": "stderr",
     "output_type": "stream",
     "text": [
      "c:\\Users\\jotag\\Documents\\dev\\sparapy\\examples\\run_simu.py:24: UserWarning: Gimbal lock detected. Setting third angle to zero since it is not possible to uniquely determine all angles.\n",
      "  radi.set_wall_brdf(\n"
     ]
    },
    {
     "name": "stdout",
     "output_type": "stream",
     "text": [
      "Filename: c:\\Users\\jotag\\Documents\\dev\\sparapy\\examples\\run_simu.py\n",
      "\n",
      "Line #    Mem usage    Increment  Occurrences   Line Contents\n",
      "=============================================================\n",
      "     7    374.1 MiB    374.1 MiB           1   def run_simu(walls, source, receiver,\n",
      "     8                                                      patch_size=1, absorption=.1, scattering=1,\n",
      "     9                                                      speed_of_sound=343.26, time_step=.1, duration=.5,\n",
      "    10                                                      refl_order=3, freq=np.array([1000])):\n",
      "    11                                             # create object\n",
      "    12    374.1 MiB      0.0 MiB           1       radi = sp.DirectionalRadiosityFast.from_polygon(walls, patch_size)\n",
      "    13                                             # create directional scattering data (totally diffuse)\n",
      "    14    374.1 MiB      0.0 MiB           1       brdf_sources = pf.Coordinates(0, 0, 1, weights=1)\n",
      "    15    374.1 MiB      0.0 MiB           1       brdf_receivers = pf.Coordinates(0, 0, 1, weights=1)\n",
      "    16                                         \n",
      "    17    374.1 MiB      0.0 MiB           2       brdf = sp.brdf.create_from_scattering(\n",
      "    18    374.1 MiB      0.0 MiB           1           brdf_sources,\n",
      "    19    374.1 MiB      0.0 MiB           1           brdf_receivers,\n",
      "    20    374.1 MiB      0.0 MiB           1           pf.FrequencyData(scattering, freq),\n",
      "    21    374.1 MiB      0.0 MiB           1           pf.FrequencyData(absorption, freq))\n",
      "    22                                         \n",
      "    23                                             # set directional scattering data\n",
      "    24    374.1 MiB      0.0 MiB           2       radi.set_wall_brdf(\n",
      "    25    374.1 MiB      0.0 MiB           1           np.arange(len(walls)), brdf, brdf_sources, brdf_receivers)\n",
      "    26                                             # set air absorption\n",
      "    27    374.1 MiB      0.0 MiB           2       radi.set_air_attenuation(\n",
      "    28    374.1 MiB      0.0 MiB           2           pf.FrequencyData(\n",
      "    29    374.1 MiB      0.0 MiB           1               np.zeros_like(brdf.frequencies),\n",
      "    30    374.1 MiB      0.0 MiB           1               brdf.frequencies))\n",
      "    31                                         \n",
      "    32                                             # calculate from factors including brdfs\n",
      "    33    374.2 MiB      0.0 MiB           1       radi.bake_geometry()\n",
      "    34    374.2 MiB      0.0 MiB           1       radi.init_source_energy(source)\n",
      "    35    374.2 MiB      0.0 MiB           2       radi.calculate_energy_exchange(\n",
      "    36    374.2 MiB      0.0 MiB           1           speed_of_sound=speed_of_sound,\n",
      "    37    374.2 MiB      0.0 MiB           1           etc_time_resolution=time_step,\n",
      "    38    374.2 MiB      0.0 MiB           1           etc_duration=duration,\n",
      "    39    374.2 MiB      0.0 MiB           1           max_reflection_order=refl_order)\n",
      "    40                                         \n",
      "    41                                         \n",
      "    42    374.2 MiB      0.0 MiB           1       etc_radiosity = radi.collect_energy_receiver_mono(receivers=receiver)\n",
      "    43                                         \n",
      "    44    374.2 MiB      0.0 MiB           1       return etc_radiosity"
     ]
    }
   ],
   "source": [
    "%%mprun -f run_simu \n",
    "run_simu(walls=urban_canyon_stub(1,1,1),source=pf.Coordinates(.5,.5,.5),receiver=pf.Coordinates(.5,.5,.5))"
   ]
  },
  {
   "cell_type": "markdown",
   "metadata": {},
   "source": [
    "### run simulation"
   ]
  },
  {
   "cell_type": "code",
   "execution_count": null,
   "metadata": {},
   "outputs": [
    {
     "name": "stderr",
     "output_type": "stream",
     "text": [
      "c:\\Users\\jotag\\Documents\\dev\\sparapy\\examples\\run_simu.py:24: UserWarning: Gimbal lock detected. Setting third angle to zero since it is not possible to uniquely determine all angles.\n",
      "  radi.set_wall_brdf(\n"
     ]
    }
   ],
   "source": [
    "%%mprun -f run_simu\n",
    "etc = run_simu(walls=canyon, source=source, receiver=receiver, patch_size=5, time_step=.02, duration=1.2, refl_order=50)\n"
   ]
  },
  {
   "cell_type": "code",
   "execution_count": 20,
   "metadata": {},
   "outputs": [
    {
     "data": {
      "image/png": "[encoded data removed]",
      "text/plain": [
       "<Figure size 640x480 with 1 Axes>"
      ]
     },
     "metadata": {},
     "output_type": "display_data"
    }
   ],
   "source": [
    "plt.figure()\n",
    "\n",
    "pf.plot.time(\n",
    "    etc, dB=True, log_prefix=10,\n",
    "    label='simulated',\n",
    "    linestyle='--')\n",
    "\n",
    "plt.legend()\n",
    "plt.show()"
   ]
  },
  {
   "cell_type": "markdown",
   "metadata": {},
   "source": [
    "If the order would be increased, this would match even after 0.5s.\n"
   ]
  },
  {
   "cell_type": "code",
   "execution_count": 16,
   "metadata": {},
   "outputs": [
    {
     "name": "stdout",
     "output_type": "stream",
     "text": [
      "The watermark extension is already loaded. To reload it, use:\n",
      "  %reload_ext watermark\n",
      "Python implementation: CPython\n",
      "Python version       : 3.11.9\n",
      "IPython version      : 9.1.0\n",
      "\n",
      "Compiler    : MSC v.1938 64 bit (AMD64)\n",
      "OS          : Windows\n",
      "Release     : 10\n",
      "Machine     : AMD64\n",
      "Processor   : AMD64 Family 25 Model 68 Stepping 1, AuthenticAMD\n",
      "CPU cores   : 16\n",
      "Architecture: 64bit\n",
      "\n",
      "pyfar          : 0.7.2\n",
      "numpy          : 1.26.4\n",
      "matplotlib     : 3.10.1\n",
      "memory_profiler: 0.61.0\n",
      "sparrowpy      : 0.1.0\n",
      "\n"
     ]
    }
   ],
   "source": [
    "%load_ext watermark\n",
    "%watermark -v -m -iv"
   ]
  }
 ],
 "metadata": {
  "kernelspec": {
   "display_name": ".venv",
   "language": "python",
   "name": "python3"
  },
  "language_info": {
   "codemirror_mode": {
    "name": "ipython",
    "version": 3
   },
   "file_extension": ".py",
   "mimetype": "text/x-python",
   "name": "python",
   "nbconvert_exporter": "python",
   "pygments_lexer": "ipython3",
   "version": "3.11.9"
  }
 },
 "nbformat": 4,
 "nbformat_minor": 2
}
