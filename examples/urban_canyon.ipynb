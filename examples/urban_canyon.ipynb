{
 "cells": [
  {
   "cell_type": "markdown",
   "metadata": {},
   "source": [
    "# Urban canyon study\n",
    "\n",
    "This example shows the behavior of sparrowpy in the simulation of an urban canyon under different simulation conditions"
   ]
  },
  {
   "cell_type": "code",
   "execution_count": 1,
   "metadata": {},
   "outputs": [],
   "source": [
    "\"\"\"Test the radiosity.Radiosity module.\"\"\"\n",
    "import pyfar as pf\n",
    "import sparrowpy as sp\n",
    "import matplotlib.pyplot as plt\n",
    "from run_simu import run_simu, run_simu_mem\n",
    "import psutil\n",
    "import numpy as np\n",
    "\n",
    "%load_ext memory_profiler\n",
    "\n",
    "%matplotlib inline\n",
    "# %matplotlib ipympl"
   ]
  },
  {
   "cell_type": "markdown",
   "metadata": {},
   "source": [
    "Lets define our room and source position."
   ]
  },
  {
   "cell_type": "code",
   "execution_count": 2,
   "metadata": {},
   "outputs": [],
   "source": [
    "def urban_canyon_stub(length_x, length_y, length_z):\n",
    "    \"\"\"Create a shoebox room with the given dimensions.\n",
    "\n",
    "    Parameters\n",
    "    ----------\n",
    "    length_x : float\n",
    "        Length of the urban canyon in meters.\n",
    "    length_y : float\n",
    "        width of the urban canyon in meters.\n",
    "    length_z : float\n",
    "        height of the urban canyon in meters.\n",
    "\n",
    "    Returns\n",
    "    -------\n",
    "    room : list[geo.Polygon]\n",
    "        List of the walls of the room.\n",
    "\n",
    "    \"\"\"\n",
    "    return [\n",
    "        sp.geometry.Polygon(\n",
    "            [[0, 0, 0], [length_x, 0, 0],\n",
    "            [length_x, 0, length_z], [0, 0, length_z]],\n",
    "            [0, 0, 1], [0, 1, 0]),\n",
    "        sp.geometry.Polygon(\n",
    "            [[0, 0, 0],[0, length_y, 0],\n",
    "            [length_x, length_y, 0], [length_x, 0, 0 ]],\n",
    "            [1, 0, 0], [0, 0, 1]),\n",
    "        sp.geometry.Polygon(\n",
    "            [[0, length_y, 0], [length_x, length_y, 0],\n",
    "            [length_x, length_y, length_z], [0, length_y, length_z]],\n",
    "            [0, 0, 1], [0, -1, 0]),\n",
    "        ]"
   ]
  },
  {
   "cell_type": "code",
   "execution_count": 3,
   "metadata": {},
   "outputs": [],
   "source": [
    "# Define parameters\n",
    "X = 80\n",
    "Y = 8\n",
    "Z = 16\n",
    "\n",
    "# create geometry\n",
    "canyon = urban_canyon_stub(X, Y, Z)\n",
    "source = pf.Coordinates(35, 5, 1)\n",
    "receiver = pf.Coordinates(45, 2, 1.7)"
   ]
  },
  {
   "cell_type": "code",
   "execution_count": 4,
   "metadata": {},
   "outputs": [
    {
     "name": "stderr",
     "output_type": "stream",
     "text": [
      "d:\\Joao_Fatela\\dev\\sparrowpy\\examples\\run_simu.py:75: UserWarning: Gimbal lock detected. Setting third angle to zero since it is not possible to uniquely determine all angles.\n",
      "  radi.set_wall_brdf(\n"
     ]
    },
    {
     "data": {
      "text/plain": [
       "TimeData:\n",
       "(1, 1) channels with 5 samples"
      ]
     },
     "execution_count": 4,
     "metadata": {},
     "output_type": "execute_result"
    }
   ],
   "source": [
    "run_simu(walls=urban_canyon_stub(1,1,1),\n",
    "        source=pf.Coordinates(.5,.5,.5),\n",
    "        receiver=pf.Coordinates(.5,.5,.5),\n",
    "        patch_size=.5)"
   ]
  },
  {
   "cell_type": "markdown",
   "metadata": {},
   "source": [
    "### run simulation"
   ]
  },
  {
   "cell_type": "code",
   "execution_count": 5,
   "metadata": {},
   "outputs": [],
   "source": [
    "etc = run_simu( walls=canyon, source=source,\n",
    "                receiver=receiver, patch_size=8,\n",
    "                time_step=.002, duration=1.2,\n",
    "                refl_order=50)"
   ]
  },
  {
   "cell_type": "code",
   "execution_count": 6,
   "metadata": {},
   "outputs": [
    {
     "name": "stderr",
     "output_type": "stream",
     "text": [
      "d:\\Joao_Fatela\\dev\\sparrowpy\\examples\\run_simu.py:27: UserWarning: Gimbal lock detected. Setting third angle to zero since it is not possible to uniquely determine all angles.\n",
      "  radi.set_wall_brdf(\n"
     ]
    },
    {
     "name": "stdout",
     "output_type": "stream",
     "text": [
      "start: 405.1796875\n",
      "scene: 0.00390625\n",
      "prop: 0.00390625\n",
      "baking: 0.03515625\n",
      "cast: 0.01171875\n",
      "exch: 1.9375\n",
      "collect: 1.8515625\n",
      "total: 3.7890625\n",
      "\n",
      "0.0546875\n",
      "\n",
      "\n",
      "\n",
      "\n",
      "\n",
      "start: 408.96875\n",
      "scene: 0.0\n",
      "prop: 0.0\n",
      "baking: 0.17578125\n",
      "cast: 0.0\n",
      "exch: 0.2578125\n",
      "collect: 0.00390625\n",
      "total: 0.26171875\n",
      "\n",
      "0.17578125\n",
      "\n",
      "\n",
      "\n",
      "\n",
      "\n",
      "start: 409.23046875\n",
      "scene: 0.0\n",
      "prop: 0.0\n",
      "baking: 0.00390625\n",
      "cast: 0.01171875\n",
      "exch: -0.015625\n",
      "collect: 0.01171875\n",
      "total: -0.00390625\n",
      "\n",
      "0.015625\n",
      "\n",
      "\n",
      "\n",
      "\n",
      "\n",
      "start: 409.2265625\n",
      "scene: 0.0\n",
      "prop: 0.0\n",
      "baking: 0.03125\n",
      "cast: 0.0\n",
      "exch: 0.03125\n",
      "collect: 0.0\n",
      "total: 0.03125\n",
      "\n",
      "0.03125\n",
      "\n",
      "\n",
      "\n",
      "\n",
      "\n"
     ]
    },
    {
     "ename": "KeyboardInterrupt",
     "evalue": "",
     "output_type": "error",
     "traceback": [
      "\u001b[1;31m---------------------------------------------------------------------------\u001b[0m",
      "\u001b[1;31mKeyboardInterrupt\u001b[0m                         Traceback (most recent call last)",
      "Cell \u001b[1;32mIn[6], line 3\u001b[0m\n\u001b[0;32m      1\u001b[0m \u001b[38;5;66;03m#snapshot = tracemalloc.take_snapshot()\u001b[39;00m\n\u001b[0;32m      2\u001b[0m \u001b[38;5;28;01mfor\u001b[39;00m pat \u001b[38;5;129;01min\u001b[39;00m [\u001b[38;5;241m8\u001b[39m,\u001b[38;5;241m4\u001b[39m,\u001b[38;5;241m8\u001b[39m,\u001b[38;5;241m4\u001b[39m,\u001b[38;5;241m2\u001b[39m]:\n\u001b[1;32m----> 3\u001b[0m     mem \u001b[38;5;241m=\u001b[39m \u001b[43mrun_simu_mem\u001b[49m\u001b[43m(\u001b[49m\u001b[43m \u001b[49m\u001b[43mwalls\u001b[49m\u001b[38;5;241;43m=\u001b[39;49m\u001b[43mcanyon\u001b[49m\u001b[43m,\u001b[49m\u001b[43m \u001b[49m\u001b[43msource\u001b[49m\u001b[38;5;241;43m=\u001b[39;49m\u001b[43msource\u001b[49m\u001b[43m,\u001b[49m\n\u001b[0;32m      4\u001b[0m \u001b[43m                    \u001b[49m\u001b[43mreceiver\u001b[49m\u001b[38;5;241;43m=\u001b[39;49m\u001b[43mreceiver\u001b[49m\u001b[43m,\u001b[49m\u001b[43m \u001b[49m\u001b[43mpatch_size\u001b[49m\u001b[38;5;241;43m=\u001b[39;49m\u001b[38;5;241;43m4\u001b[39;49m\u001b[43m,\u001b[49m\n\u001b[0;32m      5\u001b[0m \u001b[43m                    \u001b[49m\u001b[43mtime_step\u001b[49m\u001b[38;5;241;43m=\u001b[39;49m\u001b[38;5;241;43m.002\u001b[39;49m\u001b[43m,\u001b[49m\u001b[43m \u001b[49m\u001b[43mduration\u001b[49m\u001b[38;5;241;43m=\u001b[39;49m\u001b[38;5;241;43m1.2\u001b[39;49m\u001b[43m,\u001b[49m\n\u001b[0;32m      6\u001b[0m \u001b[43m                    \u001b[49m\u001b[43mrefl_order\u001b[49m\u001b[38;5;241;43m=\u001b[39;49m\u001b[38;5;241;43m50\u001b[39;49m\u001b[43m)\u001b[49m\n\u001b[0;32m      7\u001b[0m     l\u001b[38;5;241m=\u001b[39m[\u001b[38;5;124m\"\u001b[39m\u001b[38;5;124mstart\u001b[39m\u001b[38;5;124m\"\u001b[39m,\u001b[38;5;124m\"\u001b[39m\u001b[38;5;124mscene\u001b[39m\u001b[38;5;124m\"\u001b[39m,\u001b[38;5;124m\"\u001b[39m\u001b[38;5;124mprop\u001b[39m\u001b[38;5;124m\"\u001b[39m,\u001b[38;5;124m\"\u001b[39m\u001b[38;5;124mbaking\u001b[39m\u001b[38;5;124m\"\u001b[39m,\u001b[38;5;124m\"\u001b[39m\u001b[38;5;124mcast\u001b[39m\u001b[38;5;124m\"\u001b[39m,\u001b[38;5;124m\"\u001b[39m\u001b[38;5;124mexch\u001b[39m\u001b[38;5;124m\"\u001b[39m,\u001b[38;5;124m\"\u001b[39m\u001b[38;5;124mcollect\u001b[39m\u001b[38;5;124m\"\u001b[39m,\u001b[38;5;124m\"\u001b[39m\u001b[38;5;124mtotal\u001b[39m\u001b[38;5;124m\"\u001b[39m]\n\u001b[0;32m      8\u001b[0m     \u001b[38;5;28;01mfor\u001b[39;00m i \u001b[38;5;129;01min\u001b[39;00m \u001b[38;5;28mrange\u001b[39m(\u001b[38;5;28mlen\u001b[39m(mem)):\n",
      "File \u001b[1;32md:\\Joao_Fatela\\dev\\sparrowpy\\examples\\run_simu.py:40\u001b[0m, in \u001b[0;36mrun_simu_mem\u001b[1;34m(walls, source, receiver, patch_size, absorption, scattering, speed_of_sound, time_step, duration, refl_order, freq)\u001b[0m\n\u001b[0;32m     38\u001b[0m radi\u001b[38;5;241m.\u001b[39minit_source_energy(source)\n\u001b[0;32m     39\u001b[0m mcast \u001b[38;5;241m=\u001b[39m  psutil\u001b[38;5;241m.\u001b[39mProcess()\u001b[38;5;241m.\u001b[39mmemory_info()\u001b[38;5;241m.\u001b[39mrss \u001b[38;5;241m/\u001b[39m \u001b[38;5;241m1024\u001b[39m\u001b[38;5;241m*\u001b[39m\u001b[38;5;241m*\u001b[39m\u001b[38;5;241m2\u001b[39m \u001b[38;5;241m-\u001b[39m mbaking \u001b[38;5;241m-\u001b[39m m0\n\u001b[1;32m---> 40\u001b[0m \u001b[43mradi\u001b[49m\u001b[38;5;241;43m.\u001b[39;49m\u001b[43mcalculate_energy_exchange\u001b[49m\u001b[43m(\u001b[49m\n\u001b[0;32m     41\u001b[0m \u001b[43m    \u001b[49m\u001b[43mspeed_of_sound\u001b[49m\u001b[38;5;241;43m=\u001b[39;49m\u001b[43mspeed_of_sound\u001b[49m\u001b[43m,\u001b[49m\n\u001b[0;32m     42\u001b[0m \u001b[43m    \u001b[49m\u001b[43metc_time_resolution\u001b[49m\u001b[38;5;241;43m=\u001b[39;49m\u001b[43mtime_step\u001b[49m\u001b[43m,\u001b[49m\n\u001b[0;32m     43\u001b[0m \u001b[43m    \u001b[49m\u001b[43metc_duration\u001b[49m\u001b[38;5;241;43m=\u001b[39;49m\u001b[43mduration\u001b[49m\u001b[43m,\u001b[49m\n\u001b[0;32m     44\u001b[0m \u001b[43m    \u001b[49m\u001b[43mmax_reflection_order\u001b[49m\u001b[38;5;241;43m=\u001b[39;49m\u001b[43mrefl_order\u001b[49m\u001b[43m)\u001b[49m\n\u001b[0;32m     45\u001b[0m mexchange \u001b[38;5;241m=\u001b[39m  psutil\u001b[38;5;241m.\u001b[39mProcess()\u001b[38;5;241m.\u001b[39mmemory_info()\u001b[38;5;241m.\u001b[39mrss \u001b[38;5;241m/\u001b[39m \u001b[38;5;241m1024\u001b[39m\u001b[38;5;241m*\u001b[39m\u001b[38;5;241m*\u001b[39m\u001b[38;5;241m2\u001b[39m \u001b[38;5;241m-\u001b[39m mcast \u001b[38;5;241m-\u001b[39m m0\n\u001b[0;32m     48\u001b[0m etc_radiosity \u001b[38;5;241m=\u001b[39m radi\u001b[38;5;241m.\u001b[39mcollect_energy_receiver_mono(receivers\u001b[38;5;241m=\u001b[39mreceiver)\n",
      "File \u001b[1;32mD:\\Joao_Fatela\\dev\\sparrowpy\\sparrowpy\\classes\\RadiosityFast.py:489\u001b[0m, in \u001b[0;36mDirectionalRadiosityFast.calculate_energy_exchange\u001b[1;34m(self, speed_of_sound, etc_time_resolution, etc_duration, max_reflection_order, recalculate)\u001b[0m\n\u001b[0;32m    483\u001b[0m         \u001b[38;5;28mself\u001b[39m\u001b[38;5;241m.\u001b[39m_energy_exchange_etc \u001b[38;5;241m=\u001b[39m \\\n\u001b[0;32m    484\u001b[0m             _energy_exchange_init_energy(\n\u001b[0;32m    485\u001b[0m                 n_samples, energy_0_dir, distance_0,\n\u001b[0;32m    486\u001b[0m                 speed_of_sound, etc_time_resolution,\n\u001b[0;32m    487\u001b[0m                 )\n\u001b[0;32m    488\u001b[0m     \u001b[38;5;28;01melse\u001b[39;00m:\n\u001b[1;32m--> 489\u001b[0m         \u001b[38;5;28mself\u001b[39m\u001b[38;5;241m.\u001b[39m_energy_exchange_etc \u001b[38;5;241m=\u001b[39m \u001b[43m_energy_exchange\u001b[49m\u001b[43m(\u001b[49m\n\u001b[0;32m    490\u001b[0m \u001b[43m            \u001b[49m\u001b[43mn_samples\u001b[49m\u001b[43m,\u001b[49m\u001b[43m \u001b[49m\u001b[43menergy_0_dir\u001b[49m\u001b[43m,\u001b[49m\u001b[43m \u001b[49m\u001b[43mdistance_0\u001b[49m\u001b[43m,\u001b[49m\u001b[43m \u001b[49m\u001b[43mdistance_i_j\u001b[49m\u001b[43m,\u001b[49m\n\u001b[0;32m    491\u001b[0m \u001b[43m            \u001b[49m\u001b[38;5;28;43mself\u001b[39;49m\u001b[38;5;241;43m.\u001b[39;49m\u001b[43m_form_factors_tilde\u001b[49m\u001b[43m,\u001b[49m\n\u001b[0;32m    492\u001b[0m \u001b[43m            \u001b[49m\u001b[43mspeed_of_sound\u001b[49m\u001b[43m,\u001b[49m\u001b[43m \u001b[49m\u001b[43metc_time_resolution\u001b[49m\u001b[43m,\u001b[49m\n\u001b[0;32m    493\u001b[0m \u001b[43m            \u001b[49m\u001b[43mmax_reflection_order\u001b[49m\u001b[43m,\u001b[49m\n\u001b[0;32m    494\u001b[0m \u001b[43m            \u001b[49m\u001b[38;5;28;43mself\u001b[39;49m\u001b[38;5;241;43m.\u001b[39;49m\u001b[43m_visible_patches\u001b[49m\u001b[43m)\u001b[49m\n\u001b[0;32m    496\u001b[0m \u001b[38;5;28mself\u001b[39m\u001b[38;5;241m.\u001b[39m_etc_time_resolution \u001b[38;5;241m=\u001b[39m \u001b[38;5;28mfloat\u001b[39m(etc_time_resolution)\n\u001b[0;32m    497\u001b[0m \u001b[38;5;28mself\u001b[39m\u001b[38;5;241m.\u001b[39m_speed_of_sound \u001b[38;5;241m=\u001b[39m \u001b[38;5;28mfloat\u001b[39m(speed_of_sound)\n",
      "\u001b[1;31mKeyboardInterrupt\u001b[0m: "
     ]
    }
   ],
   "source": [
    "#snapshot = tracemalloc.take_snapshot()\n",
    "for pat in [8,4,8,4,2]:\n",
    "    etc,mem = run_simu_mem( walls=canyon, source=source,\n",
    "                    receiver=receiver, patch_size=4,\n",
    "                    time_step=.002, duration=1.2,\n",
    "                    refl_order=50)\n",
    "    l=[\"start\",\"scene\",\"prop\",\"baking\",\"cast\",\"exch\",\"collect\",\"total\"]\n",
    "    for i in range(len(mem)):\n",
    "        print(f'{l[i]}: {mem[i]}')\n",
    "    print()\n",
    "    print(np.sum(mem[1:len(mem)-1])-mem[-1])\n",
    "    print(\"\\n\\n\\n\\n\")"
   ]
  },
  {
   "cell_type": "code",
   "execution_count": null,
   "metadata": {},
   "outputs": [
    {
     "data": {
      "image/png": "[encoded data removed]",
      "text/plain": [
       "<Figure size 640x480 with 1 Axes>"
      ]
     },
     "metadata": {},
     "output_type": "display_data"
    }
   ],
   "source": [
    "plt.figure()\n",
    "\n",
    "pf.plot.time(\n",
    "    etc, dB=True, log_prefix=10,\n",
    "    label='simulated',\n",
    "    linestyle='--')\n",
    "\n",
    "plt.legend()\n",
    "plt.show()"
   ]
  },
  {
   "cell_type": "markdown",
   "metadata": {},
   "source": [
    "If the order would be increased, this would match even after 0.5s.\n"
   ]
  },
  {
   "cell_type": "code",
   "execution_count": null,
   "metadata": {},
   "outputs": [
    {
     "name": "stdout",
     "output_type": "stream",
     "text": [
      "Python implementation: CPython\n",
      "Python version       : 3.11.9\n",
      "IPython version      : 8.31.0\n",
      "\n",
      "Compiler    : MSC v.1938 64 bit (AMD64)\n",
      "OS          : Windows\n",
      "Release     : 10\n",
      "Machine     : AMD64\n",
      "Processor   : Intel64 Family 6 Model 158 Stepping 13, GenuineIntel\n",
      "CPU cores   : 8\n",
      "Architecture: 64bit\n",
      "\n",
      "sparrowpy : 0.1.0\n",
      "matplotlib: 3.10.0\n",
      "pyfar     : 0.7.1\n",
      "psutil    : 6.1.1\n",
      "numpy     : 1.26.4\n",
      "\n"
     ]
    }
   ],
   "source": [
    "%load_ext watermark\n",
    "%watermark -v -m -iv"
   ]
  }
 ],
 "metadata": {
  "kernelspec": {
   "display_name": ".venv",
   "language": "python",
   "name": "python3"
  },
  "language_info": {
   "codemirror_mode": {
    "name": "ipython",
    "version": 3
   },
   "file_extension": ".py",
   "mimetype": "text/x-python",
   "name": "python",
   "nbconvert_exporter": "python",
   "pygments_lexer": "ipython3",
   "version": "3.11.9"
  }
 },
 "nbformat": 4,
 "nbformat_minor": 2
}
