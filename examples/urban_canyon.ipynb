{
 "cells": [
  {
   "cell_type": "markdown",
   "metadata": {},
   "source": [
    "# Urban canyon study\n",
    "\n",
    "This example shows the behavior of sparrowpy in the simulation of an urban canyon under different simulation conditions"
   ]
  },
  {
   "cell_type": "code",
   "execution_count": null,
   "metadata": {},
   "outputs": [],
   "source": [
    "\"\"\"Test the radiosity.Radiosity module.\"\"\"\n",
    "import pyfar as pf\n",
    "import sparrowpy as sp\n",
    "from run_simu import run_simu, run_simu_mem\n",
    "import time\n",
    "import json\n",
    "\n",
    "%load_ext memory_profiler\n",
    "\n",
    "%matplotlib inline\n",
    "# %matplotlib ipympl\n",
    "\n",
    "basepath=\"C:\\\\Users\\\\WS2080-01\\\\OneDrive - Universita\\' degli Studi della Campania Luigi Vanvitelli\\\\jasapaper\\\\\""
   ]
  },
  {
   "cell_type": "markdown",
   "metadata": {},
   "source": [
    "Lets define our room and source position."
   ]
  },
  {
   "cell_type": "code",
   "execution_count": 2,
   "metadata": {},
   "outputs": [],
   "source": [
    "def urban_canyon_stub(length_x, length_y, length_z):\n",
    "    \"\"\"Create a shoebox room with the given dimensions.\n",
    "\n",
    "    Parameters\n",
    "    ----------\n",
    "    length_x : float\n",
    "        Length of the urban canyon in meters.\n",
    "    length_y : float\n",
    "        width of the urban canyon in meters.\n",
    "    length_z : float\n",
    "        height of the urban canyon in meters.\n",
    "\n",
    "    Returns\n",
    "    -------\n",
    "    room : list[geo.Polygon]\n",
    "        List of the walls of the room.\n",
    "\n",
    "    \"\"\"\n",
    "    return [\n",
    "        sp.geometry.Polygon(\n",
    "            [[0, 0, 0], [length_x, 0, 0],\n",
    "            [length_x, 0, length_z], [0, 0, length_z]],\n",
    "            [0, 0, 1], [0, 1, 0]),\n",
    "        sp.geometry.Polygon(\n",
    "            [[0, 0, 0],[0, length_y, 0],\n",
    "            [length_x, length_y, 0], [length_x, 0, 0 ]],\n",
    "            [1, 0, 0], [0, 0, 1]),\n",
    "        sp.geometry.Polygon(\n",
    "            [[0, length_y, 0], [length_x, length_y, 0],\n",
    "            [length_x, length_y, length_z], [0, length_y, length_z]],\n",
    "            [0, 0, 1], [0, -1, 0]),\n",
    "        ]"
   ]
  },
  {
   "cell_type": "code",
   "execution_count": 3,
   "metadata": {},
   "outputs": [],
   "source": [
    "# Define parameters\n",
    "X = 90\n",
    "Y = 12\n",
    "Z = 6\n",
    "\n",
    "# create geometry\n",
    "canyon = urban_canyon_stub(X, Y, Z)\n",
    "source = pf.Coordinates(20, 6, 1)\n",
    "receiver = pf.Coordinates(70, 6, 2)"
   ]
  },
  {
   "cell_type": "code",
   "execution_count": 4,
   "metadata": {},
   "outputs": [
    {
     "name": "stderr",
     "output_type": "stream",
     "text": [
      "d:\\Joao_Fatela\\dev\\sparrowpy\\examples\\run_simu.py:80: PyfarDeprecationWarning: 'This function will be deprecated in pyfar 0.8.0 in favor of spharpy.samplings.equal_angle.'\n",
      "  samples = pf.samplings.sph_equal_angle(delta_angles=res)\n",
      "d:\\Joao_Fatela\\dev\\sparrowpy\\examples\\run_simu.py:97: UserWarning: Gimbal lock detected. Setting third angle to zero since it is not possible to uniquely determine all angles.\n",
      "  radi.set_wall_brdf(\n"
     ]
    },
    {
     "data": {
      "text/plain": [
       "TimeData:\n",
       "(1, 1) channels with 5 samples"
      ]
     },
     "execution_count": 4,
     "metadata": {},
     "output_type": "execute_result"
    }
   ],
   "source": [
    "run_simu(walls=urban_canyon_stub(1,1,1),\n",
    "        source=pf.Coordinates(.5,.5,.5),\n",
    "        receiver=pf.Coordinates(.5,.5,.5),\n",
    "        patch_size=1)"
   ]
  },
  {
   "cell_type": "markdown",
   "metadata": {},
   "source": [
    "### run simulation"
   ]
  },
  {
   "cell_type": "code",
   "execution_count": 5,
   "metadata": {},
   "outputs": [],
   "source": [
    "time_steps = [1/50,1/100,1/250,1/500,1/1000]\n",
    "patch_sizes = [6,3,2,1.5]\n",
    "refl_orders = [1,20,40,60,80,100]\n",
    "angl_res =[60,45,30,15,10,6]"
   ]
  },
  {
   "cell_type": "code",
   "execution_count": 6,
   "metadata": {},
   "outputs": [],
   "source": [
    "# baseline\n",
    "pss = 6\n",
    "refll = 40\n",
    "tss=1/100\n",
    "angg=30\n",
    "\n",
    "out={\"baseline\":{\"patch_size\":[],\n",
    "                 \"reflection_order\":[],\n",
    "                 \"time_step\":[],\n",
    "                 \"brdf_resolution\":[]},\n",
    "     \"reflection_order\":{\"mem\":[],\n",
    "                  \"t\":[],\n",
    "                  \"edc\":[],\n",
    "                  \"data\":[]},\n",
    "     \"brdf_resolution\":{\"mem\":[],\n",
    "                  \"t\":[],\n",
    "                  \"edc\":[],\n",
    "                  \"data\":[]},\n",
    "     \"patch_size\":{\"mem\":[],\n",
    "                  \"t\":[],\n",
    "                  \"edc\":[],\n",
    "                  \"data\":[]},\n",
    "     \"time_step\":{\"mem\":[],\n",
    "                  \"t\":[],\n",
    "                  \"edc\":[],\n",
    "                  \"data\":[]},\n",
    "                  }\n",
    "\n",
    "out[\"baseline\"][\"patch_size\"]=pss\n",
    "\n",
    "out[\"baseline\"][\"reflection_order\"]=refll\n",
    "\n",
    "out[\"baseline\"][\"time_step\"]=tss\n",
    "\n",
    "out[\"baseline\"][\"brdf_resolution\"]=angg"
   ]
  },
  {
   "cell_type": "code",
   "execution_count": null,
   "metadata": {},
   "outputs": [
    {
     "name": "stderr",
     "output_type": "stream",
     "text": [
      "d:\\Joao_Fatela\\dev\\sparrowpy\\examples\\run_simu.py:80: PyfarDeprecationWarning: 'This function will be deprecated in pyfar 0.8.0 in favor of spharpy.samplings.equal_angle.'\n",
      "  samples = pf.samplings.sph_equal_angle(delta_angles=res)\n"
     ]
    },
    {
     "name": "stderr",
     "output_type": "stream",
     "text": [
      "d:\\Joao_Fatela\\dev\\sparrowpy\\examples\\run_simu.py:97: UserWarning: Gimbal lock detected. Setting third angle to zero since it is not possible to uniquely determine all angles.\n",
      "  radi.set_wall_brdf(\n",
      "d:\\Joao_Fatela\\dev\\sparrowpy\\examples\\run_simu.py:80: PyfarDeprecationWarning: 'This function will be deprecated in pyfar 0.8.0 in favor of spharpy.samplings.equal_angle.'\n",
      "  samples = pf.samplings.sph_equal_angle(delta_angles=res)\n",
      "d:\\Joao_Fatela\\dev\\sparrowpy\\examples\\run_simu.py:97: UserWarning: Gimbal lock detected. Setting third angle to zero since it is not possible to uniquely determine all angles.\n",
      "  radi.set_wall_brdf(\n"
     ]
    },
    {
     "ename": "KeyboardInterrupt",
     "evalue": "",
     "output_type": "error",
     "traceback": [
      "\u001b[1;31m---------------------------------------------------------------------------\u001b[0m",
      "\u001b[1;31mKeyboardInterrupt\u001b[0m                         Traceback (most recent call last)",
      "Cell \u001b[1;32mIn[7], line 5\u001b[0m\n\u001b[0;32m      3\u001b[0m \u001b[38;5;28;01mfor\u001b[39;00m ts \u001b[38;5;129;01min\u001b[39;00m time_steps:\n\u001b[0;32m      4\u001b[0m     t0 \u001b[38;5;241m=\u001b[39m time\u001b[38;5;241m.\u001b[39mtime()\n\u001b[1;32m----> 5\u001b[0m     edc \u001b[38;5;241m=\u001b[39m \u001b[43mrun_simu\u001b[49m\u001b[43m(\u001b[49m\u001b[43m \u001b[49m\u001b[43mwalls\u001b[49m\u001b[38;5;241;43m=\u001b[39;49m\u001b[43mcanyon\u001b[49m\u001b[43m,\u001b[49m\u001b[43m \u001b[49m\u001b[43msource\u001b[49m\u001b[38;5;241;43m=\u001b[39;49m\u001b[43msource\u001b[49m\u001b[43m,\u001b[49m\n\u001b[0;32m      6\u001b[0m \u001b[43m                    \u001b[49m\u001b[43mreceiver\u001b[49m\u001b[38;5;241;43m=\u001b[39;49m\u001b[43mreceiver\u001b[49m\u001b[43m,\u001b[49m\u001b[43m \u001b[49m\u001b[43mpatch_size\u001b[49m\u001b[38;5;241;43m=\u001b[39;49m\u001b[43mpss\u001b[49m\u001b[43m,\u001b[49m\n\u001b[0;32m      7\u001b[0m \u001b[43m                    \u001b[49m\u001b[43mtime_step\u001b[49m\u001b[38;5;241;43m=\u001b[39;49m\u001b[43mts\u001b[49m\u001b[43m,\u001b[49m\u001b[43m \u001b[49m\u001b[43mduration\u001b[49m\u001b[38;5;241;43m=\u001b[39;49m\u001b[38;5;241;43m1.2\u001b[39;49m\u001b[43m,\u001b[49m\n\u001b[0;32m      8\u001b[0m \u001b[43m                    \u001b[49m\u001b[43mrefl_order\u001b[49m\u001b[38;5;241;43m=\u001b[39;49m\u001b[43mrefll\u001b[49m\u001b[43m,\u001b[49m\u001b[43m \u001b[49m\u001b[43mres\u001b[49m\u001b[38;5;241;43m=\u001b[39;49m\u001b[43mangg\u001b[49m\u001b[43m)\u001b[49m\n\u001b[0;32m      9\u001b[0m     out[\u001b[38;5;124m\"\u001b[39m\u001b[38;5;124mtime_step\u001b[39m\u001b[38;5;124m\"\u001b[39m][\u001b[38;5;124m\"\u001b[39m\u001b[38;5;124medc\u001b[39m\u001b[38;5;124m\"\u001b[39m]\u001b[38;5;241m=\u001b[39medc\u001b[38;5;241m.\u001b[39mtime\u001b[38;5;241m.\u001b[39mtolist()\n\u001b[0;32m     10\u001b[0m     out[\u001b[38;5;124m\"\u001b[39m\u001b[38;5;124mtime_step\u001b[39m\u001b[38;5;124m\"\u001b[39m][\u001b[38;5;124m\"\u001b[39m\u001b[38;5;124mt\u001b[39m\u001b[38;5;124m\"\u001b[39m]\u001b[38;5;241m.\u001b[39mappend(time\u001b[38;5;241m.\u001b[39mtime()\u001b[38;5;241m-\u001b[39mt0)\n",
      "File \u001b[1;32md:\\Joao_Fatela\\dev\\sparrowpy\\examples\\run_simu.py:108\u001b[0m, in \u001b[0;36mrun_simu\u001b[1;34m(walls, source, receiver, patch_size, absorption, scattering, speed_of_sound, time_step, duration, refl_order, freq, res)\u001b[0m\n\u001b[0;32m    106\u001b[0m radi\u001b[38;5;241m.\u001b[39mbake_geometry()\n\u001b[0;32m    107\u001b[0m radi\u001b[38;5;241m.\u001b[39minit_source_energy(source)\n\u001b[1;32m--> 108\u001b[0m \u001b[43mradi\u001b[49m\u001b[38;5;241;43m.\u001b[39;49m\u001b[43mcalculate_energy_exchange\u001b[49m\u001b[43m(\u001b[49m\n\u001b[0;32m    109\u001b[0m \u001b[43m    \u001b[49m\u001b[43mspeed_of_sound\u001b[49m\u001b[38;5;241;43m=\u001b[39;49m\u001b[43mspeed_of_sound\u001b[49m\u001b[43m,\u001b[49m\n\u001b[0;32m    110\u001b[0m \u001b[43m    \u001b[49m\u001b[43metc_time_resolution\u001b[49m\u001b[38;5;241;43m=\u001b[39;49m\u001b[43mtime_step\u001b[49m\u001b[43m,\u001b[49m\n\u001b[0;32m    111\u001b[0m \u001b[43m    \u001b[49m\u001b[43metc_duration\u001b[49m\u001b[38;5;241;43m=\u001b[39;49m\u001b[43mduration\u001b[49m\u001b[43m,\u001b[49m\n\u001b[0;32m    112\u001b[0m \u001b[43m    \u001b[49m\u001b[43mmax_reflection_order\u001b[49m\u001b[38;5;241;43m=\u001b[39;49m\u001b[43mrefl_order\u001b[49m\u001b[43m)\u001b[49m\n\u001b[0;32m    114\u001b[0m etc_radiosity \u001b[38;5;241m=\u001b[39m radi\u001b[38;5;241m.\u001b[39mcollect_energy_receiver_mono(receivers\u001b[38;5;241m=\u001b[39mreceiver)\n\u001b[0;32m    116\u001b[0m \u001b[38;5;28;01mreturn\u001b[39;00m etc_radiosity\n",
      "File \u001b[1;32mD:\\Joao_Fatela\\dev\\sparrowpy\\sparrowpy\\classes\\RadiosityFast.py:489\u001b[0m, in \u001b[0;36mDirectionalRadiosityFast.calculate_energy_exchange\u001b[1;34m(self, speed_of_sound, etc_time_resolution, etc_duration, max_reflection_order, recalculate)\u001b[0m\n\u001b[0;32m    483\u001b[0m         \u001b[38;5;28mself\u001b[39m\u001b[38;5;241m.\u001b[39m_energy_exchange_etc \u001b[38;5;241m=\u001b[39m \\\n\u001b[0;32m    484\u001b[0m             _energy_exchange_init_energy(\n\u001b[0;32m    485\u001b[0m                 n_samples, energy_0_dir, distance_0,\n\u001b[0;32m    486\u001b[0m                 speed_of_sound, etc_time_resolution,\n\u001b[0;32m    487\u001b[0m                 )\n\u001b[0;32m    488\u001b[0m     \u001b[38;5;28;01melse\u001b[39;00m:\n\u001b[1;32m--> 489\u001b[0m         \u001b[38;5;28mself\u001b[39m\u001b[38;5;241m.\u001b[39m_energy_exchange_etc \u001b[38;5;241m=\u001b[39m \u001b[43m_energy_exchange\u001b[49m\u001b[43m(\u001b[49m\n\u001b[0;32m    490\u001b[0m \u001b[43m            \u001b[49m\u001b[43mn_samples\u001b[49m\u001b[43m,\u001b[49m\u001b[43m \u001b[49m\u001b[43menergy_0_dir\u001b[49m\u001b[43m,\u001b[49m\u001b[43m \u001b[49m\u001b[43mdistance_0\u001b[49m\u001b[43m,\u001b[49m\u001b[43m \u001b[49m\u001b[43mdistance_i_j\u001b[49m\u001b[43m,\u001b[49m\n\u001b[0;32m    491\u001b[0m \u001b[43m            \u001b[49m\u001b[38;5;28;43mself\u001b[39;49m\u001b[38;5;241;43m.\u001b[39;49m\u001b[43m_form_factors_tilde\u001b[49m\u001b[43m,\u001b[49m\n\u001b[0;32m    492\u001b[0m \u001b[43m            \u001b[49m\u001b[43mspeed_of_sound\u001b[49m\u001b[43m,\u001b[49m\u001b[43m \u001b[49m\u001b[43metc_time_resolution\u001b[49m\u001b[43m,\u001b[49m\n\u001b[0;32m    493\u001b[0m \u001b[43m            \u001b[49m\u001b[43mmax_reflection_order\u001b[49m\u001b[43m,\u001b[49m\n\u001b[0;32m    494\u001b[0m \u001b[43m            \u001b[49m\u001b[38;5;28;43mself\u001b[39;49m\u001b[38;5;241;43m.\u001b[39;49m\u001b[43m_visible_patches\u001b[49m\u001b[43m)\u001b[49m\n\u001b[0;32m    496\u001b[0m \u001b[38;5;28mself\u001b[39m\u001b[38;5;241m.\u001b[39m_etc_time_resolution \u001b[38;5;241m=\u001b[39m \u001b[38;5;28mfloat\u001b[39m(etc_time_resolution)\n\u001b[0;32m    497\u001b[0m \u001b[38;5;28mself\u001b[39m\u001b[38;5;241m.\u001b[39m_speed_of_sound \u001b[38;5;241m=\u001b[39m \u001b[38;5;28mfloat\u001b[39m(speed_of_sound)\n",
      "File \u001b[1;32mD:\\Joao_Fatela\\dev\\sparrowpy\\sparrowpy\\classes\\RadiosityFast.py:988\u001b[0m, in \u001b[0;36m_energy_exchange\u001b[1;34m(n_samples, energy_0_directivity, distance_0, distance_ij, form_factors_tilde, speed_of_sound, histogram_time_resolution, max_order, visible_patches)\u001b[0m\n\u001b[0;32m    985\u001b[0m n_delay_samples \u001b[38;5;241m=\u001b[39m \u001b[38;5;28mint\u001b[39m(\n\u001b[0;32m    986\u001b[0m     distance_ij[i, j]\u001b[38;5;241m/\u001b[39mspeed_of_sound\u001b[38;5;241m/\u001b[39mhistogram_time_resolution)\n\u001b[0;32m    987\u001b[0m \u001b[38;5;28;01mif\u001b[39;00m n_delay_samples \u001b[38;5;241m>\u001b[39m \u001b[38;5;241m0\u001b[39m:\n\u001b[1;32m--> 988\u001b[0m     E_matrix[current_index, j, :, :, n_delay_samples:] \u001b[38;5;241m+\u001b[39m\u001b[38;5;241m=\u001b[39m \\\n\u001b[0;32m    989\u001b[0m         form_factors_tilde[i, j] \u001b[38;5;241m*\u001b[39m E_matrix[\n\u001b[0;32m    990\u001b[0m             current_index\u001b[38;5;241m-\u001b[39m\u001b[38;5;241m1\u001b[39m, i, :, :, :\u001b[38;5;241m-\u001b[39mn_delay_samples]\n\u001b[0;32m    991\u001b[0m \u001b[38;5;28;01melse\u001b[39;00m:\n\u001b[0;32m    992\u001b[0m     E_matrix[current_index, j, :, :, :] \u001b[38;5;241m+\u001b[39m\u001b[38;5;241m=\u001b[39m form_factors_tilde[\n\u001b[0;32m    993\u001b[0m         i, j] \u001b[38;5;241m*\u001b[39m E_matrix[current_index\u001b[38;5;241m-\u001b[39m\u001b[38;5;241m1\u001b[39m, i, :, :, :]\n",
      "\u001b[1;31mKeyboardInterrupt\u001b[0m: "
     ]
    }
   ],
   "source": [
    "# time stepping\n",
    "\n",
    "for ts in time_steps:\n",
    "    t0 = time.time()\n",
    "    edc = run_simu( walls=canyon, source=source,\n",
    "                    receiver=receiver, patch_size=pss,\n",
    "                    time_step=ts, duration=1.2,\n",
    "                    refl_order=refll, res=angg)\n",
    "    out[\"time_step\"][\"edc\"]=edc.time.tolist()\n",
    "    out[\"time_step\"][\"t\"].append(time.time()-t0)\n",
    "out[\"time_step\"][\"data\"]=time_steps\n",
    "\n",
    "with open(basepath+'urban_canyon_no_mem.json', 'w') as fp:\n",
    "    json.dump(out, fp)\n"
   ]
  },
  {
   "cell_type": "code",
   "execution_count": null,
   "metadata": {},
   "outputs": [],
   "source": [
    "# reflection order\n",
    "\n",
    "for refl in refl_orders:\n",
    "    t0 = time.time()\n",
    "    edc = run_simu( walls=canyon, source=source,\n",
    "                    receiver=receiver, patch_size=pss,\n",
    "                    time_step=tss, duration=1.2,\n",
    "                    refl_order=refl, res=angg)\n",
    "    out[\"reflection_order\"][\"edc\"]=edc.time.tolist()\n",
    "    out[\"reflection_order\"][\"t\"].append(time.time()-t0)\n",
    "out[\"reflection_order\"][\"data\"]=refl_orders\n",
    "\n",
    "with open(basepath+'urban_canyon_no_mem.json', 'w') as fp:\n",
    "    json.dump(out, fp)\n",
    "\n"
   ]
  },
  {
   "cell_type": "code",
   "execution_count": null,
   "metadata": {},
   "outputs": [],
   "source": [
    "# angular resolution\n",
    "\n",
    "for ang in angl_res:\n",
    "    t0 = time.time()\n",
    "    edc = run_simu( walls=canyon, source=source,\n",
    "                    receiver=receiver, patch_size=pss,\n",
    "                    time_step=tss, duration=1.2,\n",
    "                    refl_order=refll, res=ang)\n",
    "    out[\"brdf_resolution\"][\"edc\"]=edc.time.tolist()\n",
    "    out[\"brdf_resolution\"][\"t\"].append(time.time()-t0)\n",
    "out[\"brdf_resolution\"][\"data\"]=angl_res"
   ]
  },
  {
   "cell_type": "code",
   "execution_count": null,
   "metadata": {},
   "outputs": [],
   "source": [
    "with open(basepath+'urban_canyon_no_mem.json', 'w') as fp:\n",
    "    json.dump(out, fp)"
   ]
  },
  {
   "cell_type": "code",
   "execution_count": null,
   "metadata": {},
   "outputs": [],
   "source": [
    "# patch sizes\n",
    "\n",
    "for pat in patch_sizes:\n",
    "    t0 = time.time()\n",
    "    edc = run_simu( walls=canyon, source=source,\n",
    "                    receiver=receiver, patch_size=pat,\n",
    "                    time_step=tss, duration=1.2,\n",
    "                    refl_order=refll, res=angg )\n",
    "    out[\"patch_size\"][\"edc\"] = edc.time.tolist()\n",
    "    out[\"patch_size\"][\"t\"].append(time.time()-t0)\n",
    "out[\"patch_size\"][\"data\"]=patch_sizes\n"
   ]
  },
  {
   "cell_type": "code",
   "execution_count": null,
   "metadata": {},
   "outputs": [],
   "source": [
    "with open(basepath+'urban_canyon_no_mem.json', 'w') as fp:\n",
    "    json.dump(out, fp)"
   ]
  },
  {
   "cell_type": "code",
   "execution_count": null,
   "metadata": {},
   "outputs": [
    {
     "name": "stderr",
     "output_type": "stream",
     "text": [
      "d:\\Joao_Fatela\\dev\\sparrowpy\\examples\\run_simu.py:18: PyfarDeprecationWarning: 'This function will be deprecated in pyfar 0.8.0 in favor of spharpy.samplings.equal_angle.'\n",
      "  samples = pf.samplings.sph_equal_angle(delta_angles=res)\n",
      "d:\\Joao_Fatela\\dev\\sparrowpy\\examples\\run_simu.py:35: UserWarning: Gimbal lock detected. Setting third angle to zero since it is not possible to uniquely determine all angles.\n",
      "  radi.set_wall_brdf(\n"
     ]
    },
    {
     "name": "stdout",
     "output_type": "stream",
     "text": [
      "ts done\n",
      "refl done\n",
      "ang done\n"
     ]
    }
   ],
   "source": [
    "# memory\n",
    "for ts in time_steps:\n",
    "    out[\"time_step\"][\"mem\"].append(run_simu_mem( walls=canyon, source=source,\n",
    "                    receiver=receiver, patch_size=pss,\n",
    "                    time_step=ts, duration=1.2,\n",
    "                    refl_order=refll, res=angg))\n",
    "print(\"ts done\")\n",
    "with open(basepath+'urban_canyon_with_mem.json', 'w') as fp:\n",
    "    json.dump(out, fp)\n",
    "for refl in refl_orders:\n",
    "    out[\"reflection_order\"][\"mem\"].append(run_simu_mem( walls=canyon, source=source,\n",
    "                    receiver=receiver, patch_size=pss,\n",
    "                    time_step=tss, duration=1.2,\n",
    "                    refl_order=refl, res=angg))\n",
    "print(\"refl done\")\n",
    "with open(basepath+'urban_canyon_with_mem.json', 'w') as fp:\n",
    "    json.dump(out, fp)\n",
    "for ang in angl_res:\n",
    "    out[\"brdf_resolution\"][\"mem\"].append(run_simu_mem( walls=canyon, source=source,\n",
    "                    receiver=receiver, patch_size=pss,\n",
    "                    time_step=tss, duration=1.2,\n",
    "                    refl_order=refll, res=ang))\n",
    "print(\"ang done\")\n",
    "with open(basepath+'urban_canyon_with_mem.json', 'w') as fp:\n",
    "    json.dump(out, fp)\n"
   ]
  },
  {
   "cell_type": "code",
   "execution_count": null,
   "metadata": {},
   "outputs": [],
   "source": [
    "for pat in patch_sizes:\n",
    "    out[\"patch_size\"][\"mem\"].append(run_simu_mem( walls=canyon, source=source,\n",
    "                    receiver=receiver, patch_size=pat,\n",
    "                    time_step=tss, duration=1.2,\n",
    "                    refl_order=refll, res=angg))\n",
    "with open(basepath+'urban_canyon_with_mem.json', 'w') as fp:\n",
    "    json.dump(out, fp)"
   ]
  },
  {
   "cell_type": "markdown",
   "metadata": {},
   "source": [
    "If the order would be increased, this would match even after 0.5s.\n"
   ]
  },
  {
   "cell_type": "code",
   "execution_count": null,
   "metadata": {},
   "outputs": [
    {
     "name": "stdout",
     "output_type": "stream",
     "text": [
      "Python implementation: CPython\n",
      "Python version       : 3.11.9\n",
      "IPython version      : 8.31.0\n",
      "\n",
      "Compiler    : MSC v.1938 64 bit (AMD64)\n",
      "OS          : Windows\n",
      "Release     : 10\n",
      "Machine     : AMD64\n",
      "Processor   : Intel64 Family 6 Model 158 Stepping 13, GenuineIntel\n",
      "CPU cores   : 8\n",
      "Architecture: 64bit\n",
      "\n",
      "sparrowpy: 0.1.0\n",
      "pyfar    : 0.7.1\n",
      "json     : 2.0.9\n",
      "\n"
     ]
    }
   ],
   "source": [
    "%load_ext watermark\n",
    "%watermark -v -m -iv"
   ]
  }
 ],
 "metadata": {
  "kernelspec": {
   "display_name": ".venv",
   "language": "python",
   "name": "python3"
  },
  "language_info": {
   "codemirror_mode": {
    "name": "ipython",
    "version": 3
   },
   "file_extension": ".py",
   "mimetype": "text/x-python",
   "name": "python",
   "nbconvert_exporter": "python",
   "pygments_lexer": "ipython3",
   "version": "3.11.9"
  }
 },
 "nbformat": 4,
 "nbformat_minor": 2
}
