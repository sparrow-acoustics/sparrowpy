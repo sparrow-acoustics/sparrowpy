{
 "cells": [
  {
   "cell_type": "markdown",
   "metadata": {},
   "source": [
    "# Urban canyon study\n",
    "\n",
    "This example shows the behavior of sparrowpy in the simulation of an urban canyon under different simulation conditions"
   ]
  },
  {
   "cell_type": "code",
   "execution_count": 1,
   "metadata": {},
   "outputs": [],
   "source": [
    "\"\"\"Test the radiosity.Radiosity module.\"\"\"\n",
    "import pyfar as pf\n",
    "import sparrowpy as sp\n",
    "from run_simu import run_simu, run_simu_mem, run_simu_pure\n",
    "import json\n",
    "import numpy as np\n",
    "import matplotlib.pyplot as plt\n",
    "import os\n",
    "\n",
    "%load_ext memory_profiler\n",
    "\n",
    "%matplotlib inline\n",
    "# %matplotlib ipympl\n",
    "\n",
    "basepath=\"C:\\\\Users\\\\WS2080-01\\\\OneDrive - Universita\\' degli Studi della Campania Luigi Vanvitelli\\\\jasapaper\\\\\""
   ]
  },
  {
   "cell_type": "markdown",
   "metadata": {},
   "source": [
    "Lets define our room and source position."
   ]
  },
  {
   "cell_type": "code",
   "execution_count": 2,
   "metadata": {},
   "outputs": [],
   "source": [
    "def urban_canyon_stub(length_x, length_y, length_z):\n",
    "    \"\"\"Create a shoebox room with the given dimensions.\n",
    "\n",
    "    Parameters\n",
    "    ----------\n",
    "    length_x : float\n",
    "        Length of the urban canyon in meters.\n",
    "    length_y : float\n",
    "        width of the urban canyon in meters.\n",
    "    length_z : float\n",
    "        height of the urban canyon in meters.\n",
    "\n",
    "    Returns\n",
    "    -------\n",
    "    room : list[geo.Polygon]\n",
    "        List of the walls of the room.\n",
    "\n",
    "    \"\"\"\n",
    "    return [\n",
    "        sp.geometry.Polygon(\n",
    "            [[0, 0, 0], [length_x, 0, 0],\n",
    "            [length_x, 0, length_z], [0, 0, length_z]],\n",
    "            [0, 0, 1], [0, 1, 0]),\n",
    "        sp.geometry.Polygon(\n",
    "            [[0, 0, 0],[0, length_y, 0],\n",
    "            [length_x, length_y, 0], [length_x, 0, 0 ]],\n",
    "            [1, 0, 0], [0, 0, 1]),\n",
    "        sp.geometry.Polygon(\n",
    "            [[0, length_y, 0], [length_x, length_y, 0],\n",
    "            [length_x, length_y, length_z], [0, length_y, length_z]],\n",
    "            [0, 0, -1], [0, -1, 0]),\n",
    "        ]"
   ]
  },
  {
   "cell_type": "code",
   "execution_count": 3,
   "metadata": {},
   "outputs": [],
   "source": [
    "# Define parameters\n",
    "X = 90\n",
    "Y = 12\n",
    "Z = 6\n",
    "\n",
    "# create geometry\n",
    "canyon = urban_canyon_stub(X, Y, Z)\n",
    "source = pf.Coordinates(20, 6, 1)\n",
    "receiver = pf.Coordinates(70, 6, 2)"
   ]
  },
  {
   "cell_type": "code",
   "execution_count": 4,
   "metadata": {},
   "outputs": [
    {
     "name": "stderr",
     "output_type": "stream",
     "text": [
      "d:\\Joao_Fatela\\dev\\sparrowpy\\examples\\run_simu.py:84: PyfarDeprecationWarning: 'This function will be deprecated in pyfar 0.8.0 in favor of spharpy.samplings.gaussian.'\n",
      "  samples = pf.samplings.sph_gaussian(res)\n",
      "d:\\Joao_Fatela\\dev\\sparrowpy\\.venv\\Lib\\site-packages\\pyfar\\samplings\\samplings.py:344: PyfarDeprecationWarning: 'This function will be changed in pyfar 0.8.0 to init(x, y, z).'\n",
      "  sampling = pyfar.Coordinates(\n",
      "d:\\Joao_Fatela\\dev\\sparrowpy\\.venv\\Lib\\site-packages\\pyfar\\classes\\coordinates.py:265: PyfarDeprecationWarning: 'This function will be deprecated in pyfar 0.8.0 in favor of spharpy.samplings.SamplingSphere.'\n",
      "  self.sh_order = sh_order\n",
      "d:\\Joao_Fatela\\dev\\sparrowpy\\examples\\run_simu.py:101: UserWarning: Gimbal lock detected. Setting third angle to zero since it is not possible to uniquely determine all angles.\n",
      "  radi.set_wall_brdf(\n"
     ]
    },
    {
     "data": {
      "text/plain": [
       "(TimeData:\n",
       " (1, 1) channels with 5 samples,\n",
       " [0.26920437812805176,\n",
       "  0.19946789741516113,\n",
       "  0.13364410400390625,\n",
       "  0.05585145950317383])"
      ]
     },
     "execution_count": 4,
     "metadata": {},
     "output_type": "execute_result"
    }
   ],
   "source": [
    "run_simu(walls=urban_canyon_stub(1,1,1),\n",
    "        source=pf.Coordinates(.5,.5,.5),\n",
    "        receiver=pf.Coordinates(.5,.5,.5),\n",
    "        patch_size=1)"
   ]
  },
  {
   "cell_type": "markdown",
   "metadata": {},
   "source": [
    "## diffuse vs custom"
   ]
  },
  {
   "cell_type": "code",
   "execution_count": null,
   "metadata": {},
   "outputs": [],
   "source": [
    "f_array = np.array([250, 500, 1000])\n",
    "airatt = np.array([2.7281341349384447, 4.664731873821475,9.88701558869792])/1000\n",
    "order=30\n",
    "dur=1.\n",
    "step=.002\n",
    "psize=2"
   ]
  },
  {
   "cell_type": "code",
   "execution_count": 6,
   "metadata": {},
   "outputs": [
    {
     "name": "stderr",
     "output_type": "stream",
     "text": [
      "d:\\Joao_Fatela\\dev\\sparrowpy\\examples\\run_simu.py:145: PyfarDeprecationWarning: 'This function will be deprecated in pyfar 0.8.0 in favor of spharpy.samplings.gaussian.'\n",
      "  samples = pf.samplings.sph_gaussian(2)\n",
      "d:\\Joao_Fatela\\dev\\sparrowpy\\examples\\run_simu.py:182: UserWarning: Gimbal lock detected. Setting third angle to zero since it is not possible to uniquely determine all angles.\n",
      "  radi.set_wall_brdf(\n"
     ]
    }
   ],
   "source": [
    "etc_diff=run_simu_pure( walls=canyon,\n",
    "                        source=source,\n",
    "                        receiver=receiver,\n",
    "                        patch_size=psize,\n",
    "                        time_step=step,\n",
    "                        duration=dur,\n",
    "                        refl_order=order,\n",
    "                        freq=f_array,\n",
    "                        att=airatt)\n",
    "\n"
   ]
  },
  {
   "cell_type": "code",
   "execution_count": 7,
   "metadata": {},
   "outputs": [
    {
     "name": "stdout",
     "output_type": "stream",
     "text": [
      "SOFA file contained custom entries\n",
      "----------------------------------\n",
      "SourceWeights, ReceiverWeights, SampleStructuralWavelength, SampleStructuralWavelengthX, SampleStructuralWavelengthY, SampleModelScale, SampleDiameter, SampleSymmetryAzimuth, SampleSymmetryRotational, SampleStructuralDepth, SampleBaseplateHeight, SpeedOfSound\n"
     ]
    },
    {
     "name": "stderr",
     "output_type": "stream",
     "text": [
      "  0%|          | 0/484 [00:00<?, ?it/s]d:\\Joao_Fatela\\dev\\sparrowpy\\examples\\reduce_s_d.py:81: ComplexWarning: Casting complex values to real discards the imaginary part\n",
      "  bsc_mirrored.freq[i_source, :, :] = bsc.freq[i_source_mirror,\n",
      "100%|██████████| 484/484 [00:00<00:00, 1088.19it/s]\n"
     ]
    }
   ],
   "source": [
    "filename = \"resources\\\\triangle_sim_optimal.s_d.sofa\"\n",
    "etc_file=run_simu_pure( walls=canyon,\n",
    "                        source=source,\n",
    "                        receiver=receiver,\n",
    "                        patch_size=psize,\n",
    "                        time_step=step,\n",
    "                        duration=dur,\n",
    "                        refl_order=order,\n",
    "                        freq=f_array,\n",
    "                        att=airatt,\n",
    "                        file=filename )"
   ]
  },
  {
   "cell_type": "code",
   "execution_count": 8,
   "metadata": {},
   "outputs": [],
   "source": [
    "pf.io.write(os.path.join(basepath,\"proof_etcs.far\"),compress=False,\n",
    "            diffuse_etc=etc_diff,\n",
    "            custom_etc=etc_file,\n",
    "            freqs=f_array)"
   ]
  },
  {
   "cell_type": "code",
   "execution_count": 9,
   "metadata": {},
   "outputs": [
    {
     "data": {
      "text/plain": [
       "<matplotlib.legend.Legend at 0x2834f565d50>"
      ]
     },
     "execution_count": 9,
     "metadata": {},
     "output_type": "execute_result"
    },
    {
     "data": {
      "image/png": "[encoded data removed]",
      "text/plain": [
       "<Figure size 640x480 with 1 Axes>"
      ]
     },
     "metadata": {},
     "output_type": "display_data"
    }
   ],
   "source": [
    "pf.plot.time(etc_file, dB=True, log_prefix=10,\n",
    "             label=\"custom scattering\",\n",
    "             linestyle=\"-\")\n",
    "pf.plot.time(etc_diff, dB=True, log_prefix=10,\n",
    "             label=\"diffuse\",\n",
    "             linestyle=\"--\")\n",
    "plt.legend()"
   ]
  },
  {
   "cell_type": "markdown",
   "metadata": {},
   "source": [
    "### run simulation"
   ]
  },
  {
   "cell_type": "code",
   "execution_count": 32,
   "metadata": {},
   "outputs": [],
   "source": [
    "time_steps = [1/50,1/100,1/250,1/500,1/1000]\n",
    "patch_sizes = [6,3,2,1.5]\n",
    "refl_orders = [1,20,40,60,80,100]\n",
    "angl_res =[2,4,6,8,10]"
   ]
  },
  {
   "cell_type": "code",
   "execution_count": 33,
   "metadata": {},
   "outputs": [],
   "source": [
    "# baseline\n",
    "pss = 3\n",
    "refll = 10\n",
    "tss = 1/100\n",
    "angg = 4\n",
    "\n",
    "out={\"baseline\":{\"patch_size\":[],\n",
    "                 \"reflection_order\":[],\n",
    "                 \"time_step\":[],\n",
    "                 \"brdf_resolution\":[]},\n",
    "     \"reflection_order\":{\"mem\":[],\n",
    "                  \"t\":[],\n",
    "                  \"edc\":[],\n",
    "                  \"data\":[]},\n",
    "     \"brdf_resolution\":{\"mem\":[],\n",
    "                  \"t\":[],\n",
    "                  \"edc\":[],\n",
    "                  \"data\":[]},\n",
    "     \"patch_size\":{\"mem\":[],\n",
    "                  \"t\":[],\n",
    "                  \"edc\":[],\n",
    "                  \"data\":[]},\n",
    "     \"time_step\":{\"mem\":[],\n",
    "                  \"t\":[],\n",
    "                  \"edc\":[],\n",
    "                  \"data\":[]},\n",
    "                  }\n",
    "\n",
    "out[\"baseline\"][\"patch_size\"]=pss\n",
    "\n",
    "out[\"baseline\"][\"reflection_order\"]=refll\n",
    "\n",
    "out[\"baseline\"][\"time_step\"]=tss\n",
    "\n",
    "out[\"baseline\"][\"brdf_resolution\"]=angg"
   ]
  },
  {
   "cell_type": "code",
   "execution_count": 34,
   "metadata": {},
   "outputs": [],
   "source": [
    "# time stepping\n",
    "\n",
    "for ts in time_steps:\n",
    "    edc,t = run_simu( walls=canyon, source=source,\n",
    "                    receiver=receiver, patch_size=pss,\n",
    "                    time_step=ts, duration=1.2,\n",
    "                    refl_order=refll, res=angg)\n",
    "    out[\"time_step\"][\"edc\"]=edc.time.tolist()\n",
    "    out[\"time_step\"][\"t\"].append(t)\n",
    "out[\"time_step\"][\"data\"]=time_steps\n",
    "\n",
    "with open(basepath+'urban_canyon_no_mem.json', 'w') as fp:\n",
    "    json.dump(out, fp,indent=2)\n"
   ]
  },
  {
   "cell_type": "code",
   "execution_count": 35,
   "metadata": {},
   "outputs": [],
   "source": [
    "# reflection order\n",
    "\n",
    "for refl in refl_orders:\n",
    "    edc,t = run_simu( walls=canyon, source=source,\n",
    "                    receiver=receiver, patch_size=pss,\n",
    "                    time_step=tss, duration=1.2,\n",
    "                    refl_order=refl, res=angg)\n",
    "    out[\"reflection_order\"][\"edc\"]=edc.time.tolist()\n",
    "    out[\"reflection_order\"][\"t\"].append(t)\n",
    "out[\"reflection_order\"][\"data\"]=refl_orders\n",
    "\n",
    "with open(basepath+'urban_canyon_no_mem.json', 'w') as fp:\n",
    "    json.dump(out, fp,indent=2)\n",
    "\n"
   ]
  },
  {
   "cell_type": "code",
   "execution_count": 36,
   "metadata": {},
   "outputs": [],
   "source": [
    "# angular resolution\n",
    "\n",
    "for ang in angl_res:\n",
    "    edc,t = run_simu( walls=canyon, source=source,\n",
    "                    receiver=receiver, patch_size=pss,\n",
    "                    time_step=tss, duration=1.2,\n",
    "                    refl_order=refll, res=ang)\n",
    "    out[\"brdf_resolution\"][\"edc\"]=edc.time.tolist()\n",
    "    out[\"brdf_resolution\"][\"t\"].append(t)\n",
    "out[\"brdf_resolution\"][\"data\"]=angl_res"
   ]
  },
  {
   "cell_type": "code",
   "execution_count": 37,
   "metadata": {},
   "outputs": [],
   "source": [
    "with open(basepath+'urban_canyon_no_mem.json', 'w') as fp:\n",
    "    json.dump(out, fp,indent=2)"
   ]
  },
  {
   "cell_type": "code",
   "execution_count": 38,
   "metadata": {},
   "outputs": [],
   "source": [
    "# patch sizes\n",
    "\n",
    "for pat in patch_sizes:\n",
    "    edc,t = run_simu( walls=canyon, source=source,\n",
    "                    receiver=receiver, patch_size=pat,\n",
    "                    time_step=tss, duration=1.2,\n",
    "                    refl_order=refll, res=angg )\n",
    "    out[\"patch_size\"][\"edc\"] = edc.time.tolist()\n",
    "    out[\"patch_size\"][\"t\"].append(t)\n",
    "out[\"patch_size\"][\"data\"]=patch_sizes\n"
   ]
  },
  {
   "cell_type": "code",
   "execution_count": 39,
   "metadata": {},
   "outputs": [],
   "source": [
    "with open(basepath+'urban_canyon_no_mem.json', 'w') as fp:\n",
    "    json.dump(out, fp,indent=2)"
   ]
  },
  {
   "cell_type": "code",
   "execution_count": 40,
   "metadata": {},
   "outputs": [
    {
     "name": "stdout",
     "output_type": "stream",
     "text": [
      "ts done\n",
      "refl done\n",
      "ang done\n"
     ]
    }
   ],
   "source": [
    "# memory\n",
    "for ts in time_steps:\n",
    "    out[\"time_step\"][\"mem\"].append(run_simu_mem( walls=canyon, source=source,\n",
    "                    receiver=receiver, patch_size=pss,\n",
    "                    time_step=ts, duration=1.2,\n",
    "                    refl_order=refll, res=angg))\n",
    "print(\"ts done\")\n",
    "with open(basepath+'urban_canyon_with_mem.json', 'w') as fp:\n",
    "    json.dump(out, fp,indent=2)\n",
    "for refl in refl_orders:\n",
    "    out[\"reflection_order\"][\"mem\"].append(run_simu_mem( walls=canyon, source=source,\n",
    "                    receiver=receiver, patch_size=pss,\n",
    "                    time_step=tss, duration=1.2,\n",
    "                    refl_order=refl, res=angg))\n",
    "print(\"refl done\")\n",
    "with open(basepath+'urban_canyon_with_mem.json', 'w') as fp:\n",
    "    json.dump(out, fp,indent=2)\n",
    "for ang in angl_res:\n",
    "    out[\"brdf_resolution\"][\"mem\"].append(run_simu_mem( walls=canyon, source=source,\n",
    "                    receiver=receiver, patch_size=pss,\n",
    "                    time_step=tss, duration=1.2,\n",
    "                    refl_order=refll, res=ang))\n",
    "print(\"ang done\")\n",
    "with open(basepath+'urban_canyon_with_mem.json', 'w') as fp:\n",
    "    json.dump(out, fp,indent=2)\n"
   ]
  },
  {
   "cell_type": "code",
   "execution_count": 41,
   "metadata": {},
   "outputs": [],
   "source": [
    "for pat in patch_sizes:\n",
    "    out[\"patch_size\"][\"mem\"].append(run_simu_mem( walls=canyon, source=source,\n",
    "                    receiver=receiver, patch_size=pat,\n",
    "                    time_step=tss, duration=1.2,\n",
    "                    refl_order=refll, res=angg))\n",
    "with open(basepath+'urban_canyon_with_mem.json', 'w') as fp:\n",
    "    json.dump(out, fp,indent=2)"
   ]
  },
  {
   "cell_type": "markdown",
   "metadata": {},
   "source": [
    "If the order would be increased, this would match even after 0.5s.\n"
   ]
  },
  {
   "cell_type": "code",
   "execution_count": 42,
   "metadata": {},
   "outputs": [
    {
     "name": "stdout",
     "output_type": "stream",
     "text": [
      "The watermark extension is already loaded. To reload it, use:\n",
      "  %reload_ext watermark\n",
      "Python implementation: CPython\n",
      "Python version       : 3.11.9\n",
      "IPython version      : 8.31.0\n",
      "\n",
      "Compiler    : MSC v.1938 64 bit (AMD64)\n",
      "OS          : Windows\n",
      "Release     : 10\n",
      "Machine     : AMD64\n",
      "Processor   : Intel64 Family 6 Model 158 Stepping 13, GenuineIntel\n",
      "CPU cores   : 8\n",
      "Architecture: 64bit\n",
      "\n",
      "numpy     : 1.26.4\n",
      "pyfar     : 0.7.1\n",
      "sparrowpy : 0.1.0\n",
      "matplotlib: 3.10.0\n",
      "json      : 2.0.9\n",
      "\n"
     ]
    }
   ],
   "source": [
    "%load_ext watermark\n",
    "%watermark -v -m -iv"
   ]
  }
 ],
 "metadata": {
  "kernelspec": {
   "display_name": ".venv",
   "language": "python",
   "name": "python3"
  },
  "language_info": {
   "codemirror_mode": {
    "name": "ipython",
    "version": 3
   },
   "file_extension": ".py",
   "mimetype": "text/x-python",
   "name": "python",
   "nbconvert_exporter": "python",
   "pygments_lexer": "ipython3",
   "version": "3.11.9"
  }
 },
 "nbformat": 4,
 "nbformat_minor": 2
}
