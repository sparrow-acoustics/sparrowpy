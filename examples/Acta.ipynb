{
 "cells": [
  {
   "cell_type": "markdown",
   "id": "6dad7173",
   "metadata": {},
   "source": [
    "# acta paper -- a bunch of simulations\n",
    "This notebook generates data for the acta acustica paper."
   ]
  },
  {
   "cell_type": "code",
   "execution_count": 1,
   "id": "5ead0d57",
   "metadata": {},
   "outputs": [],
   "source": [
    "import sparrowpy as sp\n",
    "import pyfar as pf\n",
    "import numpy as np\n",
    "import matplotlib.pyplot as plt\n",
    "import os\n",
    "import time\n",
    "import pandas as pd\n",
    "%matplotlib inline\n",
    "\n",
    "font={\n",
    "    \"text.usetex\": True,\n",
    "    \"font.family\": \"sans-serif\",\n",
    "    \"font.sans-serif\": \"Helvetica\",\n",
    "    \"font.size\": 11,\n",
    "}\n",
    "\n",
    "plt.rcParams.update(font)\n",
    "\n",
    "base_dir = os.path.join(os.getcwd(), \"resources\")"
   ]
  },
  {
   "cell_type": "markdown",
   "id": "899f6786",
   "metadata": {},
   "source": [
    "## Infinite diffuse plane"
   ]
  },
  {
   "cell_type": "code",
   "execution_count": 2,
   "id": "ab5ddafa",
   "metadata": {},
   "outputs": [
    {
     "data": {
      "text/plain": [
       "0.28228890101400717"
      ]
     },
     "execution_count": 2,
     "metadata": {},
     "output_type": "execute_result"
    }
   ],
   "source": [
    "def run_energy_diff_specular_ratio(\n",
    "        width, length, patch_size, source, receiver):\n",
    "    \"\"\"\n",
    "    Calculate the ratio of diffuse to specular energy for an plane.\n",
    "    The plane is located in the x-y plane. Its center is at (0, 0, 0).\n",
    "\n",
    "    Parameters\n",
    "    ----------\n",
    "    width : float\n",
    "        Width of the plane.\n",
    "    length : float\n",
    "        length of the plane.\n",
    "    patch_size : float\n",
    "        Size of the patches.\n",
    "    source : pf.Coordinates\n",
    "        Position of the source.\n",
    "    receiver : pf.Coordinates\n",
    "        Position of the receiver in cartesian.\n",
    "\n",
    "    Returns\n",
    "    -------\n",
    "    ratio : float\n",
    "        Ratio of diffuse to specular energy.\n",
    "    \"\"\"\n",
    "    source_is = source.copy()\n",
    "    source_is.z *= -1\n",
    "    reflection_len =  (receiver - source_is).radius[0]\n",
    "    speed_of_sound = 343\n",
    "    sampling_rate = 1\n",
    "    etc_duration = reflection_len/speed_of_sound\n",
    "    etc_duration=1\n",
    "\n",
    "    plane = sp.geometry.Polygon(\n",
    "            [[-width/2, -length/2, 0],\n",
    "             [width/2, -length/2, 0],\n",
    "             [width/2, length/2, 0],\n",
    "             [-width/2, length/2, 0]],\n",
    "            [1, 0, 0], [0, 0, 1])\n",
    "\n",
    "    #simulation parameters\n",
    "    radi = sp.DirectionalRadiosityFast.from_polygon(\n",
    "        [plane], patch_size)\n",
    "\n",
    "    brdf_sources = pf.Coordinates(0, 0, 1, weights=1)\n",
    "    brdf_receivers = pf.Coordinates(0, 0, 1, weights=1)\n",
    "    brdf = sp.brdf.create_from_scattering(\n",
    "        brdf_sources,\n",
    "        brdf_receivers,\n",
    "        pf.FrequencyData(1, [100]),\n",
    "        pf.FrequencyData(0, [100]),\n",
    "    )\n",
    "\n",
    "    radi.set_wall_brdf(\n",
    "        np.arange(1), brdf, brdf_sources, brdf_receivers)\n",
    "\n",
    "    # set air absorption\n",
    "    radi.set_air_attenuation(\n",
    "        pf.FrequencyData(\n",
    "            np.zeros_like(brdf.frequencies),\n",
    "            brdf.frequencies))\n",
    "\n",
    "    # initialize source energy at each patch\n",
    "    radi.init_source_energy(source)\n",
    "\n",
    "    # gather energy at receiver\n",
    "    radi.calculate_energy_exchange(\n",
    "        speed_of_sound=speed_of_sound,\n",
    "        etc_time_resolution=1/sampling_rate,\n",
    "        etc_duration=etc_duration,\n",
    "        max_reflection_order=0)\n",
    "\n",
    "    I_diffuse = radi.collect_energy_receiver_mono(receiver)\n",
    "\n",
    "    I_specular = 1/(4*np.pi*reflection_len**2)\n",
    "    return np.sum(I_diffuse.time)/I_specular\n",
    "\n",
    "run_energy_diff_specular_ratio(\n",
    "        1, 1, 1, pf.Coordinates(0, 0, 2, weights=1), pf.Coordinates(0, 0, 2, weights=1))"
   ]
  },
  {
   "cell_type": "code",
   "execution_count": null,
   "id": "c6302967",
   "metadata": {},
   "outputs": [],
   "source": [
    "width=100\n",
    "depth=100\n",
    "patch_sizes = width/np.array([1,2,5,10,20,50,100,150])\n",
    "theta_deg = np.arange(5,90,5)\n",
    "theta = np.deg2rad(theta_deg)\n",
    "\n",
    "col_names = [\"patch_size\",\n",
    "             \"col_raw\", \"col_abs\",\"col_rel\",\"col_rt\",\n",
    "             \"dif_raw\", \"dif_abs\",\"dif_rel\",\"dif_rt\"]\n",
    "\n",
    "for th in theta_deg:\n",
    "    col_names.append(\"var_raw_\"+f'{th}')\n",
    "    col_names.append(\"var_abs_\"+f'{th}')\n",
    "    col_names.append(\"var_rel_\"+f'{th}')\n",
    "    col_names.append(\"var_abs_\"+f'{th}')\n",
    "\n",
    "df = pd.DataFrame(columns=col_names)\n",
    "df[\"patch_size\"]=patch_sizes"
   ]
  },
  {
   "cell_type": "code",
   "execution_count": 4,
   "id": "a52f3127",
   "metadata": {},
   "outputs": [],
   "source": [
    "ratio1=[]\n",
    "t1=[]\n",
    "# colocated s-r\n",
    "source = pf.Coordinates(0, 0, 2, weights=1)\n",
    "receiver = pf.Coordinates(0, 0, 2, weights=1)\n",
    "for patch_size in patch_sizes:\n",
    "    t0 = time.time()\n",
    "    ratio1.append(run_energy_diff_specular_ratio(\n",
    "        width, depth, patch_size, source, receiver))\n",
    "    t1.append(time.time()-t0)\n",
    "\n",
    "df[\"col_raw\"] = ratio1\n",
    "df[\"col_rt\"] = t1\n",
    "df[\"col_abs\"] = 2-np.array(ratio1)\n",
    "df[\"col_rel\"] = 100*(2-np.array(ratio1))/2\n"
   ]
  },
  {
   "cell_type": "code",
   "execution_count": 5,
   "id": "246e083a",
   "metadata": {},
   "outputs": [
    {
     "name": "stdout",
     "output_type": "stream",
     "text": [
      "100.0\n",
      "50.0\n",
      "20.0\n",
      "10.0\n",
      "5.0\n",
      "2.0\n",
      "1.0\n",
      "0.5\n"
     ]
    }
   ],
   "source": [
    "err2 = []\n",
    "ratio2=[]\n",
    "t2=[]\n",
    "# same normal\n",
    "source = pf.Coordinates(0, 0, 1, weights=1)\n",
    "receiver = pf.Coordinates(0, 0, 2, weights=1)\n",
    "for patch_size in patch_sizes:\n",
    "    print(patch_size)\n",
    "    t0 = time.time()\n",
    "    ratio2.append(run_energy_diff_specular_ratio(\n",
    "        width, depth, patch_size, source, receiver))\n",
    "    t2.append(time.time()-t0)\n",
    "\n",
    "df[\"dif_raw\"] = ratio2\n",
    "df[\"dif_rt\"] = t2\n",
    "df[\"dif_abs\"] = 2-np.array(ratio2)\n",
    "df[\"dif_rel\"] = 100*(2-np.array(ratio2))/2"
   ]
  },
  {
   "cell_type": "code",
   "execution_count": null,
   "id": "9752757c",
   "metadata": {},
   "outputs": [],
   "source": [
    "theta = np.deg2rad(np.arange(5,90,5))\n",
    "\n",
    "for i, th in enumerate(theta):\n",
    "    source = pf.Coordinates.from_spherical_colatitude(\n",
    "        0, th, 2/np.cos(th), weights=1)\n",
    "    receiver = pf.Coordinates.from_spherical_colatitude(\n",
    "        np.pi, th, 2/np.cos(th), weights=1)\n",
    "    t3=[]\n",
    "    ratio3 = []\n",
    "    for patch_size in patch_sizes:\n",
    "        t0 = time.time()\n",
    "        ratio3.append(run_energy_diff_specular_ratio(\n",
    "            width, depth, patch_size, source, receiver))\n",
    "        t3.append(time.time()-t0)\n",
    "    df[\"var_raw_\"+f\"{theta_deg[i]}\"] = ratio3\n",
    "    df[\"var_rt_\"+f\"{theta_deg[i]}\"] = t3\n",
    "    df[\"var_abs_\"+f\"{theta_deg[i]}\"] = 2*np.cos(th)-np.array(ratio3)\n",
    "    df[\"var_rel_\"+f\"{theta_deg[i]}\"] = 100*(2*np.cos(th) -\n",
    "                                            np.array(ratio3))/(2*np.cos(th))\n",
    "\n"
   ]
  },
  {
   "cell_type": "code",
   "execution_count": null,
   "id": "1690ff65",
   "metadata": {},
   "outputs": [],
   "source": [
    "df.to_csv(os.getcwd()+\"/out/inf_plane_data.csv\")"
   ]
  },
  {
   "cell_type": "markdown",
   "id": "fe375731",
   "metadata": {},
   "source": [
    "## Diffuse shoebox room"
   ]
  },
  {
   "cell_type": "code",
   "execution_count": 24,
   "id": "3096f2b8",
   "metadata": {},
   "outputs": [],
   "source": [
    "import json\n",
    "def loadSceneProperties(scene_name = \"seminar\"):\n",
    "\n",
    "    with open(os.path.join(base_dir,scene_name+\"_scene.json\")) as json_file:\n",
    "        data = json.load(json_file)\n",
    "\n",
    "    return data\n",
    "\n",
    "raven_data = loadSceneProperties(scene_name = \"diffuse_room\")"
   ]
  },
  {
   "cell_type": "code",
   "execution_count": 25,
   "id": "89c61548",
   "metadata": {},
   "outputs": [
    {
     "name": "stderr",
     "output_type": "stream",
     "text": [
      "C:\\Users\\jotag\\AppData\\Local\\Temp\\ipykernel_14388\\390542449.py:38: UserWarning: Gimbal lock detected. Setting third angle to zero since it is not possible to uniquely determine all angles.\n",
      "  radiosity_fast.set_wall_brdf(\n"
     ]
    },
    {
     "data": {
      "text/plain": [
       "(array([[0.        , 0.24714947, 0.        , 0.        , 0.        ]]),\n",
       " 2.414917230606079,\n",
       " 148)"
      ]
     },
     "execution_count": 25,
     "metadata": {},
     "output_type": "execute_result"
    }
   ],
   "source": [
    "ref_freq = 1000\n",
    "\n",
    "def run_shoebox_sim(patch_size=1.,step = 1/1000,\n",
    "                    scene=raven_data[\"scene_data\"],\n",
    "                    ref_freq = ref_freq):\n",
    "\n",
    "    # Define parameters\n",
    "    X = 5\n",
    "    Y = 6\n",
    "    Z = 4\n",
    "    etc_duration = scene[\"etc_duration\"]\n",
    "    etc_time_resolution = step\n",
    "    max_reflection_order = 150\n",
    "    speed_of_sound = scene[\"sound_speed\"]\n",
    "    absorption = 0.1\n",
    "\n",
    "    # create geometry\n",
    "    walls = sp.testing.shoebox_room_stub(X, Y, Z)\n",
    "    src = scene[\"source\"][\"position\"]\n",
    "    source = pf.Coordinates(src[0], src[1], src[2])\n",
    "    rec = scene[\"receiver\"][\"position\"]\n",
    "    receiver = pf.Coordinates(rec[0], rec[1], rec[2])\n",
    "\n",
    "    t0 = time.time()\n",
    "    # create object\n",
    "    radiosity_fast = sp.DirectionalRadiosityFast.from_polygon(walls,patch_size)\n",
    "    # create directional scattering data (totally diffuse)\n",
    "    brdf_sources = pf.Coordinates(0, 0, 1, weights=1)\n",
    "    brdf_receivers = pf.Coordinates(0, 0, 1, weights=1)\n",
    "    frequencies = np.array([ref_freq])\n",
    "    brdf = sp.brdf.create_from_scattering(\n",
    "        brdf_sources,\n",
    "        brdf_receivers,\n",
    "        pf.FrequencyData(np.ones_like(frequencies), frequencies),\n",
    "        pf.FrequencyData(absorption*np.ones_like(frequencies), frequencies))\n",
    "\n",
    "    # set directional scattering data\n",
    "    radiosity_fast.set_wall_brdf(\n",
    "        np.arange(len(walls)), brdf, brdf_sources, brdf_receivers)\n",
    "\n",
    "    # set air absorption\n",
    "    radiosity_fast.set_air_attenuation(\n",
    "        pf.FrequencyData(\n",
    "            np.zeros_like(brdf.frequencies),\n",
    "            brdf.frequencies))\n",
    "\n",
    "    # calculate from factors including brdfs\n",
    "    radiosity_fast.bake_geometry()\n",
    "\n",
    "    radiosity_fast.init_source_energy(source)\n",
    "\n",
    "    radiosity_fast.calculate_energy_exchange(\n",
    "        speed_of_sound=speed_of_sound,\n",
    "        etc_time_resolution=etc_time_resolution,\n",
    "        etc_duration=etc_duration,\n",
    "        max_reflection_order=max_reflection_order)\n",
    "\n",
    "    etc_radiosity = radiosity_fast.collect_energy_receiver_mono(\n",
    "    receivers=receiver)\n",
    "    runtime = time.time()-t0\n",
    "\n",
    "    return etc_radiosity.time[0,:,:], runtime, radiosity_fast.n_patches\n",
    "\n",
    "run_shoebox_sim(step=.2)"
   ]
  },
  {
   "cell_type": "code",
   "execution_count": 26,
   "id": "1636d209",
   "metadata": {},
   "outputs": [],
   "source": [
    "def calculate_RT30(curve,step):\n",
    "    t0 = .1\n",
    "    i0 = int(t0/step)\n",
    "    i1 = np.argmin(np.abs((10*np.log10(curve/curve[i0])+30)))\n",
    "    t1 = i1*step\n",
    "    x0 = curve[i0]\n",
    "    x1 = curve[i1]\n",
    "    dB0 = 10*np.log10(x0)\n",
    "    dB1 = 10*np.log10(x1)\n",
    "\n",
    "    m = (dB1-dB0)/(t1-t0)\n",
    "\n",
    "    RT60 = -60/m\n",
    "\n",
    "    return RT60\n"
   ]
  },
  {
   "cell_type": "code",
   "execution_count": 27,
   "id": "be850ee4",
   "metadata": {},
   "outputs": [
    {
     "name": "stderr",
     "output_type": "stream",
     "text": [
      "C:\\Users\\jotag\\AppData\\Local\\Temp\\ipykernel_14388\\390542449.py:38: UserWarning: Gimbal lock detected. Setting third angle to zero since it is not possible to uniquely determine all angles.\n",
      "  radiosity_fast.set_wall_brdf(\n"
     ]
    }
   ],
   "source": [
    "\n",
    "## varying patch size\n",
    "ps = .1\n",
    "steps = 1/np.array([1000])#,5000,10000])\n",
    "sizes = 1/np.arange(1,2)\n",
    "rt30 = []\n",
    "curves = []\n",
    "runtimes = []\n",
    "stepsizes=[]\n",
    "patchsizes=[]\n",
    "npatches=[]\n",
    "for ps in sizes:\n",
    "    for step in steps:\n",
    "        curve,rt,npa = run_shoebox_sim(patch_size=ps,step=step)\n",
    "        rt30.append(calculate_RT30(curve=curve[0,:],step=step))\n",
    "        curves.append(curve)\n",
    "        stepsizes.append(step)\n",
    "        patchsizes.append(ps)\n",
    "        runtimes.append(rt)\n",
    "        npatches.append(npa)"
   ]
  },
  {
   "cell_type": "code",
   "execution_count": 28,
   "id": "32217076",
   "metadata": {},
   "outputs": [],
   "source": [
    "simu_dict = {\"step_size\": np.array(stepsizes),\n",
    "             \"curves\": curves,\n",
    "             \"RT30\": np.array(rt30),\n",
    "             \"runtime\": np.array(runtimes),\n",
    "             \"patch_sizes\": np.array(patchsizes),\n",
    "             \"resolution\": np.array(npatches),\n",
    "            }\n",
    "\n",
    "pf.io.write(filename=os.getcwd()+\"/out/diffuse_room_sparrow.far\", compress=False, **simu_dict)"
   ]
  },
  {
   "cell_type": "code",
   "execution_count": 29,
   "id": "3fac4c12",
   "metadata": {},
   "outputs": [
    {
     "name": "stdout",
     "output_type": "stream",
     "text": [
      "reverberation distance is 0.5m\n",
      "reverberation time is 1.24s\n"
     ]
    }
   ],
   "source": [
    "\n",
    "t = np.arange(0,raven_data[\"scene_data\"][\"etc_duration\"],step)\n",
    "X = 5\n",
    "Y = 6\n",
    "Z = 4\n",
    "S = (2*X*Y) + (2*X*Z) + (2*Y*Z)\n",
    "A = S*raven_data[\"scene_data\"][\"materials\"][\"abs20scat00\"][\"absorption\"][0]\n",
    "alpha_dash = A/S\n",
    "r_h = 1/4*np.sqrt(A/np.pi)\n",
    "print(f'reverberation distance is {r_h:.1f}m')\n",
    "V = X*Y*Z\n",
    "RT = 24*np.log(10)/(raven_data[\"scene_data\"][\"sound_speed\"])*V/(-S*np.log(1-alpha_dash))\n",
    "print(f'reverberation time is {RT:.2f}s')\n",
    "E_reverb_analytical = 4/A\n",
    "\n",
    "# Kuttruff Eq 4.7\n",
    "w_0 = E_reverb_analytical/ V\n",
    "t_0 = 0.03\n",
    "# Kuttruff Eq 4.10\n",
    "reverberation_analytic = w_0 * np.exp(+(\n",
    "    raven_data[\"scene_data\"][\"sound_speed\"]*S*np.log(1-alpha_dash)/(4*V))*(t-t_0))\n",
    "reverberation_analytic = pf.TimeData(reverberation_analytic, t)"
   ]
  },
  {
   "cell_type": "code",
   "execution_count": 32,
   "id": "5cedd079",
   "metadata": {},
   "outputs": [
    {
     "data": {
      "image/png": "[encoded data removed]",
      "text/plain": [
       "<Figure size 640x480 with 1 Axes>"
      ]
     },
     "metadata": {},
     "output_type": "display_data"
    }
   ],
   "source": [
    "ind = np.where(np.array(raven_data[\"simu_output\"][\"step_size\"])==step)[0]\n",
    "ind = ind[np.where(np.array(raven_data[\"simu_output\"][\"resolution\"])[ind]==1000)[0][0]]\n",
    "\n",
    "freqbin = np.where(np.array(raven_data[\"scene_data\"][\"f\"])==ref_freq)[0][0]\n",
    "plt.figure()\n",
    "rav = pf.TimeData(raven_data[\"simu_output\"][\"etc\"][ind][freqbin],t)\n",
    "spa = pf.TimeData(curve[0], t)\n",
    "pf.plot.time(rav,dB=True,log_prefix=10)\n",
    "pf.plot.time(spa,dB=True,log_prefix=10)\n",
    "pf.plot.time(reverberation_analytic,dB=True, log_prefix=10)\n",
    "plt.show()"
   ]
  },
  {
   "cell_type": "code",
   "execution_count": 31,
   "id": "333e3cda",
   "metadata": {},
   "outputs": [
    {
     "name": "stdout",
     "output_type": "stream",
     "text": [
      "Python implementation: CPython\n",
      "Python version       : 3.11.9\n",
      "IPython version      : 9.1.0\n",
      "\n",
      "Compiler    : MSC v.1938 64 bit (AMD64)\n",
      "OS          : Windows\n",
      "Release     : 10\n",
      "Machine     : AMD64\n",
      "Processor   : AMD64 Family 25 Model 68 Stepping 1, AuthenticAMD\n",
      "CPU cores   : 16\n",
      "Architecture: 64bit\n",
      "\n",
      "ipykernel : 6.29.5\n",
      "matplotlib: 3.10.1\n",
      "numpy     : 1.26.4\n",
      "pyfar     : 0.7.2\n",
      "pandas    : 2.3.0\n",
      "sparrowpy : 0.1.0\n",
      "debugpy   : 1.8.14\n",
      "json      : 2.0.9\n",
      "\n"
     ]
    }
   ],
   "source": [
    "%load_ext watermark\n",
    "%watermark -v -m -iv"
   ]
  }
 ],
 "metadata": {
  "kernelspec": {
   "display_name": ".venv",
   "language": "python",
   "name": "python3"
  },
  "language_info": {
   "codemirror_mode": {
    "name": "ipython",
    "version": 3
   },
   "file_extension": ".py",
   "mimetype": "text/x-python",
   "name": "python",
   "nbconvert_exporter": "python",
   "pygments_lexer": "ipython3",
   "version": "3.11.9"
  }
 },
 "nbformat": 4,
 "nbformat_minor": 5
}
