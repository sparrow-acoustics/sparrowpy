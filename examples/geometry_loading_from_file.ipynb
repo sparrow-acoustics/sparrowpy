{
 "cells": [
  {
   "cell_type": "markdown",
   "metadata": {},
   "source": [
    "# Geometry loading from file\n",
    "\n",
    "This example shows how to initialize a fast directional radiosity instance from CAD files.\n",
    "We also go over how properties of the models translate to properties of the radiosity simulation. \n",
    "\n",
    "**Note:** This feature is unsupported for the ``RadiosityKang`` class.\n",
    "If you haven't, we recommend that you check the basic fast_radiosity example, as we will skip over basic radiosity class functionality in this example."
   ]
  },
  {
   "cell_type": "markdown",
   "metadata": {},
   "source": [
    "We start with our usual helpful imports"
   ]
  },
  {
   "cell_type": "code",
   "execution_count": 1,
   "metadata": {},
   "outputs": [],
   "source": [
    "import numpy as np\n",
    "import pyfar as pf\n",
    "import sparrowpy as sp\n",
    "import matplotlib.pyplot as plt\n",
    "\n",
    "%matplotlib inline\n",
    "# %matplotlib ipympl\n",
    "\n",
    "base_dir=\"./resources/\""
   ]
  },
  {
   "cell_type": "markdown",
   "metadata": {},
   "source": [
    "\n",
    "### Basic geometry loading\n",
    "\n",
    "Currently, sparrowpy supports geometry loading from .stl and blender (.blend) files. \n",
    "\n",
    "- [**STL:**] The raw geometry in the file is loaded. This format is material-agnostic.\n",
    "- [**Blender**] Supports material assignment. The model's geometrical information (mesh) must be stored in a blender object called \"Geometry\" (with a capitalized \"G\"). Otherwise, the geometry will not be correctly loaded by sparrowpy. \n"
   ]
  },
  {
   "cell_type": "markdown",
   "metadata": {},
   "source": [
    "In these examples, we look at a closed cube room with 2x2x2 walls.\n",
    "\n",
    "We begin by loading a simple model with no wall subdivisions.\n",
    "\n",
    "<img src=\"./resources/cube_simple.png\" alt=\"simple cube\" width=\"400\" class=\"center\"/>\n",
    "\n",
    "Below, we initialize the fast radiosity class with the same simple cube geometry from a Blender file, ``cube_simple.blend``. "
   ]
  },
  {
   "cell_type": "code",
   "execution_count": null,
   "metadata": {},
   "outputs": [
    {
     "name": "stderr",
     "output_type": "stream",
     "text": [
      "C:\\Users\\jotag\\Documents\\dev\\sparapy\\sparrowpy\\form_factor\\universal.py:48: NumbaPerformanceWarning: \u001b[1m\u001b[1m\u001b[1m\u001b[1m\u001b[1m\u001b[1m\u001b[1m\u001b[1mnp.dot() is faster on contiguous arrays, called on (Array(float64, 1, 'A', False, aligned=True), Array(float64, 1, 'C', False, aligned=True))\u001b[0m\u001b[0m\u001b[0m\u001b[0m\u001b[0m\u001b[0m\u001b[0m\u001b[0m\n",
      "  form_factors[i,j] = universal_form_factor(\n"
     ]
    },
    {
     "name": "stdout",
     "output_type": "stream",
     "text": [
      "Simple cube model:\n",
      "# walls: 6\n",
      "# patches: 6\n",
      "# sides per patch: 4\n",
      "form factor sum: 0.9949\n"
     ]
    }
   ],
   "source": [
    "# initialize simple cube from Blender file\n",
    "radi_simple_cube = sp.DirectionalRadiosityFast.from_file(\n",
    "    base_dir+\"cube_simple.blend\")\n",
    "\n",
    "# bake geometry\n",
    "radi_simple_cube.bake_geometry()\n",
    "\n",
    "print(\"Simple cube model:\")\n",
    "print(f'# walls: {radi_simple_cube.n_walls}')\n",
    "print(f'# patches: {radi_simple_cube.n_patches}')\n",
    "print(f'# sides per patch: {radi_simple_cube.patches_points.shape[1]}')\n",
    "print('form factor sum (theoretically ==1): ' +\n",
    "      f'{np.sum(2*radi_simple_cube.form_factors/radi_simple_cube.n_patches):.4f}')"
   ]
  },
  {
   "cell_type": "markdown",
   "metadata": {},
   "source": [
    "Since the model surfaces have no subdivisions, the number of walls is the same as the number of patches.\n",
    "\n",
    "### Patch definition\n",
    "\n",
    "By default, patches are defined automatically from the geometry model. Each polygon defined in the geometry is interpreted by sparrowpy as an individual patch.\n",
    "\n",
    "Below, we check this for ``cube_square_patches.blend`` where each wall of the model is divided into 4 square walls.\n",
    "\n",
    "<img src=\"./resources/cube_square_patches.png\" alt=\"simple cube\" width=\"400\" class=\"center\"/>\n"
   ]
  },
  {
   "cell_type": "code",
   "execution_count": null,
   "metadata": {},
   "outputs": [
    {
     "name": "stdout",
     "output_type": "stream",
     "text": [
      "Square patches model:\n",
      "# walls: 6\n",
      "# patches: 24\n",
      "# sides per patch: 4\n",
      "form factor sum: 0.9973\n"
     ]
    }
   ],
   "source": [
    "# initialize cube with square patches\n",
    "radi_square_patches = sp.DirectionalRadiosityFast.from_file(\n",
    "    base_dir+\"cube_square_patches.blend\")\n",
    "\n",
    "# bake geometry\n",
    "radi_square_patches.bake_geometry()\n",
    "\n",
    "print(\"Square patches model:\")\n",
    "print(f'# walls: {radi_square_patches.n_walls}')\n",
    "print(f'# patches: {radi_square_patches.n_patches}')\n",
    "print(f'# sides per patch: {radi_square_patches.patches_points.shape[1]}')\n",
    "print('form factor sum (theoretically ==1):' +\n",
    "      f'{np.sum(2*radi_square_patches.form_factors/radi_square_patches.n_patches):.4f}')"
   ]
  },
  {
   "cell_type": "markdown",
   "metadata": {},
   "source": [
    "Alternatively, one may overwrite the automatic patch assignment with the optional arguments ``auto_patches=False`` and ``patch_size`` (default 1).\n",
    "\n",
    "by disabling ``auto_patches`` and defining a patch size, patches are defined in the same way as the initialization ``sp.DirectionalRadiosityFast.from_polygon()`` would. "
   ]
  },
  {
   "cell_type": "code",
   "execution_count": null,
   "metadata": {},
   "outputs": [
    {
     "name": "stdout",
     "output_type": "stream",
     "text": [
      "Overwritten 1x1 patches model:\n",
      "# walls: 6\n",
      "# patches: 24\n",
      "# sides per patch: 4\n",
      "form factor sum: 0.9973\n"
     ]
    }
   ],
   "source": [
    "# overwrite simple cube model to 1x1 patches (4 per wall)\n",
    "radi_ow_patches = sp.DirectionalRadiosityFast.from_file(\n",
    "    base_dir+\"cube_simple.blend\", auto_patches=False, patch_size=1.)\n",
    "\n",
    "# bake geometry\n",
    "radi_ow_patches.bake_geometry()\n",
    "\n",
    "print(\"Overwritten 1x1 patches model:\")\n",
    "print(f'# walls: {radi_ow_patches.n_walls}')\n",
    "print(f'# patches: {radi_ow_patches.n_patches}')\n",
    "print(f'# sides per patch: {radi_ow_patches.patches_points.shape[1]}')\n",
    "print('form factor sum (theoretically ==1):' +\n",
    "      f'{np.sum(2*radi_ow_patches.form_factors/radi_ow_patches.n_patches):.4f}')"
   ]
  },
  {
   "cell_type": "markdown",
   "metadata": {},
   "source": [
    "**Note:** this method is only able to generate _square_ patches over the _whole geometry_ with a side dimension of ``patch_size``. This method also depends on the assumption that the wall dimensions of the whole model are perfectly divisible"
   ]
  },
  {
   "cell_type": "markdown",
   "metadata": {},
   "source": [
    "Sparrowpy supports geometries with triangular patches.\n",
    "\n",
    "<img src=\"./resources/cube_simple.png\" alt=\"simple cube\" width=\"400\" class=\"center\"/> \n",
    "\n",
    "It also supports patches of irregular areas and aspect ratios.\n",
    "\n",
    "<img src=\"./resources/cube_simple.png\" alt=\"simple cube\" width=\"400\" class=\"center\"/>\n",
    "\n",
    "It is expected to handle non-rectangular patches [untested]."
   ]
  },
  {
   "cell_type": "code",
   "execution_count": null,
   "metadata": {},
   "outputs": [
    {
     "name": "stdout",
     "output_type": "stream",
     "text": [
      "Triangle patches model (two per wall):\n",
      "# walls: 6\n",
      "# patches: 12\n",
      "# sides per patch: 3\n",
      "form factor sum: 0.9757\n",
      "\n",
      "\n",
      "Uneven rectangle patches model:\n",
      "# walls: 6\n",
      "# patches: 10\n",
      "# sides per patch: 4\n",
      "form factor sum: 1.0944\n"
     ]
    }
   ],
   "source": [
    "# import model with triangular patches\n",
    "radi_triangle_patches = sp.DirectionalRadiosityFast.from_file(\n",
    "    base_dir+\"cube_triangle_patches.blend\", auto_patches=True)\n",
    "\n",
    "# bake geometry\n",
    "radi_triangle_patches.bake_geometry()\n",
    "\n",
    "# import model with uneven rectangular patches\n",
    "radi_uneven_patches = sp.DirectionalRadiosityFast.from_file(\n",
    "    base_dir+\"cube_uneven_patches.blend\", auto_patches=True)\n",
    "\n",
    "# bake geometry\n",
    "radi_uneven_patches.bake_geometry()\n",
    "\n",
    "print(\"Triangle patches model (two per wall):\")\n",
    "print(f'# walls: {radi_triangle_patches.n_walls}')\n",
    "print(f'# patches: {radi_triangle_patches.n_patches}')\n",
    "print(f'# sides per patch: {radi_triangle_patches.patches_points.shape[1]}')\n",
    "print('form factor sum (theoretically ==1):' +\n",
    "      f'{np.sum(2*radi_triangle_patches.form_factors/radi_triangle_patches.n_patches):.4f}')\n",
    "\n",
    "print(\"\\n\\nUneven rectangle patches model:\")\n",
    "print(f'# walls: {radi_uneven_patches.n_walls}')\n",
    "print(f'# patches: {radi_uneven_patches.n_patches}')\n",
    "print(f'# sides per patch: {radi_uneven_patches.patches_points.shape[1]}')\n",
    "print('form factor sum (theoretically ==1):' +\n",
    "      f'{np.sum(2*radi_uneven_patches.form_factors/radi_uneven_patches.n_patches):.4f}')"
   ]
  },
  {
   "cell_type": "markdown",
   "metadata": {},
   "source": [
    "Sparrowpy only supports models where all patches have the same number of sides.\n",
    "\n",
    "We recommend either quadrangular or triangular polygons for patch definition, as other n-gon patches are untested (though theoretically supported)."
   ]
  },
  {
   "cell_type": "code",
   "execution_count": 6,
   "metadata": {},
   "outputs": [],
   "source": [
    "# import model with irregular patch morphology\n",
    "\n",
    "# the commented function below will throw an error\n",
    "# since patch geometry is incorrectly defined\n",
    "\n",
    "# sp.DirectionalRadiosityFast.from_file(base_dir+\"cube_uneven_sides.blend\")\n"
   ]
  },
  {
   "cell_type": "markdown",
   "metadata": {},
   "source": [
    "### Wall definition\n",
    "Sparrowpy groups patches by \"walls\", mapping patches to surfaces with common normal vectors and material properties. This is a means to save on memory consumption by the simulation.\n",
    "\n",
    "Note that walls should be rectangular quadrangles.\n",
    "\n",
    "By default, ``DirectionalRadiosityFast.from_file()`` maps patches to walls automatically. Patches are mapped to the same wall if they are:\n",
    "- contiguous\n",
    "- coplanar\n",
    "- same in material properties\n",
    "\n",
    "Wall mapping can be overwritten by setting the argument ``auto_walls=False``. This assigns a wall for each patch defined in the model, which can be useful to define specific material properties in a material-agnostic format at a different point in the simulation.\n",
    "\n",
    "**NOTE:** disabling both auto_walls and auto_patches is **unsupported**, as it would lead to undefined geometry."
   ]
  },
  {
   "cell_type": "markdown",
   "metadata": {},
   "source": [
    "Let's look at a model where one of the walls has some patches with a different material from the rest of the model.\n",
    "\n",
    "\n",
    "<img src=\"./resources/cube_simple.png\" alt=\"simple cube\" width=\"400\" class=\"center\"/>"
   ]
  },
  {
   "cell_type": "code",
   "execution_count": 7,
   "metadata": {},
   "outputs": [
    {
     "name": "stdout",
     "output_type": "stream",
     "text": [
      "Auto walls geometry:\n",
      "# walls: 7\n",
      "# patches: 10\n",
      "blue walls: [0]\n",
      "red walls: [1 2 3 4 5 6]\n",
      "\n",
      "\n",
      "Non-auto walls geometry:\n",
      "# walls: 10\n",
      "# patches: 10\n",
      "blue walls: 10\n",
      "blue walls: [0]\n",
      "red walls: [1 2 3 4 5 6 7 8 9]\n"
     ]
    }
   ],
   "source": [
    "# automatic wall assignment\n",
    "radi_auto_walls = sp.DirectionalRadiosityFast.from_file(\n",
    "    base_dir+\"cube_diff_materials.blend\", auto_walls=True)\n",
    "\n",
    "print(\"Auto walls geometry:\")\n",
    "print(f'# walls: {radi_auto_walls.n_walls}')\n",
    "print(f'# patches: {radi_auto_walls.n_patches}')\n",
    "print('blue walls: '+\n",
    "      f'{np.argwhere(radi_auto_walls.walls_material==\"blue\")[:,0]}')\n",
    "print(f'red walls: {np.argwhere(radi_auto_walls.walls_material==\"red\")[:,0]}')\n",
    "\n",
    "\n",
    "# overwrite simple cube model to 1x1 patches (4 per wall)\n",
    "radi_nauto_walls = sp.DirectionalRadiosityFast.from_file(\n",
    "    base_dir+\"cube_diff_materials.blend\", auto_walls=False)\n",
    "\n",
    "print(\"\\n\\nNon-auto walls geometry:\")\n",
    "print(f'# walls: {radi_nauto_walls.n_walls}')\n",
    "print(f'# patches: {radi_nauto_walls.n_patches}')\n",
    "print(f'blue walls: {radi_nauto_walls.n_walls}')\n",
    "print('blue walls: '+\n",
    "      f'{np.argwhere(radi_nauto_walls.walls_material==\"blue\")[:,0]}')\n",
    "print(f'red walls: {np.argwhere(radi_nauto_walls.walls_material==\"red\")[:,0]}')"
   ]
  },
  {
   "cell_type": "markdown",
   "metadata": {},
   "source": [
    "STL files, as mentioned, do not include material properties"
   ]
  },
  {
   "cell_type": "markdown",
   "metadata": {},
   "source": [
    "Below is a table summarizing the behavior of the auto_walls and auto_patches options\n",
    "\n",
    "|                    |                                                                           |                                                                                    |                                                                                     |             |\n",
    "|:------------------:|:-------------------------------------------------------------------------:|:----------------------------------------------------------------------------------:|:-----------------------------------------------------------------------------------:|:-----------:|\n",
    "|  **auto_patches**  |                                  **TRUE**                                 |                                      **TRUE**                                      |                                      **FALSE**                                      |  **FALSE**  |\n",
    "|   **auto_walls**   |                                  **TRUE**                                 |                                      **FALSE**                                     |                                       **TRUE**                                      |  **FALSE**  |\n",
    "|                    |                                                                           |                                                                                    |                                                                                     |             |\n",
    "|       Patches      |                       defined from model subsurfaces                      |                           defined from model subsurfaces                           |                               defined from patch_size                               |  undefined  |\n",
    "|        Walls       |       accumulation of contiguous coplanar and same-material patches       |                           defined from model subsurfaces                           |            accumulation of contiguous coplanar and same-material patches            |  undefined  |\n",
    "|                    |                                                                           |                                                                                    |                                                                                     |             |\n",
    "| Patch requirements |                       must have same number of sides                      |                           must have same number of sides                           |                                         ---                                         | unsupported |\n",
    "|  Wall requirements |                       must have same number of sides                      |                                         ---                                        |                                 must be rectangular                                 | unsupported |\n",
    "|                    |                                                                           |                                                                                    |                                                                                     |             |\n",
    "| use case           | recommended. memory-efficient; geometry definitions done in external GUI  | e.g. in case patch properties should be changed manually throughout the simulation | e.g. to easily change patch dimensions without the need to develop a separate model | ---         |\n"
   ]
  },
  {
   "cell_type": "markdown",
   "metadata": {},
   "source": [
    "## Correctness\n",
    "\n",
    "Now, we can check if the results of the simulations of the models we loaded before are comparable."
   ]
  },
  {
   "cell_type": "code",
   "execution_count": 8,
   "metadata": {},
   "outputs": [],
   "source": [
    "# list our initialized radiosity models\n",
    "radi_list = [radi_simple_cube, radi_square_patches, radi_ow_patches,\n",
    "        radi_triangle_patches, radi_uneven_patches]\n",
    "\n",
    "radi_names = [\"simple cube\", \"auto square patches\",\n",
    "              \"non-auto square patches\", \"triangular patches\",\n",
    "              \"uneven rectangular patches\"]\n",
    "\n",
    "# acoustic scene parameters\n",
    "etc_duration = .2\n",
    "etc_time_resolution = 1/50\n",
    "max_reflection_order = 50\n",
    "speed_of_sound = 343.2\n",
    "absorption = 0.3\n",
    "\n",
    "etc_collection = []\n",
    "\n",
    "# introduce source and receiver\n",
    "source = pf.Coordinates(0, 0, 0)\n",
    "receiver = pf.Coordinates(.5, .5, .5)\n",
    "\n",
    "# create directional scattering data (perfectly diffuse)\n",
    "brdf_sources = pf.Coordinates(0, 0, 1, weights=1)\n",
    "brdf_receivers = pf.Coordinates(0, 0, 1, weights=1)\n",
    "frequencies = np.array([1000])\n",
    "brdf = sp.brdf.create_from_scattering(\n",
    "    brdf_sources,\n",
    "    brdf_receivers,\n",
    "    pf.FrequencyData(1, frequencies),\n",
    "    pf.FrequencyData(absorption, frequencies))"
   ]
  },
  {
   "cell_type": "markdown",
   "metadata": {},
   "source": [
    "Now we can run the simulation for each of the cube room models"
   ]
  },
  {
   "cell_type": "code",
   "execution_count": null,
   "metadata": {},
   "outputs": [
    {
     "name": "stdout",
     "output_type": "stream",
     "text": [
      "simulating simple cube model ...done!\n",
      "simulating auto square patches model ..."
     ]
    },
    {
     "name": "stderr",
     "output_type": "stream",
     "text": [
      "C:\\Users\\jotag\\AppData\\Local\\Temp\\ipykernel_18956\\1191192825.py:5: UserWarning: Gimbal lock detected. Setting third angle to zero since it is not possible to uniquely determine all angles.\n",
      "  radi.set_wall_brdf(np.arange(radi.n_walls),\n"
     ]
    },
    {
     "name": "stdout",
     "output_type": "stream",
     "text": [
      "done!\n",
      "simulating non-auto square patches model ...done!\n",
      "simulating triangular patches model ...done!\n",
      "simulating uneven rectangular patches model ...done!\n"
     ]
    }
   ],
   "source": [
    "# iterate over all radiosity instances\n",
    "for i,radi in enumerate(radi_list):\n",
    "    print(f\"simulating {radi_names[i]} model ...\",end=\"\")\n",
    "    # set propagation parameters\n",
    "    radi.set_wall_brdf(np.arange(radi.n_walls),\n",
    "                       brdf, brdf_sources, brdf_receivers)\n",
    "    radi.set_air_attenuation(\n",
    "                    pf.FrequencyData(\n",
    "                        np.zeros_like(brdf.frequencies),\n",
    "                        brdf.frequencies))\n",
    "    # bake geometry\n",
    "    radi.bake_geometry()\n",
    "    # initialize energy propagation\n",
    "    radi.init_source_energy(source)\n",
    "    # propagate energy\n",
    "    radi.calculate_energy_exchange(\n",
    "                speed_of_sound=speed_of_sound,\n",
    "                etc_time_resolution=etc_time_resolution,\n",
    "                etc_duration=etc_duration,\n",
    "                max_reflection_order=max_reflection_order)\n",
    "\n",
    "    # store etcs\n",
    "    etc_collection.append(\n",
    "        radi.collect_energy_receiver_mono(receivers=receiver))\n",
    "    print(\"done!\")"
   ]
  },
  {
   "cell_type": "markdown",
   "metadata": {},
   "source": [
    "Now we plot the energy decay"
   ]
  },
  {
   "cell_type": "code",
   "execution_count": 21,
   "metadata": {},
   "outputs": [
    {
     "ename": "IndexError",
     "evalue": "list index out of range",
     "output_type": "error",
     "traceback": [
      "\u001b[1;31m---------------------------------------------------------------------------\u001b[0m",
      "\u001b[1;31mIndexError\u001b[0m                                Traceback (most recent call last)",
      "Cell \u001b[1;32mIn[21], line 6\u001b[0m\n\u001b[0;32m      1\u001b[0m plt\u001b[38;5;241m.\u001b[39mfigure()\n\u001b[0;32m      3\u001b[0m \u001b[38;5;28;01mfor\u001b[39;00m i \u001b[38;5;129;01min\u001b[39;00m \u001b[38;5;28mrange\u001b[39m(\u001b[38;5;28mlen\u001b[39m(etc_collection)):\n\u001b[0;32m      4\u001b[0m     pf\u001b[38;5;241m.\u001b[39mplot\u001b[38;5;241m.\u001b[39mtime(\n\u001b[0;32m      5\u001b[0m     etc_collection[i], dB\u001b[38;5;241m=\u001b[39m\u001b[38;5;28;01mTrue\u001b[39;00m, log_prefix\u001b[38;5;241m=\u001b[39m\u001b[38;5;241m10\u001b[39m,\n\u001b[1;32m----> 6\u001b[0m     label\u001b[38;5;241m=\u001b[39m\u001b[43mradi_names\u001b[49m\u001b[43m[\u001b[49m\u001b[43mi\u001b[49m\u001b[43m]\u001b[49m)\n\u001b[0;32m      8\u001b[0m plt\u001b[38;5;241m.\u001b[39mlegend()\n\u001b[0;32m      9\u001b[0m plt\u001b[38;5;241m.\u001b[39mshow()\n",
      "\u001b[1;31mIndexError\u001b[0m: list index out of range"
     ]
    },
    {
     "data": {
      "image/png": "[encoded data removed]",
      "text/plain": [
       "<Figure size 640x480 with 1 Axes>"
      ]
     },
     "metadata": {},
     "output_type": "display_data"
    }
   ],
   "source": [
    "plt.figure()\n",
    "\n",
    "for i in range(len(etc_collection)):\n",
    "    pf.plot.time(\n",
    "    etc_collection[i], dB=True, log_prefix=10,\n",
    "    label=radi_names[i])\n",
    "\n",
    "plt.legend()\n",
    "plt.show()"
   ]
  }
 ],
 "metadata": {
  "kernelspec": {
   "display_name": ".venv",
   "language": "python",
   "name": "python3"
  },
  "language_info": {
   "codemirror_mode": {
    "name": "ipython",
    "version": 3
   },
   "file_extension": ".py",
   "mimetype": "text/x-python",
   "name": "python",
   "nbconvert_exporter": "python",
   "pygments_lexer": "ipython3",
   "version": "3.11.9"
  }
 },
 "nbformat": 4,
 "nbformat_minor": 2
}
