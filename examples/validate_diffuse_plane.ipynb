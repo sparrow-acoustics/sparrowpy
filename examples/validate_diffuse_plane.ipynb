{
 "cells": [
  {
   "cell_type": "code",
   "execution_count": 24,
   "metadata": {},
   "outputs": [],
   "source": [
    "\"\"\"Test the radiosity.Radiosity module.\"\"\"\n",
    "import numpy as np\n",
    "import pyfar as pf\n",
    "import sparrowpy as sp\n",
    "import matplotlib.pyplot as plt\n",
    "from datetime import datetime\n",
    "\n",
    "%matplotlib inline\n",
    "# %matplotlib ipympl"
   ]
  },
  {
   "cell_type": "markdown",
   "metadata": {},
   "source": [
    "Define the parameters and geometry for the simulation."
   ]
  },
  {
   "cell_type": "code",
   "execution_count": 30,
   "metadata": {},
   "outputs": [],
   "source": [
    "# room dimensions\n",
    "X = 10\n",
    "Y = 10\n",
    "Z = 10\n",
    "R = 1.5\n",
    "height = 1  # height of the source\n",
    "\n",
    "patch_max_size = 2\n",
    "patch_dec = 0.01\n",
    "patch_min_size = 0.05\n",
    "ir_length_s = 0.2\n",
    "sampling_rate = 10000\n",
    "max_order_k = 1\n",
    "speed_of_sound = 346.18\n",
    "absorption = 1  # param default 0.1\n",
    "\n",
    "# create geometry\n",
    "# circleRes = np.arange(0, 2 * np.pi * R, 0.1)  # circle of 1.5 meters\n",
    "# probeDims = np.column_stack(\n",
    "#    (np.cos(circleRes), np.sin(circleRes), [5] * len(circleRes)),\n",
    "# )\n",
    "\n",
    "\n",
    "walls = sp.testing.shoebox_room_stub(X, Y, Z)\n",
    "for i in walls:\n",
    "    i.__setattr__(\"absorption\", 1)\n",
    "probeUp = [\n",
    "    sp.geometry.Polygon(\n",
    "        np.array([[1, 1, Z / 2], [1, 9, Z / 2], [9, 9, Z / 2], [9, 1, Z / 2]]),\n",
    "        np.array([1, 0, 0]),\n",
    "        np.array([0, 0, 1]),\n",
    "    ),\n",
    "]\n",
    "[i.__setattr__(\"absorption\", 0) for i in probeUp]\n",
    "probeDown = [\n",
    "    sp.geometry.Polygon(\n",
    "        np.array([[1, 1, Z / 2], [1, 9, Z / 2], [9, 9, Z / 2], [9, 1, Z / 2]]),\n",
    "        np.array([1, 0, 0]),\n",
    "        np.array([0, 0, -1]),\n",
    "    ),\n",
    "]\n",
    "probeDown[0].__setattr__(\"absorption\", 1)\n",
    "# probeUpper = [\n",
    "#    sp.geometry.Polygon(probeDims, np.array([1, 0, 0]), np.array([0, 0, 1])),\n",
    "# ]  # top side a=0\n",
    "# probeUpper[0].__setattr__(\"absorption\", 0)\n",
    "# probeLower = [\n",
    "#    sp.geometry.Polygon(probeDims, np.array([1, 0, 0]), np.array([0, 0, -1])),\n",
    "# ]  # bottom side a=1\n",
    "# probeLower[0].__setattr__(\"absorption\", 1)\n",
    "elements = probeUp  # + walls + probeDown\n",
    "source_pos = np.array([5, 5, 5 + height])\n",
    "source = sp.geometry.SoundSource(\n",
    "    source_pos,\n",
    "    np.array([0, 1, 0]),\n",
    "    np.array([0, 0, 1]),\n",
    ")\n",
    "receiver_pos = np.array([5, 5, 5 + height])  # same as source pos"
   ]
  },
  {
   "cell_type": "markdown",
   "metadata": {},
   "source": [
    "Calculate old slow approach for comparison."
   ]
  },
  {
   "cell_type": "code",
   "execution_count": 26,
   "metadata": {},
   "outputs": [
    {
     "name": "stderr",
     "output_type": "stream",
     "text": [
      "C:\\Users\\klingelnberg\\BA\\sparrowpy\\sparrowpy\\radiosity.py:68: RuntimeWarning: invalid value encountered in divide\n",
      "  real_size = size / patch_nums\n"
     ]
    },
    {
     "name": "stdout",
     "output_type": "stream",
     "text": [
      "Time elapsed: 0:00:11.353756\n"
     ]
    }
   ],
   "source": [
    "start = datetime.now()\n",
    "# init object\n",
    "patch_values = [\n",
    "    (i / 100)\n",
    "    for i in range(\n",
    "        (int)(patch_max_size * 100),\n",
    "        (int)(patch_min_size * 100),\n",
    "        (int)(-patch_dec * 100),\n",
    "    )\n",
    "]\n",
    "radi_planes = [\n",
    "    sp.radiosity.Radiosity(\n",
    "        elements,\n",
    "        i,\n",
    "        max_order_k,\n",
    "        ir_length_s,\n",
    "        speed_of_sound=speed_of_sound,\n",
    "        sampling_rate=sampling_rate,\n",
    "    )\n",
    "    for i in patch_values\n",
    "]\n",
    "\n",
    "radi = sp.radiosity.Radiosity(\n",
    "    elements,\n",
    "    1.4,\n",
    "    max_order_k,\n",
    "    ir_length_s,\n",
    "    speed_of_sound=speed_of_sound,\n",
    "    sampling_rate=sampling_rate,\n",
    ")\n",
    "radi2 = sp.radiosity.Radiosity(\n",
    "    elements,\n",
    "    0.95,\n",
    "    max_order_k,\n",
    "    ir_length_s,\n",
    "    speed_of_sound=speed_of_sound,\n",
    "    sampling_rate=sampling_rate,\n",
    ")\n",
    "\n",
    "# run simulation\n",
    "[i.run(source) for i in radi_planes]\n",
    "# radi.run(source)\n",
    "# radi2.run(source)\n",
    "\n",
    "# gather energy at receiver\n",
    "receiver = sp.geometry.Receiver(\n",
    "    receiver_pos, np.array([0, 0, -1]), np.array([0, 1, 0])\n",
    ")\n",
    "histograms = [\n",
    "    i.energy_at_receiver(receiver, ignore_direct=True) for i in radi_planes\n",
    "]\n",
    "# hist_s = radi.energy_at_receiver(receiver, ignore_direct=True)\n",
    "# hist_s2 = radi2.energy_at_receiver(receiver, ignore_direct=True)\n",
    "\n",
    "# stop timer\n",
    "delta = datetime.now() - start\n",
    "print(f\"Time elapsed: {delta}\")\n",
    "slow_time_s = (delta.seconds * 1e6 + delta.microseconds) / 1e6"
   ]
  },
  {
   "cell_type": "markdown",
   "metadata": {},
   "source": [
    "Calculate the analytical reference after Kuttruff."
   ]
  },
  {
   "cell_type": "code",
   "execution_count": 29,
   "metadata": {},
   "outputs": [
    {
     "data": {
      "image/png": "[encoded data removed]",
      "text/plain": [
       "<Figure size 640x480 with 1 Axes>"
      ]
     },
     "metadata": {},
     "output_type": "display_data"
    }
   ],
   "source": [
    "S = np.pi * R**2\n",
    "A = S * 0\n",
    "alpha_dash = A / S\n",
    "r_h = 1 / 4 * np.sqrt(A / np.pi)\n",
    "# print(f\"reverberation distance is {r_h}m\")\n",
    "# V = 1\n",
    "# RT = 24 * np.log(10) / (speed_of_sound) * V / (-S * np.log(1 - alpha_dash))\n",
    "# print(f\"reverberation time is {RT}s\")\n",
    "# E_reverb_analytical = 4 / A\n",
    "# t = reverberation_slow.times\n",
    "# Kuttruff Eq 4.7\n",
    "# w_0 = E_reverb_analytical / V\n",
    "# t_0 = 0.03\n",
    "# Kuttruff Eq 4.10\n",
    "# reverberation_analytic = w_0 * np.exp(\n",
    "#    +(speed_of_sound * S * np.log(1 - alpha_dash) / (4 * V)) * (t - t_0)\n",
    "# )\n",
    "# reverberation_analytic = pf.Signal(\n",
    "#    reverberation_analytic, sampling_rate=sampling_rate\n",
    "# )\n",
    "\n",
    "# Signal\n",
    "I_diffuse_planes = [\n",
    "    pf.Signal(i, sampling_rate=sampling_rate) for i in histograms\n",
    "]\n",
    "# I_diffuse = pf.Signal(hist_s, sampling_rate=sampling_rate)\n",
    "# I_diffuse2 = pf.Signal(hist_s2, sampling_rate=sampling_rate)\n",
    "\n",
    "I_specular = 1 / (4 * np.pi * (height * 2) ** 2)\n",
    "factors = [np.sum(i.time[:, :]) / I_specular for i in I_diffuse_planes]\n",
    "# factor = np.sum(I_diffuse.time[:, :]) / I_specular\n",
    "# factor2 = np.sum(I_diffuse2.time[:, :]) / I_specular\n",
    "# print(f\"Factor is {factor}x and for smaller patches {factor2}x\")\n",
    "# 1.7953462108378138x for patch_size 0.05 optimal result\n",
    "\n",
    "# Plot the factors\n",
    "plt.figure()\n",
    "plt.plot(patch_values, factors, label=\"factor\")\n",
    "plt.gca().invert_xaxis()\n",
    "plt.xlabel(\"patch size\")\n",
    "plt.ylabel(\"I_diffuse / I_specular\")\n",
    "plt.legend()\n",
    "plt.show()"
   ]
  },
  {
   "cell_type": "markdown",
   "metadata": {},
   "source": [
    "Plot comparison"
   ]
  },
  {
   "cell_type": "code",
   "execution_count": 12,
   "metadata": {},
   "outputs": [
    {
     "ename": "NameError",
     "evalue": "name 'I_diffuse' is not defined",
     "output_type": "error",
     "traceback": [
      "\u001b[1;31m---------------------------------------------------------------------------\u001b[0m",
      "\u001b[1;31mNameError\u001b[0m                                 Traceback (most recent call last)",
      "Cell \u001b[1;32mIn[12], line 4\u001b[0m\n\u001b[0;32m      1\u001b[0m plt\u001b[38;5;241m.\u001b[39mfigure()\n\u001b[0;32m      3\u001b[0m pf\u001b[38;5;241m.\u001b[39mplot\u001b[38;5;241m.\u001b[39mtime(\n\u001b[1;32m----> 4\u001b[0m     \u001b[43mI_diffuse\u001b[49m,\n\u001b[0;32m      5\u001b[0m     dB\u001b[38;5;241m=\u001b[39m\u001b[38;5;28;01mTrue\u001b[39;00m,\n\u001b[0;32m      6\u001b[0m     log_prefix\u001b[38;5;241m=\u001b[39m\u001b[38;5;241m10\u001b[39m,\n\u001b[0;32m      7\u001b[0m     label\u001b[38;5;241m=\u001b[39m\u001b[38;5;124m\"\u001b[39m\u001b[38;5;124mI_diffuse_time\u001b[39m\u001b[38;5;124m\"\u001b[39m,\n\u001b[0;32m      8\u001b[0m     unit\u001b[38;5;241m=\u001b[39m\u001b[38;5;124m\"\u001b[39m\u001b[38;5;124mms\u001b[39m\u001b[38;5;124m\"\u001b[39m,\n\u001b[0;32m      9\u001b[0m )\n\u001b[0;32m     10\u001b[0m pf\u001b[38;5;241m.\u001b[39mplot\u001b[38;5;241m.\u001b[39mtime(\n\u001b[0;32m     11\u001b[0m     I_diffuse2,\n\u001b[0;32m     12\u001b[0m     dB\u001b[38;5;241m=\u001b[39m\u001b[38;5;28;01mTrue\u001b[39;00m,\n\u001b[1;32m   (...)\u001b[0m\n\u001b[0;32m     15\u001b[0m     unit\u001b[38;5;241m=\u001b[39m\u001b[38;5;124m\"\u001b[39m\u001b[38;5;124mms\u001b[39m\u001b[38;5;124m\"\u001b[39m,\n\u001b[0;32m     16\u001b[0m )\n\u001b[0;32m     18\u001b[0m plt\u001b[38;5;241m.\u001b[39mxlim(\u001b[38;5;241m0\u001b[39m, \u001b[38;5;241m300\u001b[39m)\n",
      "\u001b[1;31mNameError\u001b[0m: name 'I_diffuse' is not defined"
     ]
    },
    {
     "data": {
      "text/plain": [
       "<Figure size 640x480 with 0 Axes>"
      ]
     },
     "metadata": {},
     "output_type": "display_data"
    }
   ],
   "source": [
    "plt.figure()\n",
    "\n",
    "pf.plot.time(\n",
    "    I_diffuse,\n",
    "    dB=True,\n",
    "    log_prefix=10,\n",
    "    label=\"I_diffuse_time\",\n",
    "    unit=\"ms\",\n",
    ")\n",
    "pf.plot.time(\n",
    "    I_diffuse2,\n",
    "    dB=True,\n",
    "    log_prefix=10,\n",
    "    label=\"I_diffuse_time_small_patches\",\n",
    "    unit=\"ms\",\n",
    ")\n",
    "\n",
    "plt.xlim(0, 300)\n",
    "plt.legend()\n",
    "plt.show()"
   ]
  },
  {
   "cell_type": "markdown",
   "metadata": {},
   "source": [
    "Find signal points"
   ]
  },
  {
   "cell_type": "code",
   "execution_count": null,
   "metadata": {},
   "outputs": [],
   "source": []
  },
  {
   "cell_type": "code",
   "execution_count": 14,
   "metadata": {},
   "outputs": [
    {
     "name": "stdout",
     "output_type": "stream",
     "text": [
      "Python implementation: CPython\n",
      "Python version       : 3.11.11\n",
      "IPython version      : 8.31.0\n",
      "\n",
      "Compiler    : GCC 13.3.0\n",
      "OS          : Linux\n",
      "Release     : 5.15.167.4-microsoft-standard-WSL2\n",
      "Machine     : x86_64\n",
      "Processor   : x86_64\n",
      "CPU cores   : 8\n",
      "Architecture: 64bit\n",
      "\n",
      "sparrowpy : 0.1.0\n",
      "pyfar     : 0.7.1\n",
      "matplotlib: 3.10.0\n",
      "numpy     : 2.1.3\n",
      "\n"
     ]
    }
   ],
   "source": [
    "%load_ext watermark\n",
    "%watermark -v -m -iv"
   ]
  }
 ],
 "metadata": {
  "kernelspec": {
   "display_name": "sparrowpy",
   "language": "python",
   "name": "python3"
  },
  "language_info": {
   "codemirror_mode": {
    "name": "ipython",
    "version": 3
   },
   "file_extension": ".py",
   "mimetype": "text/x-python",
   "name": "python",
   "nbconvert_exporter": "python",
   "pygments_lexer": "ipython3",
   "version": "3.11.11"
  }
 },
 "nbformat": 4,
 "nbformat_minor": 2
}
