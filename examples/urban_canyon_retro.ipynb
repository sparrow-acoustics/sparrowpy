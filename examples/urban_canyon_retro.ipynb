{
 "cells": [
  {
   "cell_type": "markdown",
   "metadata": {},
   "source": [
    "# Urban canyon study\n",
    "\n",
    "This example shows the behavior of sparrowpy in the simulation of an urban canyon under different simulation conditions"
   ]
  },
  {
   "cell_type": "code",
   "execution_count": null,
   "metadata": {},
   "outputs": [],
   "source": [
    "\"\"\"Test the radiosity.Radiosity module.\"\"\"\n",
    "import pyfar as pf\n",
    "import sparrowpy as sp\n",
    "from run_simu import run_simu, run_simu_mem, run_simu_pure\n",
    "import json\n",
    "import numpy as np\n",
    "import matplotlib.pyplot as plt\n",
    "import os\n",
    "\n",
    "%load_ext memory_profiler\n",
    "\n",
    "%matplotlib inline\n",
    "# %matplotlib ipympls\n",
    "\n",
    "basepath=\"out\""
   ]
  },
  {
   "cell_type": "markdown",
   "metadata": {},
   "source": [
    "Lets define our room and source position."
   ]
  },
  {
   "cell_type": "code",
   "execution_count": null,
   "metadata": {},
   "outputs": [],
   "source": [
    "def urban_canyon_stub(length_x, length_y, length_z):\n",
    "    \"\"\"Create a shoebox room with the given dimensions.\n",
    "\n",
    "    Parameters\n",
    "    ----------\n",
    "    length_x : float\n",
    "        Length of the urban canyon in meters.\n",
    "    length_y : float\n",
    "        width of the urban canyon in meters.\n",
    "    length_z : float\n",
    "        height of the urban canyon in meters.\n",
    "\n",
    "    Returns\n",
    "    -------\n",
    "    room : list[geo.Polygon]\n",
    "        List of the walls of the room.\n",
    "\n",
    "    \"\"\"\n",
    "    return [\n",
    "        sp.geometry.Polygon(\n",
    "            [[0, 0, 0], [length_x, 0, 0],\n",
    "            [length_x, 0, length_z], [0, 0, length_z]],\n",
    "            [0, 0, 1], [0, 1, 0]),\n",
    "        sp.geometry.Polygon(\n",
    "            [[0, 0, 0],[0, length_y, 0],\n",
    "            [length_x, length_y, 0], [length_x, 0, 0 ]],\n",
    "            [1, 0, 0], [0, 0, 1]),\n",
    "        sp.geometry.Polygon(\n",
    "            [[0, length_y, 0], [length_x, length_y, 0],\n",
    "            [length_x, length_y, length_z], [0, length_y, length_z]],\n",
    "            [0, 0, -1], [0, -1, 0]),\n",
    "        ]"
   ]
  },
  {
   "cell_type": "code",
   "execution_count": null,
   "metadata": {},
   "outputs": [],
   "source": [
    "# Define parameters\n",
    "X = 90\n",
    "Y = 12\n",
    "Z = 6\n",
    "\n",
    "# create geometry\n",
    "canyon = urban_canyon_stub(X, Y, Z)\n",
    "source = pf.Coordinates(20, 6, 1)\n",
    "receiver = pf.Coordinates(21, 6, 2)"
   ]
  },
  {
   "cell_type": "code",
   "execution_count": null,
   "metadata": {},
   "outputs": [],
   "source": [
    "run_simu(walls=urban_canyon_stub(1,1,1),\n",
    "        source=pf.Coordinates(.5,.5,.5),\n",
    "        receiver=pf.Coordinates(.5,.5,.5),\n",
    "        patch_size=1)"
   ]
  },
  {
   "cell_type": "markdown",
   "metadata": {},
   "source": [
    "## diffuse vs custom"
   ]
  },
  {
   "cell_type": "code",
   "execution_count": null,
   "metadata": {},
   "outputs": [],
   "source": [
    "order=30\n",
    "dur=1.\n",
    "step=.002\n",
    "psize=3"
   ]
  },
  {
   "cell_type": "code",
   "execution_count": null,
   "metadata": {},
   "outputs": [],
   "source": [
    "filename_wall = \"resources\\\\brdf_rand.sofa\"\n",
    "filename_ground = \"resources\\\\brdf_ground.sofa\"\n",
    "etc_diff=run_simu_pure(\n",
    "    walls=canyon,\n",
    "    source=source,\n",
    "    receiver=receiver,\n",
    "    patch_size=psize,\n",
    "    time_step=step,\n",
    "    duration=dur,\n",
    "    refl_order=order,\n",
    "    file_wall=filename_wall,\n",
    "    file_ground=filename_ground)\n",
    "\n"
   ]
  },
  {
   "cell_type": "code",
   "execution_count": null,
   "metadata": {},
   "outputs": [],
   "source": [
    "filename_wall = \"resources\\\\brdf_new.sofa\"\n",
    "filename_ground = \"resources\\\\brdf_ground.sofa\"\n",
    "etc_file=run_simu_pure(\n",
    "    walls=canyon,\n",
    "    source=source,\n",
    "    receiver=receiver,\n",
    "    patch_size=psize,\n",
    "    time_step=step,\n",
    "    duration=dur,\n",
    "    refl_order=order,\n",
    "    file_wall=filename_wall,\n",
    "    file_ground=filename_ground)"
   ]
  },
  {
   "cell_type": "code",
   "execution_count": null,
   "metadata": {},
   "outputs": [],
   "source": [
    "pf.io.write(os.path.join(basepath, f\"proof_retro_etcs_psize{psize}.far\"),\n",
    "            compress=False,\n",
    "            diffuse_etc=etc_diff,\n",
    "            custom_etc=etc_file,\n",
    "            freqs=np.array([125, 250, 500, 1e3, 2e3, 4e3]))"
   ]
  },
  {
   "cell_type": "code",
   "execution_count": null,
   "metadata": {},
   "outputs": [],
   "source": [
    "ax = pf.plot.time(etc_file, dB=True, log_prefix=10,\n",
    "             label=\"custom scattering\",\n",
    "             linestyle=\"-\")\n",
    "ax.set_prop_cycle(None)\n",
    "pf.plot.time(etc_diff, dB=True, log_prefix=10,\n",
    "             label=\"diffuse\",\n",
    "             linestyle=\"--\")\n",
    "plt.legend()"
   ]
  },
  {
   "cell_type": "markdown",
   "metadata": {},
   "source": [
    "### run simulation"
   ]
  },
  {
   "cell_type": "code",
   "execution_count": null,
   "metadata": {},
   "outputs": [],
   "source": [
    "assert False"
   ]
  },
  {
   "cell_type": "code",
   "execution_count": null,
   "metadata": {},
   "outputs": [],
   "source": [
    "time_steps = [1/50,1/100,1/250,1/500,1/1000]\n",
    "patch_sizes = [6,3,2,1.5]\n",
    "refl_orders = [1,20,40,60,80,100]\n",
    "angl_res =[2,4,6,8,10]"
   ]
  },
  {
   "cell_type": "code",
   "execution_count": null,
   "metadata": {},
   "outputs": [],
   "source": [
    "# baseline\n",
    "pss = 3\n",
    "refll = 10\n",
    "tss = 1/100\n",
    "angg = 4\n",
    "\n",
    "out={\"baseline\":{\"patch_size\":[],\n",
    "                 \"reflection_order\":[],\n",
    "                 \"time_step\":[],\n",
    "                 \"brdf_resolution\":[]},\n",
    "     \"reflection_order\":{\"mem\":[],\n",
    "                  \"t\":[],\n",
    "                  \"edc\":[],\n",
    "                  \"data\":[]},\n",
    "     \"brdf_resolution\":{\"mem\":[],\n",
    "                  \"t\":[],\n",
    "                  \"edc\":[],\n",
    "                  \"data\":[]},\n",
    "     \"patch_size\":{\"mem\":[],\n",
    "                  \"t\":[],\n",
    "                  \"edc\":[],\n",
    "                  \"data\":[]},\n",
    "     \"time_step\":{\"mem\":[],\n",
    "                  \"t\":[],\n",
    "                  \"edc\":[],\n",
    "                  \"data\":[]},\n",
    "                  }\n",
    "\n",
    "out[\"baseline\"][\"patch_size\"]=pss\n",
    "\n",
    "out[\"baseline\"][\"reflection_order\"]=refll\n",
    "\n",
    "out[\"baseline\"][\"time_step\"]=tss\n",
    "\n",
    "out[\"baseline\"][\"brdf_resolution\"]=angg"
   ]
  },
  {
   "cell_type": "code",
   "execution_count": null,
   "metadata": {},
   "outputs": [],
   "source": [
    "# time stepping\n",
    "\n",
    "for ts in time_steps:\n",
    "    edc,t = run_simu( walls=canyon, source=source,\n",
    "                    receiver=receiver, patch_size=pss,\n",
    "                    time_step=ts, duration=1.2,\n",
    "                    refl_order=refll, res=angg)\n",
    "    out[\"time_step\"][\"edc\"]=edc.time.tolist()\n",
    "    out[\"time_step\"][\"t\"].append(t)\n",
    "out[\"time_step\"][\"data\"]=time_steps\n",
    "\n",
    "with open(basepath+'urban_canyon_no_mem.json', 'w') as fp:\n",
    "    json.dump(out, fp,indent=2)\n"
   ]
  },
  {
   "cell_type": "code",
   "execution_count": null,
   "metadata": {},
   "outputs": [],
   "source": [
    "# reflection order\n",
    "\n",
    "for refl in refl_orders:\n",
    "    edc,t = run_simu( walls=canyon, source=source,\n",
    "                    receiver=receiver, patch_size=pss,\n",
    "                    time_step=tss, duration=1.2,\n",
    "                    refl_order=refl, res=angg)\n",
    "    out[\"reflection_order\"][\"edc\"]=edc.time.tolist()\n",
    "    out[\"reflection_order\"][\"t\"].append(t)\n",
    "out[\"reflection_order\"][\"data\"]=refl_orders\n",
    "\n",
    "with open(basepath+'urban_canyon_no_mem.json', 'w') as fp:\n",
    "    json.dump(out, fp,indent=2)\n",
    "\n"
   ]
  },
  {
   "cell_type": "code",
   "execution_count": null,
   "metadata": {},
   "outputs": [],
   "source": [
    "# angular resolution\n",
    "\n",
    "for ang in angl_res:\n",
    "    edc,t = run_simu( walls=canyon, source=source,\n",
    "                    receiver=receiver, patch_size=pss,\n",
    "                    time_step=tss, duration=1.2,\n",
    "                    refl_order=refll, res=ang)\n",
    "    out[\"brdf_resolution\"][\"edc\"]=edc.time.tolist()\n",
    "    out[\"brdf_resolution\"][\"t\"].append(t)\n",
    "out[\"brdf_resolution\"][\"data\"]=angl_res"
   ]
  },
  {
   "cell_type": "code",
   "execution_count": null,
   "metadata": {},
   "outputs": [],
   "source": [
    "with open(basepath+'urban_canyon_no_mem.json', 'w') as fp:\n",
    "    json.dump(out, fp,indent=2)"
   ]
  },
  {
   "cell_type": "code",
   "execution_count": null,
   "metadata": {},
   "outputs": [],
   "source": [
    "# patch sizes\n",
    "\n",
    "for pat in patch_sizes:\n",
    "    edc,t = run_simu( walls=canyon, source=source,\n",
    "                    receiver=receiver, patch_size=pat,\n",
    "                    time_step=tss, duration=1.2,\n",
    "                    refl_order=refll, res=angg )\n",
    "    out[\"patch_size\"][\"edc\"] = edc.time.tolist()\n",
    "    out[\"patch_size\"][\"t\"].append(t)\n",
    "out[\"patch_size\"][\"data\"]=patch_sizes\n"
   ]
  },
  {
   "cell_type": "code",
   "execution_count": null,
   "metadata": {},
   "outputs": [],
   "source": [
    "with open(basepath+'urban_canyon_no_mem.json', 'w') as fp:\n",
    "    json.dump(out, fp,indent=2)"
   ]
  },
  {
   "cell_type": "code",
   "execution_count": null,
   "metadata": {},
   "outputs": [],
   "source": [
    "# memory\n",
    "for ts in time_steps:\n",
    "    out[\"time_step\"][\"mem\"].append(run_simu_mem( walls=canyon, source=source,\n",
    "                    receiver=receiver, patch_size=pss,\n",
    "                    time_step=ts, duration=1.2,\n",
    "                    refl_order=refll, res=angg))\n",
    "print(\"ts done\")\n",
    "with open(basepath+'urban_canyon_with_mem.json', 'w') as fp:\n",
    "    json.dump(out, fp,indent=2)\n",
    "for refl in refl_orders:\n",
    "    out[\"reflection_order\"][\"mem\"].append(run_simu_mem( walls=canyon, source=source,\n",
    "                    receiver=receiver, patch_size=pss,\n",
    "                    time_step=tss, duration=1.2,\n",
    "                    refl_order=refl, res=angg))\n",
    "print(\"refl done\")\n",
    "with open(basepath+'urban_canyon_with_mem.json', 'w') as fp:\n",
    "    json.dump(out, fp,indent=2)\n",
    "for ang in angl_res:\n",
    "    out[\"brdf_resolution\"][\"mem\"].append(run_simu_mem( walls=canyon, source=source,\n",
    "                    receiver=receiver, patch_size=pss,\n",
    "                    time_step=tss, duration=1.2,\n",
    "                    refl_order=refll, res=ang))\n",
    "print(\"ang done\")\n",
    "with open(basepath+'urban_canyon_with_mem.json', 'w') as fp:\n",
    "    json.dump(out, fp,indent=2)\n"
   ]
  },
  {
   "cell_type": "code",
   "execution_count": null,
   "metadata": {},
   "outputs": [],
   "source": [
    "for pat in patch_sizes:\n",
    "    out[\"patch_size\"][\"mem\"].append(run_simu_mem( walls=canyon, source=source,\n",
    "                    receiver=receiver, patch_size=pat,\n",
    "                    time_step=tss, duration=1.2,\n",
    "                    refl_order=refll, res=angg))\n",
    "with open(basepath+'urban_canyon_with_mem.json', 'w') as fp:\n",
    "    json.dump(out, fp,indent=2)"
   ]
  },
  {
   "cell_type": "markdown",
   "metadata": {},
   "source": [
    "If the order would be increased, this would match even after 0.5s.\n"
   ]
  },
  {
   "cell_type": "code",
   "execution_count": null,
   "metadata": {},
   "outputs": [],
   "source": [
    "%load_ext watermark\n",
    "%watermark -v -m -iv"
   ]
  },
  {
   "cell_type": "code",
   "execution_count": null,
   "metadata": {},
   "outputs": [],
   "source": []
  },
  {
   "cell_type": "code",
   "execution_count": null,
   "metadata": {},
   "outputs": [],
   "source": []
  },
  {
   "cell_type": "code",
   "execution_count": null,
   "metadata": {},
   "outputs": [],
   "source": []
  },
  {
   "cell_type": "code",
   "execution_count": null,
   "metadata": {},
   "outputs": [],
   "source": []
  }
 ],
 "metadata": {
  "kernelspec": {
   "display_name": "sparrowpy",
   "language": "python",
   "name": "python3"
  },
  "language_info": {
   "codemirror_mode": {
    "name": "ipython",
    "version": 3
   },
   "file_extension": ".py",
   "mimetype": "text/x-python",
   "name": "python",
   "nbconvert_exporter": "python",
   "pygments_lexer": "ipython3",
   "version": "3.11.13"
  }
 },
 "nbformat": 4,
 "nbformat_minor": 2
}
