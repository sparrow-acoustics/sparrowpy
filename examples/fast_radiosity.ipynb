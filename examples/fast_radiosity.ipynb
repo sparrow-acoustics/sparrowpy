{
 "cells": [
  {
   "cell_type": "markdown",
   "metadata": {},
   "source": [
    "# Fast Directional Radiosity\n",
    "\n",
    "This examples shows a simple diffuse simulation of a shoebox room and compare the the result with the analytical solution.\n",
    "First we import all our dependencies."
   ]
  },
  {
   "cell_type": "code",
   "execution_count": 13,
   "metadata": {},
   "outputs": [],
   "source": [
    "\"\"\"Test the radiosity.Radiosity module.\"\"\"\n",
    "import numpy as np\n",
    "import pyfar as pf\n",
    "import sparrowpy as sp\n",
    "import matplotlib.pyplot as plt\n",
    "\n",
    "%matplotlib inline\n",
    "# %matplotlib ipympl"
   ]
  },
  {
   "cell_type": "markdown",
   "metadata": {},
   "source": [
    "Lets define our room and source position."
   ]
  },
  {
   "cell_type": "code",
   "execution_count": 14,
   "metadata": {},
   "outputs": [],
   "source": [
    "# Define parameters\n",
    "X = 5\n",
    "Y = 6\n",
    "Z = 4\n",
    "patch_size = 1\n",
    "ir_length_s = 1\n",
    "time_resolution = 1/1000\n",
    "max_order_k = 150\n",
    "speed_of_sound = 343.2\n",
    "absorption = 0.1\n",
    "\n",
    "# create geometry\n",
    "walls = sp.testing.shoebox_room_stub(X, Y, Z)\n",
    "source_pos = [2, 2, 2]\n",
    "source = sp.geometry.SoundSource(source_pos, [0, 1, 0], [0, 0, 1])\n",
    "receiver_pos = np.array([2, 3, 2])"
   ]
  },
  {
   "cell_type": "markdown",
   "metadata": {},
   "source": [
    "Let's create the instance of the simulation class called ``DirectionalRadiosityFast`` from the previously defined walls."
   ]
  },
  {
   "cell_type": "code",
   "execution_count": 15,
   "metadata": {},
   "outputs": [],
   "source": [
    "# create object\n",
    "radiosity_fast = sp.DirectionalRadiosityFast.from_polygon(walls, patch_size)\n"
   ]
  },
  {
   "cell_type": "markdown",
   "metadata": {},
   "source": [
    "Now we define the scattering coefficient to be 1 for each wall:"
   ]
  },
  {
   "cell_type": "code",
   "execution_count": 16,
   "metadata": {},
   "outputs": [
    {
     "name": "stderr",
     "output_type": "stream",
     "text": [
      "/var/folders/7q/_50y0lw50_x1j732_5yyyx7h0000gn/T/ipykernel_30800/2190615864.py:9: UserWarning: Gimbal lock detected. Setting third angle to zero since it is not possible to uniquely determine all angles.\n",
      "  radiosity_fast.set_wall_scattering(\n"
     ]
    }
   ],
   "source": [
    "# create directional scattering data (totally diffuse)\n",
    "sources = pf.Coordinates(0, 0, 1, weights=1)\n",
    "receivers = pf.Coordinates(0, 0, 1, weights=1)\n",
    "frequencies = np.array([1000])\n",
    "brdf = sp.brdf.create_from_scattering(\n",
    "    sources, receivers, pf.FrequencyData(1, frequencies))\n",
    "\n",
    "# set directional scattering data\n",
    "radiosity_fast.set_wall_scattering(\n",
    "    np.arange(len(walls)), brdf, sources, receivers)"
   ]
  },
  {
   "cell_type": "markdown",
   "metadata": {},
   "source": [
    "The air attenuation and absorption can be defined as well."
   ]
  },
  {
   "cell_type": "code",
   "execution_count": 17,
   "metadata": {},
   "outputs": [],
   "source": [
    "# set air absorption\n",
    "radiosity_fast.set_air_attenuation(\n",
    "    pf.FrequencyData(\n",
    "        np.zeros_like(brdf.frequencies),\n",
    "        brdf.frequencies))\n",
    "\n",
    "# set absorption coefficient\n",
    "radiosity_fast.set_wall_absorption(\n",
    "    np.arange(len(walls)),\n",
    "    pf.FrequencyData(\n",
    "        np.zeros_like(brdf.frequencies)+absorption,\n",
    "        brdf.frequencies))\n"
   ]
  },
  {
   "cell_type": "markdown",
   "metadata": {},
   "source": [
    "Now the simulation start, first the geometry is baked, where all patch to patch relationships are precalculated. E.g. Form-factor including the geometrical relationship between the patches as well as the BRDFs. This is the most heavy part of the simulation and is independent of the source and receiver position."
   ]
  },
  {
   "cell_type": "code",
   "execution_count": 18,
   "metadata": {},
   "outputs": [],
   "source": [
    "# calculate from factors including directivity and absorption\n",
    "radiosity_fast.bake_geometry(ff_method=\"universal\",algorithm=\"order\")\n"
   ]
  },
  {
   "cell_type": "markdown",
   "metadata": {},
   "source": [
    "Afterwards the source energy is initialized."
   ]
  },
  {
   "cell_type": "code",
   "execution_count": 19,
   "metadata": {},
   "outputs": [],
   "source": [
    "\n",
    "radiosity_fast.init_source_energy(source_pos,ff_method=\"universal\",algorithm=\"order\")"
   ]
  },
  {
   "cell_type": "markdown",
   "metadata": {},
   "source": [
    "Next we calculate the energy exchange between the patches, then we can collect the energy at the receiver."
   ]
  },
  {
   "cell_type": "code",
   "execution_count": 20,
   "metadata": {},
   "outputs": [],
   "source": [
    "radiosity_fast.calculate_energy_exchange(\n",
    "        speed_of_sound=speed_of_sound,\n",
    "        histogram_time_resolution=time_resolution,\n",
    "        histogram_length=ir_length_s, algorithm=\"order\",\n",
    "        max_depth=max_order_k )"
   ]
  },
  {
   "cell_type": "markdown",
   "metadata": {},
   "source": [
    "The energy is collected at the receiver, this is quite fast and can be done for as many receivers as required."
   ]
  },
  {
   "cell_type": "code",
   "execution_count": 21,
   "metadata": {},
   "outputs": [
    {
     "name": "stdout",
     "output_type": "stream",
     "text": [
      "TimeData:\n",
      "(1,) channels with 1000 samples\n"
     ]
    }
   ],
   "source": [
    "\n",
    "ir_fast = np.sum(radiosity_fast.collect_receiver_energy(\n",
    "    receiver_pos=receiver_pos,\n",
    "    speed_of_sound=speed_of_sound,\n",
    "    histogram_time_resolution=time_resolution,\n",
    "    propagation_fx=True,\n",
    "    ),axis=1)[0]\n",
    "n_samples = ir_fast.shape[-1]\n",
    "reverberation_fast = pf.TimeData(ir_fast, np.arange(n_samples)*time_resolution)\n",
    "\n",
    "print(reverberation_fast)"
   ]
  },
  {
   "cell_type": "markdown",
   "metadata": {},
   "source": [
    "To compare our energy time curve, we can calculate the analytical solution based on the diffuse sound field in the room after Kuttruff."
   ]
  },
  {
   "cell_type": "code",
   "execution_count": 22,
   "metadata": {},
   "outputs": [
    {
     "name": "stdout",
     "output_type": "stream",
     "text": [
      "reverberation distance is 0.5m\n",
      "reverberation time is 1.24s\n"
     ]
    }
   ],
   "source": [
    "\n",
    "S = (2*X*Y) + (2*X*Z) + (2*Y*Z)\n",
    "A = S*absorption\n",
    "alpha_dash = A/S\n",
    "r_h = 1/4*np.sqrt(A/np.pi)\n",
    "print(f'reverberation distance is {r_h:.1f}m')\n",
    "V = X*Y*Z\n",
    "RT = 24*np.log(10)/(speed_of_sound)*V/(-S*np.log(1-alpha_dash))\n",
    "print(f'reverberation time is {RT:.2f}s')\n",
    "E_reverb_analytical = 4/A\n",
    "t = reverberation_fast.times\n",
    "# Kuttruff Eq 4.7\n",
    "w_0 = E_reverb_analytical/ V\n",
    "t_0 = 0.03\n",
    "# Kuttruff Eq 4.10\n",
    "reverberation_analytic = w_0 * np.exp(+(\n",
    "    speed_of_sound*S*np.log(1-alpha_dash)/(4*V))*(t-t_0))\n",
    "reverberation_analytic = pf.TimeData(reverberation_analytic, t)"
   ]
  },
  {
   "cell_type": "markdown",
   "metadata": {},
   "source": [
    "Lets compare these to results."
   ]
  },
  {
   "cell_type": "code",
   "execution_count": 23,
   "metadata": {},
   "outputs": [
    {
     "data": {
      "image/png": "[encoded data removed]",
      "text/plain": [
       "<Figure size 640x480 with 1 Axes>"
      ]
     },
     "metadata": {},
     "output_type": "display_data"
    }
   ],
   "source": [
    "plt.figure()\n",
    "pf.plot.time(\n",
    "    reverberation_analytic, dB=True, log_prefix=10,\n",
    "    label=f'analytical E_rev={E_reverb_analytical:0.2f}')\n",
    "\n",
    "pf.plot.time(\n",
    "    reverberation_fast, dB=True, log_prefix=10,\n",
    "    label='simulated',\n",
    "    linestyle='--')\n",
    "\n",
    "plt.legend()\n",
    "plt.show()"
   ]
  },
  {
   "cell_type": "markdown",
   "metadata": {},
   "source": [
    "If the order would be increased, this would match even after 0.5s.\n"
   ]
  },
  {
   "cell_type": "code",
   "execution_count": 24,
   "metadata": {},
   "outputs": [
    {
     "name": "stdout",
     "output_type": "stream",
     "text": [
      "The watermark extension is already loaded. To reload it, use:\n",
      "  %reload_ext watermark\n",
      "Python implementation: CPython\n",
      "Python version       : 3.11.11\n",
      "IPython version      : 9.0.2\n",
      "\n",
      "Compiler    : Clang 18.1.8 \n",
      "OS          : Darwin\n",
      "Release     : 23.5.0\n",
      "Machine     : arm64\n",
      "Processor   : arm\n",
      "CPU cores   : 8\n",
      "Architecture: 64bit\n",
      "\n",
      "matplotlib: 3.10.0\n",
      "sparrowpy : 0.1.0\n",
      "numpy     : 1.26.4\n",
      "pyfar     : 0.7.1\n",
      "\n"
     ]
    }
   ],
   "source": [
    "%load_ext watermark\n",
    "%watermark -v -m -iv"
   ]
  }
 ],
 "metadata": {
  "kernelspec": {
   "display_name": "sparrowpy",
   "language": "python",
   "name": "python3"
  },
  "language_info": {
   "codemirror_mode": {
    "name": "ipython",
    "version": 3
   },
   "file_extension": ".py",
   "mimetype": "text/x-python",
   "name": "python",
   "nbconvert_exporter": "python",
   "pygments_lexer": "ipython3",
   "version": "3.11.11"
  }
 },
 "nbformat": 4,
 "nbformat_minor": 2
}
