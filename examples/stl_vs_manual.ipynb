{
 "cells": [
  {
   "cell_type": "code",
   "execution_count": 1,
   "metadata": {},
   "outputs": [],
   "source": [
    "\"\"\"Test the radiosity.Radiosity module.\"\"\"\n",
    "import numpy as np\n",
    "import pyfar as pf\n",
    "import sparapy as sp\n",
    "import matplotlib.pyplot as plt\n",
    "from datetime import datetime\n",
    "%matplotlib inline\n",
    "# %matplotlib ipympl\n",
    "from sparapy import io"
   ]
  },
  {
   "cell_type": "markdown",
   "metadata": {},
   "source": [
    "Approach using normal geometry"
   ]
  },
  {
   "cell_type": "code",
   "execution_count": 2,
   "metadata": {},
   "outputs": [
    {
     "name": "stderr",
     "output_type": "stream",
     "text": [
      "C:\\Users\\Anindita I. Hapsari\\AppData\\Local\\Temp\\ipykernel_17680\\941856824.py:32: UserWarning: Gimbal lock detected. Setting third angle to zero since it is not possible to uniquely determine all angles.\n",
      "  radiosity_fast.set_wall_scattering(\n"
     ]
    },
    {
     "name": "stdout",
     "output_type": "stream",
     "text": [
      "Time elapsed: 0:01:00.767670\n"
     ]
    }
   ],
   "source": [
    "# Define parameters\n",
    "X = 3\n",
    "Y = 3\n",
    "Z = 3\n",
    "patch_size = 0.5\n",
    "ir_length_s = 2\n",
    "sampling_rate = 1000\n",
    "max_order_k = 150\n",
    "speed_of_sound = 346.18\n",
    "absorption = 0.1\n",
    "\n",
    "# create geometry\n",
    "\n",
    "walls = sp.testing.shoebox_room_stub(X, Y, Z)\n",
    "source_pos = [2, 2, 2]\n",
    "source = sp.geometry.SoundSource(source_pos, [0, 1, 0], [0, 0, 1])\n",
    "receiver_pos = [1, 1, 1]\n",
    "\n",
    "start = datetime.now()\n",
    "\n",
    "# create object\n",
    "radiosity_fast = sp.DRadiosityFast.from_polygon(walls, patch_size)\n",
    "\n",
    "# create directional scattering data (totally diffuse)\n",
    "sources = pf.Coordinates(0, 0, 1)\n",
    "receivers = pf.Coordinates(0, 0, 1)\n",
    "frequencies = np.array([500])\n",
    "data_scattering = pf.FrequencyData(\n",
    "    np.ones((sources.csize, receivers.csize, frequencies.size)), frequencies)\n",
    "\n",
    "# set directional scattering data\n",
    "radiosity_fast.set_wall_scattering(\n",
    "    np.arange(len(walls)), data_scattering, sources, receivers)\n",
    "\n",
    "# set air absorption\n",
    "radiosity_fast.set_air_attenuation(\n",
    "    pf.FrequencyData(\n",
    "        np.zeros_like(data_scattering.frequencies),\n",
    "        data_scattering.frequencies))\n",
    "\n",
    "# set absorption coefficient\n",
    "radiosity_fast.set_wall_absorption(\n",
    "    np.arange(len(walls)),\n",
    "    pf.FrequencyData(\n",
    "        np.zeros_like(data_scattering.frequencies)+absorption,\n",
    "        data_scattering.frequencies))\n",
    "\n",
    "# calculate from factors including directivity and absorption\n",
    "radiosity_fast.bake_geometry(algorithm='order')\n",
    "\n",
    "# initialize source energy at each patch\n",
    "radiosity_fast.init_source_energy(source_pos, algorithm='order')\n",
    "\n",
    "# gather energy at receiver\n",
    "ir_fast = radiosity_fast.calculate_energy_exchange_receiver(\n",
    "    receiver_pos, speed_of_sound=speed_of_sound,\n",
    "    histogram_time_resolution=1/sampling_rate, histogram_length=ir_length_s,\n",
    "    algorithm='order', max_depth=max_order_k)\n",
    "manual = pf.Signal(ir_fast, sampling_rate=sampling_rate)\n",
    "\n",
    "# stop timer\n",
    "delta = (datetime.now() - start)\n",
    "print(f\"Time elapsed: {delta}\")\n",
    "fast_time_s = (delta.seconds*1e6 + delta.microseconds)/1e6"
   ]
  },
  {
   "cell_type": "markdown",
   "metadata": {},
   "source": [
    "Read geometry using rectangles"
   ]
  },
  {
   "cell_type": "code",
   "execution_count": 3,
   "metadata": {},
   "outputs": [
    {
     "name": "stdout",
     "output_type": "stream",
     "text": [
      "Number of vertices: 8\n",
      "Number of triangular faces: 12\n"
     ]
    },
    {
     "name": "stderr",
     "output_type": "stream",
     "text": [
      "C:\\Users\\Anindita I. Hapsari\\AppData\\Local\\Temp\\ipykernel_17680\\3614360381.py:30: UserWarning: Gimbal lock detected. Setting third angle to zero since it is not possible to uniquely determine all angles.\n",
      "  radiosity_fast.set_wall_scattering(\n"
     ]
    },
    {
     "name": "stdout",
     "output_type": "stream",
     "text": [
      "Time elapsed: 0:00:32.715395\n"
     ]
    }
   ],
   "source": [
    "# Define parameters\n",
    "patch_size = 0.5\n",
    "ir_length_s = 2\n",
    "sampling_rate = 1000\n",
    "max_order_k = 150\n",
    "speed_of_sound = 346.18\n",
    "absorption = 0.1\n",
    "\n",
    "# create geometry\n",
    "\n",
    "path = 'shoebox_3.stl'\n",
    "walls = io.mod_read_geometry(path,'rectangle')\n",
    "source_pos = [2, 2, 2]\n",
    "source = sp.geometry.SoundSource(source_pos, [0, 1, 0], [0, 0, 1])\n",
    "receiver_pos = [1, 1, 1]\n",
    "\n",
    "start = datetime.now()\n",
    "\n",
    "# create object\n",
    "radiosity_fast = sp.DRadiosityFast.from_polygon(walls, patch_size)\n",
    "\n",
    "# create directional scattering data (totally diffuse)\n",
    "sources = pf.Coordinates(0, 0, 1)\n",
    "receivers = pf.Coordinates(0, 0, 1)\n",
    "frequencies = np.array([500])\n",
    "data_scattering = pf.FrequencyData(\n",
    "    np.ones((sources.csize, receivers.csize, frequencies.size)), frequencies)\n",
    "\n",
    "# set directional scattering data\n",
    "radiosity_fast.set_wall_scattering(\n",
    "    np.arange(len(walls)), data_scattering, sources, receivers)\n",
    "\n",
    "# set air absorption\n",
    "radiosity_fast.set_air_attenuation(\n",
    "    pf.FrequencyData(\n",
    "        np.zeros_like(data_scattering.frequencies),\n",
    "        data_scattering.frequencies))\n",
    "\n",
    "# set absorption coefficient\n",
    "radiosity_fast.set_wall_absorption(\n",
    "    np.arange(len(walls)),\n",
    "    pf.FrequencyData(\n",
    "        np.zeros_like(data_scattering.frequencies)+absorption,\n",
    "        data_scattering.frequencies))\n",
    "\n",
    "# calculate from factors including directivity and absorption\n",
    "radiosity_fast.bake_geometry(algorithm='order')\n",
    "\n",
    "# initialize source energy at each patch\n",
    "radiosity_fast.init_source_energy(source_pos, algorithm='order')\n",
    "\n",
    "# gather energy at receiver\n",
    "ir_fast = radiosity_fast.calculate_energy_exchange_receiver(\n",
    "    receiver_pos, speed_of_sound=speed_of_sound,\n",
    "    histogram_time_resolution=1/sampling_rate, histogram_length=ir_length_s,\n",
    "    algorithm='order', max_depth=max_order_k)\n",
    "rectangles = pf.Signal(ir_fast, sampling_rate=sampling_rate)\n",
    "\n",
    "# stop timer\n",
    "delta = (datetime.now() - start)\n",
    "print(f\"Time elapsed: {delta}\")\n",
    "fast_time_s = (delta.seconds*1e6 + delta.microseconds)/1e6"
   ]
  },
  {
   "cell_type": "markdown",
   "metadata": {},
   "source": [
    "Read geometry using triangles"
   ]
  },
  {
   "cell_type": "code",
   "execution_count": null,
   "metadata": {},
   "outputs": [],
   "source": [
    "# Define parameters\n",
    "patch_size = 0.5\n",
    "ir_length_s = 2\n",
    "sampling_rate = 1000\n",
    "max_order_k = 150\n",
    "speed_of_sound = 346.18\n",
    "absorption = 0.1\n",
    "\n",
    "# create geometry\n",
    "\n",
    "path = 'shoebox_3.stl'\n",
    "walls = io.mod_read_geometry(path,'triangle')\n",
    "source_pos = [2, 2, 2]\n",
    "source = sp.geometry.SoundSource(source_pos, [0, 1, 0], [0, 0, 1])\n",
    "receiver_pos = [1, 1, 1]\n",
    "\n",
    "start = datetime.now()\n",
    "\n",
    "# create object\n",
    "radiosity_fast = sp.DRadiosityFast.from_polygon(walls, patch_size)\n",
    "\n",
    "# create directional scattering data (totally diffuse)\n",
    "sources = pf.Coordinates(0, 0, 1)\n",
    "receivers = pf.Coordinates(0, 0, 1)\n",
    "frequencies = np.array([500])\n",
    "data_scattering = pf.FrequencyData(\n",
    "    np.ones((sources.csize, receivers.csize, frequencies.size)), frequencies)\n",
    "\n",
    "# set directional scattering data\n",
    "radiosity_fast.set_wall_scattering(\n",
    "    np.arange(len(walls)), data_scattering, sources, receivers)\n",
    "\n",
    "# set air absorption\n",
    "radiosity_fast.set_air_attenuation(\n",
    "    pf.FrequencyData(\n",
    "        np.zeros_like(data_scattering.frequencies),\n",
    "        data_scattering.frequencies))\n",
    "\n",
    "# set absorption coefficient\n",
    "radiosity_fast.set_wall_absorption(\n",
    "    np.arange(len(walls)),\n",
    "    pf.FrequencyData(\n",
    "        np.zeros_like(data_scattering.frequencies)+absorption,\n",
    "        data_scattering.frequencies))\n",
    "\n",
    "# calculate from factors including directivity and absorption\n",
    "radiosity_fast.bake_geometry(algorithm='order')\n",
    "\n",
    "# initialize source energy at each patch\n",
    "radiosity_fast.init_source_energy(source_pos, algorithm='order')\n",
    "\n",
    "# gather energy at receiver\n",
    "ir_fast = radiosity_fast.calculate_energy_exchange_receiver(\n",
    "    receiver_pos, speed_of_sound=speed_of_sound,\n",
    "    histogram_time_resolution=1/sampling_rate, histogram_length=ir_length_s,\n",
    "    algorithm='order', max_depth=max_order_k)\n",
    "triangles = pf.Signal(ir_fast, sampling_rate=sampling_rate)\n",
    "\n",
    "# stop timer\n",
    "delta = (datetime.now() - start)\n",
    "print(f\"Time elapsed: {delta}\")\n",
    "fast_time_s = (delta.seconds*1e6 + delta.microseconds)/1e6"
   ]
  },
  {
   "cell_type": "markdown",
   "metadata": {},
   "source": [
    "Plot comparison"
   ]
  },
  {
   "cell_type": "code",
   "execution_count": 4,
   "metadata": {},
   "outputs": [
    {
     "data": {
      "image/png": "[encoded data removed]",
      "text/plain": [
       "<Figure size 640x480 with 1 Axes>"
      ]
     },
     "metadata": {},
     "output_type": "display_data"
    }
   ],
   "source": [
    "plt.figure()\n",
    "\n",
    "pf.plot.time(\n",
    "    rectangles, dB=True, log_prefix=10,\n",
    "    label=f'rectangles ({fast_time_s:0.2f}s)',\n",
    "    linestyle='--')\n",
    "\n",
    "pf.plot.time(\n",
    "    manual, dB=True, log_prefix=10,\n",
    "    label=f'manual ({fast_time_s:0.2f}s)',\n",
    "    linestyle='-')\n",
    "\n",
    "plt.legend()\n",
    "plt.show()"
   ]
  }
 ],
 "metadata": {
  "kernelspec": {
   "display_name": "hiwi",
   "language": "python",
   "name": "python3"
  },
  "language_info": {
   "codemirror_mode": {
    "name": "ipython",
    "version": 3
   },
   "file_extension": ".py",
   "mimetype": "text/x-python",
   "name": "python",
   "nbconvert_exporter": "python",
   "pygments_lexer": "ipython3",
   "version": "3.12.5"
  }
 },
 "nbformat": 4,
 "nbformat_minor": 2
}
