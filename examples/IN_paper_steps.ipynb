{
 "cells": [
  {
   "cell_type": "markdown",
   "id": "6dad7173",
   "metadata": {},
   "source": [
    "# IN25 - Validation of the radiosity simulation\n",
    "This notebook generates plots for the internoise 2025 paper.\n",
    "At each step, a different simulation validation step will be addressed."
   ]
  },
  {
   "cell_type": "code",
   "execution_count": 20,
   "id": "5ead0d57",
   "metadata": {},
   "outputs": [],
   "source": [
    "import sparrowpy as sp\n",
    "import pyfar as pf\n",
    "import numpy as np\n",
    "import matplotlib.pyplot as plt\n",
    "import os\n",
    "\n",
    "%matplotlib inline\n",
    "\n",
    "font={\n",
    "    \"text.usetex\": True,\n",
    "    \"font.family\": \"sans-serif\",\n",
    "    \"font.sans-serif\": \"Helvetica\",\n",
    "    \"font.size\": 11,\n",
    "}\n",
    "\n",
    "plt.rcParams.update(font)\n",
    "\n",
    "base_dir = os.path.join(os.getcwd(), \"resources\")"
   ]
  },
  {
   "cell_type": "markdown",
   "id": "7bbf33b9",
   "metadata": {},
   "source": [
    "## Form factor validation"
   ]
  },
  {
   "cell_type": "markdown",
   "id": "1fa94a45",
   "metadata": {},
   "source": [
    "### Patch energy conservation"
   ]
  },
  {
   "cell_type": "code",
   "execution_count": 21,
   "id": "7d0d1e8f",
   "metadata": {},
   "outputs": [
    {
     "name": "stdout",
     "output_type": "stream",
     "text": [
      "\n",
      "patch 0\n",
      "    energy:     0.997\n",
      "    rel error:  0.267%\n",
      "\n",
      "patch 1\n",
      "    energy:     0.997\n",
      "    rel error:  0.267%\n",
      "\n",
      "patch 2\n",
      "    energy:     0.997\n",
      "    rel error:  0.267%\n",
      "\n",
      "patch 3\n",
      "    energy:     0.997\n",
      "    rel error:  0.267%\n",
      "\n",
      "patch 4\n",
      "    energy:     0.997\n",
      "    rel error:  0.267%\n",
      "\n",
      "patch 5\n",
      "    energy:     0.997\n",
      "    rel error:  0.267%\n",
      "\n",
      "patch 6\n",
      "    energy:     0.997\n",
      "    rel error:  0.267%\n",
      "\n",
      "patch 7\n",
      "    energy:     0.997\n",
      "    rel error:  0.267%\n",
      "\n",
      "patch 8\n",
      "    energy:     0.997\n",
      "    rel error:  0.267%\n",
      "\n",
      "patch 9\n",
      "    energy:     0.997\n",
      "    rel error:  0.267%\n",
      "\n",
      "patch 10\n",
      "    energy:     0.997\n",
      "    rel error:  0.267%\n",
      "\n",
      "patch 11\n",
      "    energy:     0.997\n",
      "    rel error:  0.267%\n",
      "\n",
      "patch 12\n",
      "    energy:     0.997\n",
      "    rel error:  0.267%\n",
      "\n",
      "patch 13\n",
      "    energy:     0.997\n",
      "    rel error:  0.267%\n",
      "\n",
      "patch 14\n",
      "    energy:     0.997\n",
      "    rel error:  0.267%\n",
      "\n",
      "patch 15\n",
      "    energy:     0.997\n",
      "    rel error:  0.267%\n",
      "\n",
      "patch 16\n",
      "    energy:     0.997\n",
      "    rel error:  0.267%\n",
      "\n",
      "patch 17\n",
      "    energy:     0.997\n",
      "    rel error:  0.267%\n",
      "\n",
      "patch 18\n",
      "    energy:     0.997\n",
      "    rel error:  0.267%\n",
      "\n",
      "patch 19\n",
      "    energy:     0.997\n",
      "    rel error:  0.267%\n",
      "\n",
      "patch 20\n",
      "    energy:     0.997\n",
      "    rel error:  0.267%\n",
      "\n",
      "patch 21\n",
      "    energy:     0.997\n",
      "    rel error:  0.267%\n",
      "\n",
      "patch 22\n",
      "    energy:     0.997\n",
      "    rel error:  0.267%\n",
      "\n",
      "patch 23\n",
      "    energy:     0.997\n",
      "    rel error:  0.267%\n",
      "global rel error:  0.267%\n"
     ]
    }
   ],
   "source": [
    "radi = sp.DirectionalRadiosityFast.from_file(\n",
    "                os.path.join(base_dir, \"cube_simple.blend\"),\n",
    "                manual_patch_size=1.,\n",
    "                )\n",
    "radi.bake_geometry()\n",
    "\n",
    "ff_sum = np.sum(radi._form_factors_tilde, axis=0)[:,0,0]\n",
    "\n",
    "for i,ffs in enumerate(ff_sum):\n",
    "    print(f'\\npatch {i}')\n",
    "    print(f'    energy:     {ffs:.3f}')\n",
    "    print(f'    rel error:  {100*(1-ffs)/1:.3f}%')\n",
    "\n",
    "print(f'global rel error:  {100*(radi._n_patches-np.sum(ff_sum))/radi.n_patches:.3f}%')\n"
   ]
  },
  {
   "cell_type": "markdown",
   "id": "db957f26",
   "metadata": {},
   "source": [
    "### Parallel facing patches"
   ]
  },
  {
   "cell_type": "code",
   "execution_count": 22,
   "id": "856ce412",
   "metadata": {},
   "outputs": [],
   "source": [
    "from sparrowpy.testing import exact_ff_solutions as solutions\n",
    "\n",
    "def form_factor_parallel(width, height, distance):\n",
    "    exact = solutions.parallel_patches(width, height, distance)\n",
    "\n",
    "    patch_1 = sp.geometry.Polygon(\n",
    "        points=[[0, 0, 0], [width, 0, 0], [width, 0, height], [0, 0, height]],\n",
    "        normal=[0, 1, 0],\n",
    "        up_vector=[1, 0, 0],\n",
    "    )\n",
    "\n",
    "    patch_2 = sp.geometry.Polygon(\n",
    "        points=[\n",
    "            [0, distance, 0],\n",
    "            [0, distance, height],\n",
    "            [width, distance, height],\n",
    "            [width, distance, 0],\n",
    "        ],\n",
    "        normal=[0, -1, 0],\n",
    "        up_vector=[1, 0, 0],\n",
    "    )\n",
    "\n",
    "    univ = sp.form_factor.universal.universal_form_factor(\n",
    "                    source_pts=patch_1.pts,\n",
    "                    source_normal=patch_1.normal,\n",
    "                    source_area=patch_1.area,\n",
    "                    receiver_pts=patch_2.pts,\n",
    "                    receiver_normal=patch_2.normal)\n",
    "\n",
    "    return exact,univ\n",
    "\n",
    "d=1.\n",
    "heights = np.arange(d/4,d*4,.001)\n",
    "err_abs = np.zeros_like(heights)\n",
    "err_rel = np.zeros_like(heights)\n",
    "\n",
    "for i,h in enumerate(heights):\n",
    "    tru, est = form_factor_parallel(h,h,d)\n",
    "    err_abs[i] = est-tru\n",
    "    err_rel[i] = 100*err_abs[i]/tru\n"
   ]
  },
  {
   "cell_type": "code",
   "execution_count": 23,
   "id": "c8c81e58",
   "metadata": {},
   "outputs": [
    {
     "name": "stderr",
     "output_type": "stream",
     "text": [
      "C:\\Users\\WS2080-01\\AppData\\Local\\Temp\\ipykernel_9776\\2136108898.py:8: UserWarning: FigureCanvasAgg is non-interactive, and thus cannot be shown\n",
      "  figure[0].show()\n"
     ]
    },
    {
     "data": {
      "image/png": "[encoded data removed]",
      "text/plain": [
       "<Figure size 300x200 with 1 Axes>"
      ]
     },
     "metadata": {},
     "output_type": "display_data"
    }
   ],
   "source": [
    "figure = plt.subplots(figsize=(3,2))\n",
    "plt.loglog(heights,np.abs(err_rel/100))\n",
    "plt.xlabel('$$l/h$$')\n",
    "plt.ylabel('$$|\\epsilon_F|$$')\n",
    "plt.grid()\n",
    "plt.xticks([.25,.5,1,2,4],['$1/4$','$1/2$','$1$','$2$','$4$'])\n",
    "plt.tight_layout()\n",
    "figure[0].show()\n",
    "figure[0].savefig('D:\\\\Joao_Fatela\\\\phd\\\\Papers\\\\Internoise_2025\\\\figures\\\\ff_par.pdf')"
   ]
  },
  {
   "cell_type": "code",
   "execution_count": 24,
   "id": "8fb43a9e",
   "metadata": {},
   "outputs": [
    {
     "data": {
      "text/plain": [
       "1.423000000000001"
      ]
     },
     "execution_count": 24,
     "metadata": {},
     "output_type": "execute_result"
    }
   ],
   "source": [
    "heights[np.argmin(np.abs(err_rel))]"
   ]
  },
  {
   "cell_type": "markdown",
   "id": "a02c5fcd",
   "metadata": {},
   "source": [
    "### Perpendicular floating patches"
   ]
  },
  {
   "cell_type": "code",
   "execution_count": 25,
   "id": "3ebb301e",
   "metadata": {},
   "outputs": [],
   "source": [
    "def form_factor_perp_commonside(width, height, length):\n",
    "\n",
    "    exact = solutions.perpendicular_patch_coincidentline(width, height, length)\n",
    "\n",
    "    patch_1 = sp.geometry.Polygon(\n",
    "        points=[\n",
    "            [0, 0, 0],\n",
    "            [0, length, 0],\n",
    "            [0, length, height],\n",
    "            [0, 0, height],\n",
    "        ],\n",
    "        normal=[1, 0, 0],\n",
    "        up_vector=[1, 0, 0],\n",
    "    )\n",
    "\n",
    "    patch_2 = sp.geometry.Polygon(\n",
    "        points=[[0, 0, 0],\n",
    "                [width, 0, 0],\n",
    "                [width, length, 0],\n",
    "                [0, length, 0]],\n",
    "        normal=[0, 0, 1],\n",
    "        up_vector=[1, 0, 0],\n",
    "    )\n",
    "\n",
    "    univ = sp.form_factor.universal.universal_form_factor(\n",
    "                    source_pts=patch_1.pts,\n",
    "                    source_normal=patch_1.normal,\n",
    "                    source_area=patch_1.area,\n",
    "                    receiver_pts=patch_2.pts,\n",
    "                    receiver_normal=patch_2.normal)\n",
    "\n",
    "    return exact,univ\n",
    "\n",
    "\n",
    "heights = np.arange(1/4,4,.001)\n",
    "err_abs = np.zeros_like(heights)\n",
    "err_rel = np.zeros_like(heights)\n",
    "\n",
    "for i,h in enumerate(heights):\n",
    "    tru, est = form_factor_perp_commonside(h,1,h)\n",
    "    err_abs[i] = est-tru\n",
    "    err_rel[i] = 100*err_abs[i]/tru"
   ]
  },
  {
   "cell_type": "code",
   "execution_count": 26,
   "id": "ff51a67f",
   "metadata": {},
   "outputs": [
    {
     "name": "stderr",
     "output_type": "stream",
     "text": [
      "C:\\Users\\WS2080-01\\AppData\\Local\\Temp\\ipykernel_9776\\3304605827.py:8: UserWarning: FigureCanvasAgg is non-interactive, and thus cannot be shown\n",
      "  figure[0].show()\n"
     ]
    },
    {
     "data": {
      "image/png": "[encoded data removed]",
      "text/plain": [
       "<Figure size 300x200 with 1 Axes>"
      ]
     },
     "metadata": {},
     "output_type": "display_data"
    }
   ],
   "source": [
    "figure = plt.subplots(figsize=(3,2))\n",
    "plt.loglog(heights,np.abs(err_rel/100))\n",
    "plt.xlabel('$$l/h$$')\n",
    "plt.ylabel('$$|\\epsilon_F|$$')\n",
    "plt.grid()\n",
    "plt.xticks([.25,.5,1,2,4],['$1/4$','$1/2$','$1$','$2$','$4$'])\n",
    "plt.tight_layout()\n",
    "figure[0].show()\n",
    "figure[0].savefig('D:\\\\Joao_Fatela\\\\phd\\\\Papers\\\\Internoise_2025\\\\figures\\\\ff_perp.pdf')"
   ]
  },
  {
   "cell_type": "markdown",
   "id": "dedcc4d5",
   "metadata": {},
   "source": [
    "## Infinite diffuse plane"
   ]
  },
  {
   "cell_type": "code",
   "execution_count": 27,
   "id": "ab5ddafa",
   "metadata": {},
   "outputs": [],
   "source": [
    "def run_energy_diff_specular_ratio(\n",
    "        width, length, patch_size, source, receiver):\n",
    "    \"\"\"\n",
    "    Calculate the ratio of diffuse to specular energy for an plane.\n",
    "    The plane is located in the x-y plane. Its center is at (0, 0, 0).\n",
    "\n",
    "    Parameters\n",
    "    ----------\n",
    "    width : float\n",
    "        Width of the plane.\n",
    "    length : float\n",
    "        length of the plane.\n",
    "    patch_size : float\n",
    "        Size of the patches.\n",
    "    source : pf.Coordinates\n",
    "        Position of the source.\n",
    "    receiver : pf.Coordinates\n",
    "        Position of the receiver in cartesian.\n",
    "\n",
    "    Returns\n",
    "    -------\n",
    "    ratio : float\n",
    "        Ratio of diffuse to specular energy.\n",
    "    \"\"\"\n",
    "    source_is = source.copy()\n",
    "    source_is.z *= -1\n",
    "    reflection_len =  (receiver - source_is).radius[0]\n",
    "    speed_of_sound = 343\n",
    "    sampling_rate = 1\n",
    "    etc_duration = reflection_len/speed_of_sound\n",
    "    etc_duration=1\n",
    "\n",
    "    plane = sp.geometry.Polygon(\n",
    "            [[-width/2, -length/2, 0],\n",
    "             [width/2, -length/2, 0],\n",
    "             [width/2, length/2, 0],\n",
    "             [-width/2, length/2, 0]],\n",
    "            [1, 0, 0], [0, 0, 1])\n",
    "\n",
    "    #simulation parameters\n",
    "    radi = sp.DirectionalRadiosityFast.from_polygon(\n",
    "        [plane], patch_size)\n",
    "\n",
    "    brdf_sources = pf.Coordinates(0, 0, 1, weights=1)\n",
    "    brdf_receivers = pf.Coordinates(0, 0, 1, weights=1)\n",
    "    brdf = sp.brdf.create_from_scattering(\n",
    "        brdf_sources,\n",
    "        brdf_receivers,\n",
    "        pf.FrequencyData(1, [100]),\n",
    "        pf.FrequencyData(0, [100]),\n",
    "    )\n",
    "\n",
    "    radi.set_wall_brdf(\n",
    "        np.arange(1), brdf, brdf_sources, brdf_receivers)\n",
    "\n",
    "    # set air absorption\n",
    "    radi.set_air_attenuation(\n",
    "        pf.FrequencyData(\n",
    "            np.zeros_like(brdf.frequencies),\n",
    "            brdf.frequencies))\n",
    "\n",
    "    # initialize source energy at each patch\n",
    "    radi.init_source_energy(source)\n",
    "\n",
    "    # gather energy at receiver\n",
    "    radi.calculate_energy_exchange(\n",
    "        speed_of_sound=speed_of_sound,\n",
    "        etc_time_resolution=1/sampling_rate,\n",
    "        etc_duration=etc_duration,\n",
    "        max_reflection_order=0)\n",
    "\n",
    "    I_diffuse = radi.collect_energy_receiver_mono(receiver)\n",
    "\n",
    "    I_specular = 1/(4*np.pi*reflection_len**2)\n",
    "    return np.sum(I_diffuse.time)/I_specular"
   ]
  },
  {
   "cell_type": "code",
   "execution_count": 28,
   "id": "c6302967",
   "metadata": {},
   "outputs": [],
   "source": [
    "patch_size=.75\n",
    "width = 75\n",
    "depth = 75"
   ]
  },
  {
   "cell_type": "code",
   "execution_count": 29,
   "id": "a52f3127",
   "metadata": {},
   "outputs": [
    {
     "name": "stdout",
     "output_type": "stream",
     "text": [
      "1.9656775890563596\n",
      "Colocated s-r relative error: 1.72%\n"
     ]
    }
   ],
   "source": [
    "# colocated s-r\n",
    "source = pf.Coordinates(0, 0, 2, weights=1)\n",
    "receiver = pf.Coordinates(0, 0, 2, weights=1)\n",
    "ratio1 = run_energy_diff_specular_ratio(\n",
    "    width, depth, patch_size, source, receiver)\n",
    "err1=100*(2-ratio1)/2\n",
    "print(ratio1)\n",
    "\n",
    "print(f'Colocated s-r relative error: {err1:.2f}%')\n"
   ]
  },
  {
   "cell_type": "code",
   "execution_count": 30,
   "id": "246e083a",
   "metadata": {},
   "outputs": [
    {
     "name": "stdout",
     "output_type": "stream",
     "text": [
      "1.939486535093248\n",
      "On-normal s-r relative error: 3.03%\n"
     ]
    }
   ],
   "source": [
    "# same normal\n",
    "source = pf.Coordinates(0, 0, 1, weights=1)\n",
    "receiver = pf.Coordinates(0, 0, 2, weights=1)\n",
    "ratio2 = run_energy_diff_specular_ratio(\n",
    "    width, depth, patch_size, source, receiver)\n",
    "err2=100*(2-ratio2)/2\n",
    "print(ratio2)\n",
    "\n",
    "print(f'On-normal s-r relative error: {err2:.2f}%')"
   ]
  },
  {
   "cell_type": "code",
   "execution_count": 31,
   "id": "9752757c",
   "metadata": {},
   "outputs": [
    {
     "ename": "KeyboardInterrupt",
     "evalue": "",
     "output_type": "error",
     "traceback": [
      "\u001b[1;31m---------------------------------------------------------------------------\u001b[0m",
      "\u001b[1;31mKeyboardInterrupt\u001b[0m                         Traceback (most recent call last)",
      "Cell \u001b[1;32mIn[31], line 9\u001b[0m\n\u001b[0;32m      5\u001b[0m     source \u001b[38;5;241m=\u001b[39m pf\u001b[38;5;241m.\u001b[39mCoordinates\u001b[38;5;241m.\u001b[39mfrom_spherical_colatitude(\n\u001b[0;32m      6\u001b[0m         \u001b[38;5;241m0\u001b[39m, th, \u001b[38;5;241m2\u001b[39m\u001b[38;5;241m/\u001b[39mnp\u001b[38;5;241m.\u001b[39mcos(th), weights\u001b[38;5;241m=\u001b[39m\u001b[38;5;241m1\u001b[39m)\n\u001b[0;32m      7\u001b[0m     receiver \u001b[38;5;241m=\u001b[39m pf\u001b[38;5;241m.\u001b[39mCoordinates\u001b[38;5;241m.\u001b[39mfrom_spherical_colatitude(\n\u001b[0;32m      8\u001b[0m         np\u001b[38;5;241m.\u001b[39mpi, th, \u001b[38;5;241m2\u001b[39m\u001b[38;5;241m/\u001b[39mnp\u001b[38;5;241m.\u001b[39mcos(th), weights\u001b[38;5;241m=\u001b[39m\u001b[38;5;241m1\u001b[39m)\n\u001b[1;32m----> 9\u001b[0m     ratio3[i] \u001b[38;5;241m=\u001b[39m \u001b[43mrun_energy_diff_specular_ratio\u001b[49m\u001b[43m(\u001b[49m\n\u001b[0;32m     10\u001b[0m \u001b[43m        \u001b[49m\u001b[43mwidth\u001b[49m\u001b[43m,\u001b[49m\u001b[43m \u001b[49m\u001b[43mdepth\u001b[49m\u001b[43m,\u001b[49m\u001b[43m \u001b[49m\u001b[43mpatch_size\u001b[49m\u001b[43m,\u001b[49m\u001b[43m \u001b[49m\u001b[43msource\u001b[49m\u001b[43m,\u001b[49m\u001b[43m \u001b[49m\u001b[43mreceiver\u001b[49m\u001b[43m)\u001b[49m\n\u001b[0;32m     12\u001b[0m err3 \u001b[38;5;241m=\u001b[39m \u001b[38;5;241m100\u001b[39m \u001b[38;5;241m*\u001b[39m (\u001b[38;5;241m2\u001b[39m\u001b[38;5;241m*\u001b[39mnp\u001b[38;5;241m.\u001b[39mcos(theta)\u001b[38;5;241m-\u001b[39mratio3) \u001b[38;5;241m/\u001b[39m (\u001b[38;5;241m2\u001b[39m\u001b[38;5;241m*\u001b[39mnp\u001b[38;5;241m.\u001b[39mcos(theta))\n",
      "Cell \u001b[1;32mIn[27], line 66\u001b[0m, in \u001b[0;36mrun_energy_diff_specular_ratio\u001b[1;34m(width, length, patch_size, source, receiver)\u001b[0m\n\u001b[0;32m     63\u001b[0m radi\u001b[38;5;241m.\u001b[39minit_source_energy(source)\n\u001b[0;32m     65\u001b[0m \u001b[38;5;66;03m# gather energy at receiver\u001b[39;00m\n\u001b[1;32m---> 66\u001b[0m \u001b[43mradi\u001b[49m\u001b[38;5;241;43m.\u001b[39;49m\u001b[43mcalculate_energy_exchange\u001b[49m\u001b[43m(\u001b[49m\n\u001b[0;32m     67\u001b[0m \u001b[43m    \u001b[49m\u001b[43mspeed_of_sound\u001b[49m\u001b[38;5;241;43m=\u001b[39;49m\u001b[43mspeed_of_sound\u001b[49m\u001b[43m,\u001b[49m\n\u001b[0;32m     68\u001b[0m \u001b[43m    \u001b[49m\u001b[43metc_time_resolution\u001b[49m\u001b[38;5;241;43m=\u001b[39;49m\u001b[38;5;241;43m1\u001b[39;49m\u001b[38;5;241;43m/\u001b[39;49m\u001b[43msampling_rate\u001b[49m\u001b[43m,\u001b[49m\n\u001b[0;32m     69\u001b[0m \u001b[43m    \u001b[49m\u001b[43metc_duration\u001b[49m\u001b[38;5;241;43m=\u001b[39;49m\u001b[43metc_duration\u001b[49m\u001b[43m,\u001b[49m\n\u001b[0;32m     70\u001b[0m \u001b[43m    \u001b[49m\u001b[43mmax_reflection_order\u001b[49m\u001b[38;5;241;43m=\u001b[39;49m\u001b[38;5;241;43m0\u001b[39;49m\u001b[43m)\u001b[49m\n\u001b[0;32m     72\u001b[0m I_diffuse \u001b[38;5;241m=\u001b[39m radi\u001b[38;5;241m.\u001b[39mcollect_energy_receiver_mono(receiver)\n\u001b[0;32m     74\u001b[0m I_specular \u001b[38;5;241m=\u001b[39m \u001b[38;5;241m1\u001b[39m\u001b[38;5;241m/\u001b[39m(\u001b[38;5;241m4\u001b[39m\u001b[38;5;241m*\u001b[39mnp\u001b[38;5;241m.\u001b[39mpi\u001b[38;5;241m*\u001b[39mreflection_len\u001b[38;5;241m*\u001b[39m\u001b[38;5;241m*\u001b[39m\u001b[38;5;241m2\u001b[39m)\n",
      "File \u001b[1;32mD:\\Joao_Fatela\\dev\\sparrowpy\\sparrowpy\\classes\\RadiosityFast.py:565\u001b[0m, in \u001b[0;36mDirectionalRadiosityFast.calculate_energy_exchange\u001b[1;34m(self, speed_of_sound, etc_time_resolution, etc_duration, max_reflection_order, recalculate)\u001b[0m\n\u001b[0;32m    563\u001b[0m \u001b[38;5;28;01mfor\u001b[39;00m i \u001b[38;5;129;01min\u001b[39;00m \u001b[38;5;28mrange\u001b[39m(n_patches):\n\u001b[0;32m    564\u001b[0m     \u001b[38;5;28;01mfor\u001b[39;00m j \u001b[38;5;129;01min\u001b[39;00m \u001b[38;5;28mrange\u001b[39m(n_patches):\n\u001b[1;32m--> 565\u001b[0m         distance_i_j[i, j] \u001b[38;5;241m=\u001b[39m \u001b[43mnp\u001b[49m\u001b[38;5;241;43m.\u001b[39;49m\u001b[43mlinalg\u001b[49m\u001b[38;5;241;43m.\u001b[39;49m\u001b[43mnorm\u001b[49m\u001b[43m(\u001b[49m\n\u001b[0;32m    566\u001b[0m \u001b[43m            \u001b[49m\u001b[43mpatches_center\u001b[49m\u001b[43m[\u001b[49m\u001b[43mi\u001b[49m\u001b[43m,\u001b[49m\u001b[43m \u001b[49m\u001b[43m:\u001b[49m\u001b[43m]\u001b[49m\u001b[38;5;241;43m-\u001b[39;49m\u001b[43mpatches_center\u001b[49m\u001b[43m[\u001b[49m\u001b[43mj\u001b[49m\u001b[43m,\u001b[49m\u001b[43m \u001b[49m\u001b[43m:\u001b[49m\u001b[43m]\u001b[49m\u001b[43m)\u001b[49m\n\u001b[0;32m    568\u001b[0m energy_0_dir \u001b[38;5;241m=\u001b[39m \u001b[38;5;28mself\u001b[39m\u001b[38;5;241m.\u001b[39m_energy_init_source\n\u001b[0;32m    570\u001b[0m \u001b[38;5;28;01mif\u001b[39;00m \u001b[38;5;28mself\u001b[39m\u001b[38;5;241m.\u001b[39m_energy_exchange_etc \u001b[38;5;129;01mis\u001b[39;00m \u001b[38;5;28;01mNone\u001b[39;00m \u001b[38;5;129;01mor\u001b[39;00m recalculate:\n",
      "File \u001b[1;32md:\\Joao_Fatela\\dev\\sparrowpy\\.venv\\Lib\\site-packages\\numpy\\linalg\\linalg.py:2552\u001b[0m, in \u001b[0;36mnorm\u001b[1;34m(x, ord, axis, keepdims)\u001b[0m\n\u001b[0;32m   2550\u001b[0m     sqnorm \u001b[38;5;241m=\u001b[39m x_real\u001b[38;5;241m.\u001b[39mdot(x_real) \u001b[38;5;241m+\u001b[39m x_imag\u001b[38;5;241m.\u001b[39mdot(x_imag)\n\u001b[0;32m   2551\u001b[0m \u001b[38;5;28;01melse\u001b[39;00m:\n\u001b[1;32m-> 2552\u001b[0m     sqnorm \u001b[38;5;241m=\u001b[39m x\u001b[38;5;241m.\u001b[39mdot(x)\n\u001b[0;32m   2553\u001b[0m ret \u001b[38;5;241m=\u001b[39m sqrt(sqnorm)\n\u001b[0;32m   2554\u001b[0m \u001b[38;5;28;01mif\u001b[39;00m keepdims:\n",
      "\u001b[1;31mKeyboardInterrupt\u001b[0m: "
     ]
    }
   ],
   "source": [
    "theta = np.deg2rad(np.arange(5,90,5))\n",
    "ratio3 = np.zeros_like(theta)\n",
    "\n",
    "for i,th in enumerate(theta):\n",
    "    source = pf.Coordinates.from_spherical_colatitude(\n",
    "        0, th, 2/np.cos(th), weights=1)\n",
    "    receiver = pf.Coordinates.from_spherical_colatitude(\n",
    "        np.pi, th, 2/np.cos(th), weights=1)\n",
    "    ratio3[i] = run_energy_diff_specular_ratio(\n",
    "        width, depth, patch_size, source, receiver)\n",
    "\n",
    "err3 = 100 * (2*np.cos(theta)-ratio3) / (2*np.cos(theta))"
   ]
  },
  {
   "cell_type": "code",
   "execution_count": null,
   "id": "1690ff65",
   "metadata": {},
   "outputs": [
    {
     "name": "stdout",
     "output_type": "stream",
     "text": [
      "Same-height s-r relative error\n",
      "\\hline\n",
      "5º & 1.992 & 1.959 & 0.033 & 1.6724% \\\\\n",
      "\\hline\n",
      "10º & 1.970 & 1.939 & 0.030 & 1.5450% \\\\\n",
      "\\hline\n",
      "15º & 1.932 & 1.906 & 0.026 & 1.3449% \\\\\n",
      "\\hline\n",
      "20º & 1.879 & 1.859 & 0.020 & 1.0892% \\\\\n",
      "\\hline\n",
      "25º & 1.813 & 1.798 & 0.015 & 0.8000% \\\\\n",
      "\\hline\n",
      "30º & 1.732 & 1.723 & 0.009 & 0.5020% \\\\\n",
      "\\hline\n",
      "35º & 1.638 & 1.635 & 0.004 & 0.2201% \\\\\n",
      "\\hline\n",
      "40º & 1.532 & 1.532 & -0.000 & -0.0234% \\\\\n",
      "\\hline\n",
      "45º & 1.414 & 1.417 & -0.003 & -0.2111% \\\\\n",
      "\\hline\n",
      "50º & 1.286 & 1.290 & -0.004 & -0.3330% \\\\\n",
      "\\hline\n",
      "55º & 1.147 & 1.152 & -0.004 & -0.3871% \\\\\n",
      "\\hline\n",
      "60º & 1.000 & 1.004 & -0.004 & -0.3798% \\\\\n",
      "\\hline\n",
      "65º & 0.845 & 0.848 & -0.003 & -0.3237% \\\\\n",
      "\\hline\n",
      "70º & 0.684 & 0.686 & -0.002 & -0.2347% \\\\\n",
      "\\hline\n",
      "75º & 0.518 & 0.518 & -0.001 & -0.1248% \\\\\n",
      "\\hline\n",
      "80º & 0.347 & 0.347 & 0.000 & 0.0323% \\\\\n",
      "\\hline\n",
      "85º & 0.174 & 0.173 & 0.002 & 1.0207% \\\\\n"
     ]
    }
   ],
   "source": [
    "print('Same-height s-r relative error')\n",
    "for i,e in enumerate(err3):\n",
    "    print('\\\\hline')\n",
    "    print(f'{np.rad2deg(theta[i]):.0f}º & {2*np.cos(theta[i]):.3f} & {ratio3[i]:.3f} & {(2*np.cos(theta[i])-ratio3[i]):.3f} & {e:.4f}% \\\\\\\\')\n"
   ]
  },
  {
   "cell_type": "code",
   "execution_count": null,
   "id": "e1592dd7",
   "metadata": {},
   "outputs": [
    {
     "name": "stderr",
     "output_type": "stream",
     "text": [
      "C:\\Users\\WS2080-01\\AppData\\Local\\Temp\\ipykernel_5352\\2814586789.py:9: UserWarning: FigureCanvasAgg is non-interactive, and thus cannot be shown\n",
      "  figure[0].show()\n",
      "C:\\Users\\WS2080-01\\AppData\\Local\\Temp\\ipykernel_5352\\2814586789.py:18: UserWarning: FigureCanvasAgg is non-interactive, and thus cannot be shown\n",
      "  figure[0].show()\n"
     ]
    },
    {
     "data": {
      "image/png": "[encoded data removed]",
      "text/plain": [
       "<Figure size 300x200 with 1 Axes>"
      ]
     },
     "metadata": {},
     "output_type": "display_data"
    },
    {
     "data": {
      "image/png": "[encoded data removed]",
      "text/plain": [
       "<Figure size 300x200 with 1 Axes>"
      ]
     },
     "metadata": {},
     "output_type": "display_data"
    }
   ],
   "source": [
    "figure = plt.subplots(figsize=(3,2))\n",
    "plt.plot(theta/np.pi*180,2*np.cos(theta))\n",
    "plt.plot(theta/np.pi*180,ratio3,'>')\n",
    "plt.xlabel('$$\\\\theta [^{\\circ}]$$')\n",
    "plt.ylabel('$$R$$')\n",
    "plt.grid()\n",
    "plt.tight_layout()\n",
    "plt.legend(['Analytical solution','Simulated solution'])\n",
    "figure[0].show()\n",
    "figure[0].savefig('D:\\\\Joao_Fatela\\\\phd\\\\Papers\\\\Internoise_2025\\\\figures\\\\infplane_raw.pdf')\n",
    "\n",
    "figure = plt.subplots(figsize=(3,2))\n",
    "plt.plot(theta/np.pi*180,err3)\n",
    "plt.xlabel('$$\\\\theta [^{\\circ}]$$')\n",
    "plt.ylabel('$$\\epsilon_R,[\\%]$$')\n",
    "plt.grid()\n",
    "plt.tight_layout()\n",
    "figure[0].show()\n",
    "figure[0].savefig('D:\\\\Joao_Fatela\\\\phd\\\\Papers\\\\Internoise_2025\\\\figures\\\\infplane_err.pdf')"
   ]
  }
 ],
 "metadata": {
  "kernelspec": {
   "display_name": ".venv",
   "language": "python",
   "name": "python3"
  },
  "language_info": {
   "codemirror_mode": {
    "name": "ipython",
    "version": 3
   },
   "file_extension": ".py",
   "mimetype": "text/x-python",
   "name": "python",
   "nbconvert_exporter": "python",
   "pygments_lexer": "ipython3",
   "version": "3.11.9"
  }
 },
 "nbformat": 4,
 "nbformat_minor": 5
}
