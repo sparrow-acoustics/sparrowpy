{
 "cells": [
  {
   "cell_type": "markdown",
   "id": "6dad7173",
   "metadata": {},
   "source": [
    "# IN25 - Validation of the radiosity simulation\n",
    "This notebook generates plots for the internoise 2025 paper.\n",
    "At each step, a different simulation validation step will be addressed."
   ]
  },
  {
   "cell_type": "code",
   "execution_count": 1,
   "id": "5ead0d57",
   "metadata": {},
   "outputs": [],
   "source": [
    "import sparrowpy as sp\n",
    "import pyfar as pf\n",
    "import numpy as np\n",
    "import matplotlib.pyplot as plt\n",
    "import os\n",
    "\n",
    "%matplotlib inline\n",
    "\n",
    "plt.rcParams.update({\n",
    "    \"text.usetex\": True,\n",
    "    \"font.family\": \"sans-serif\",\n",
    "    \"font.sans-serif\": \"Helvetica\",\n",
    "    \"font.size\": 11,\n",
    "})\n",
    "\n",
    "base_dir = os.path.join(os.getcwd(), \"resources\")"
   ]
  },
  {
   "cell_type": "markdown",
   "id": "7bbf33b9",
   "metadata": {},
   "source": [
    "## Form factor validation"
   ]
  },
  {
   "cell_type": "markdown",
   "id": "1fa94a45",
   "metadata": {},
   "source": [
    "### Patch energy conservation"
   ]
  },
  {
   "cell_type": "code",
   "execution_count": 2,
   "id": "7d0d1e8f",
   "metadata": {},
   "outputs": [
    {
     "name": "stderr",
     "output_type": "stream",
     "text": [
      "D:\\Joao_Fatela\\dev\\sparrowpy\\sparrowpy\\form_factor\\universal.py:48: NumbaPerformanceWarning: \u001b[1m\u001b[1m\u001b[1m\u001b[1m\u001b[1m\u001b[1m\u001b[1m\u001b[1mnp.dot() is faster on contiguous arrays, called on (Array(float64, 1, 'A', False, aligned=True), Array(float64, 1, 'C', False, aligned=True))\u001b[0m\u001b[0m\u001b[0m\u001b[0m\u001b[0m\u001b[0m\u001b[0m\u001b[0m\n",
      "  form_factors[i,j] = universal_form_factor(\n"
     ]
    },
    {
     "name": "stdout",
     "output_type": "stream",
     "text": [
      "\n",
      "patch 0\n",
      "    energy:     0.997\n",
      "    rel error:  0.267%\n",
      "\n",
      "patch 1\n",
      "    energy:     0.997\n",
      "    rel error:  0.267%\n",
      "\n",
      "patch 2\n",
      "    energy:     0.997\n",
      "    rel error:  0.267%\n",
      "\n",
      "patch 3\n",
      "    energy:     0.997\n",
      "    rel error:  0.267%\n",
      "\n",
      "patch 4\n",
      "    energy:     0.997\n",
      "    rel error:  0.267%\n",
      "\n",
      "patch 5\n",
      "    energy:     0.997\n",
      "    rel error:  0.267%\n",
      "\n",
      "patch 6\n",
      "    energy:     0.997\n",
      "    rel error:  0.267%\n",
      "\n",
      "patch 7\n",
      "    energy:     0.997\n",
      "    rel error:  0.267%\n",
      "\n",
      "patch 8\n",
      "    energy:     0.997\n",
      "    rel error:  0.267%\n",
      "\n",
      "patch 9\n",
      "    energy:     0.997\n",
      "    rel error:  0.267%\n",
      "\n",
      "patch 10\n",
      "    energy:     0.997\n",
      "    rel error:  0.267%\n",
      "\n",
      "patch 11\n",
      "    energy:     0.997\n",
      "    rel error:  0.267%\n",
      "\n",
      "patch 12\n",
      "    energy:     0.997\n",
      "    rel error:  0.267%\n",
      "\n",
      "patch 13\n",
      "    energy:     0.997\n",
      "    rel error:  0.267%\n",
      "\n",
      "patch 14\n",
      "    energy:     0.997\n",
      "    rel error:  0.267%\n",
      "\n",
      "patch 15\n",
      "    energy:     0.997\n",
      "    rel error:  0.267%\n",
      "\n",
      "patch 16\n",
      "    energy:     0.997\n",
      "    rel error:  0.267%\n",
      "\n",
      "patch 17\n",
      "    energy:     0.997\n",
      "    rel error:  0.267%\n",
      "\n",
      "patch 18\n",
      "    energy:     0.997\n",
      "    rel error:  0.267%\n",
      "\n",
      "patch 19\n",
      "    energy:     0.997\n",
      "    rel error:  0.267%\n",
      "\n",
      "patch 20\n",
      "    energy:     0.997\n",
      "    rel error:  0.267%\n",
      "\n",
      "patch 21\n",
      "    energy:     0.997\n",
      "    rel error:  0.267%\n",
      "\n",
      "patch 22\n",
      "    energy:     0.997\n",
      "    rel error:  0.267%\n",
      "\n",
      "patch 23\n",
      "    energy:     0.997\n",
      "    rel error:  0.267%\n",
      "global rel error:  0.267%\n"
     ]
    }
   ],
   "source": [
    "radi = sp.DirectionalRadiosityFast.from_file(\n",
    "                os.path.join(base_dir, \"cube_simple.blend\"),\n",
    "                manual_patch_size=1.,\n",
    "                )\n",
    "radi.bake_geometry()\n",
    "\n",
    "ff_sum = np.sum(radi._form_factors_tilde, axis=0)[:,0,0]\n",
    "\n",
    "for i,ffs in enumerate(ff_sum):\n",
    "    print(f'\\npatch {i}')\n",
    "    print(f'    energy:     {ffs:.3f}')\n",
    "    print(f'    rel error:  {100*(1-ffs)/1:.3f}%')\n",
    "\n",
    "print(f'global rel error:  {100*(radi._n_patches-np.sum(ff_sum))/radi.n_patches:.3f}%')\n"
   ]
  },
  {
   "cell_type": "markdown",
   "id": "db957f26",
   "metadata": {},
   "source": [
    "### Parallel facing patches"
   ]
  },
  {
   "cell_type": "code",
   "execution_count": 3,
   "id": "856ce412",
   "metadata": {},
   "outputs": [],
   "source": [
    "from sparrowpy.testing import exact_ff_solutions as solutions\n",
    "\n",
    "def form_factor_parallel(width, height, distance):\n",
    "    exact = solutions.parallel_patches(width, height, distance)\n",
    "\n",
    "    patch_1 = sp.geometry.Polygon(\n",
    "        points=[[0, 0, 0], [width, 0, 0], [width, 0, height], [0, 0, height]],\n",
    "        normal=[0, 1, 0],\n",
    "        up_vector=[1, 0, 0],\n",
    "    )\n",
    "\n",
    "    patch_2 = sp.geometry.Polygon(\n",
    "        points=[\n",
    "            [0, distance, 0],\n",
    "            [0, distance, height],\n",
    "            [width, distance, height],\n",
    "            [width, distance, 0],\n",
    "        ],\n",
    "        normal=[0, -1, 0],\n",
    "        up_vector=[1, 0, 0],\n",
    "    )\n",
    "\n",
    "    univ = sp.form_factor.universal.universal_form_factor(\n",
    "                    source_pts=patch_1.pts,\n",
    "                    source_normal=patch_1.normal,\n",
    "                    source_area=patch_1.area,\n",
    "                    receiver_pts=patch_2.pts,\n",
    "                    receiver_normal=patch_2.normal)\n",
    "\n",
    "    return exact,univ\n",
    "\n",
    "d=1.\n",
    "heights = np.arange(d/4,d*4,.001)\n",
    "err_abs = np.zeros_like(heights)\n",
    "err_rel = np.zeros_like(heights)\n",
    "\n",
    "for i,h in enumerate(heights):\n",
    "    tru, est = form_factor_parallel(h,h,d)\n",
    "    err_abs[i] = est-tru\n",
    "    err_rel[i] = 100*err_abs[i]/tru\n"
   ]
  },
  {
   "cell_type": "code",
   "execution_count": 4,
   "id": "c8c81e58",
   "metadata": {},
   "outputs": [
    {
     "name": "stderr",
     "output_type": "stream",
     "text": [
      "C:\\Users\\WS2080-01\\AppData\\Local\\Temp\\ipykernel_32404\\3919609580.py:8: UserWarning: FigureCanvasAgg is non-interactive, and thus cannot be shown\n",
      "  figure[0].show()\n"
     ]
    },
    {
     "data": {
      "image/png": "[encoded data removed]",
      "text/plain": [
       "<Figure size 300x200 with 1 Axes>"
      ]
     },
     "metadata": {},
     "output_type": "display_data"
    }
   ],
   "source": [
    "figure = plt.subplots(figsize=(3,2))\n",
    "plt.semilogx(heights,err_rel)\n",
    "plt.xlabel('$$l/h$$')\n",
    "plt.ylabel('$$e_\\mathrm{rel} [\\%]$$')\n",
    "plt.grid()\n",
    "plt.xticks([.25,.5,1,2,4],['$1/4$','$1/2$','$1$','$2$','$4$'])\n",
    "plt.tight_layout()\n",
    "figure[0].show()\n",
    "figure[0].savefig('D:\\\\Joao_Fatela\\\\phd\\\\Papers\\\\Internoise_2025\\\\figures\\\\ff_par.pdf')"
   ]
  },
  {
   "cell_type": "markdown",
   "id": "a02c5fcd",
   "metadata": {},
   "source": [
    "### Perpendicular floating patches"
   ]
  },
  {
   "cell_type": "code",
   "execution_count": 5,
   "id": "3ebb301e",
   "metadata": {},
   "outputs": [],
   "source": [
    "def form_factor_perp_commonside(width, height, length):\n",
    "\n",
    "    exact = solutions.perpendicular_patch_coincidentline(width, height, length)\n",
    "\n",
    "    patch_1 = sp.geometry.Polygon(\n",
    "        points=[\n",
    "            [0, 0, 0],\n",
    "            [0, length, 0],\n",
    "            [0, length, height],\n",
    "            [0, 0, height],\n",
    "        ],\n",
    "        normal=[1, 0, 0],\n",
    "        up_vector=[1, 0, 0],\n",
    "    )\n",
    "\n",
    "    patch_2 = sp.geometry.Polygon(\n",
    "        points=[[0, 0, 0],\n",
    "                [width, 0, 0],\n",
    "                [width, length, 0],\n",
    "                [0, length, 0]],\n",
    "        normal=[0, 0, 1],\n",
    "        up_vector=[1, 0, 0],\n",
    "    )\n",
    "\n",
    "    univ = sp.form_factor.universal.universal_form_factor(\n",
    "                    source_pts=patch_1.pts,\n",
    "                    source_normal=patch_1.normal,\n",
    "                    source_area=patch_1.area,\n",
    "                    receiver_pts=patch_2.pts,\n",
    "                    receiver_normal=patch_2.normal)\n",
    "\n",
    "    return exact,univ\n",
    "\n",
    "\n",
    "heights = np.arange(1/4,4,.001)\n",
    "err_abs = np.zeros_like(heights)\n",
    "err_rel = np.zeros_like(heights)\n",
    "\n",
    "for i,h in enumerate(heights):\n",
    "    tru, est = form_factor_perp_commonside(h,1,h)\n",
    "    err_abs[i] = est-tru\n",
    "    err_rel[i] = 100*err_abs[i]/tru"
   ]
  },
  {
   "cell_type": "code",
   "execution_count": 6,
   "id": "ff51a67f",
   "metadata": {},
   "outputs": [
    {
     "name": "stderr",
     "output_type": "stream",
     "text": [
      "C:\\Users\\WS2080-01\\AppData\\Local\\Temp\\ipykernel_32404\\2490095343.py:8: UserWarning: FigureCanvasAgg is non-interactive, and thus cannot be shown\n",
      "  figure[0].show()\n"
     ]
    },
    {
     "data": {
      "image/png": "[encoded data removed]",
      "text/plain": [
       "<Figure size 300x200 with 1 Axes>"
      ]
     },
     "metadata": {},
     "output_type": "display_data"
    }
   ],
   "source": [
    "figure = plt.subplots(figsize=(3,2))\n",
    "plt.semilogx(heights,err_rel)\n",
    "plt.xlabel('$$l/h$$')\n",
    "plt.ylabel('$$e_\\mathrm{rel} [\\%]$$')\n",
    "plt.grid()\n",
    "plt.xticks([.25,.5,1,2,4],['$1/4$','$1/2$','$1$','$2$','$4$'])\n",
    "plt.tight_layout()\n",
    "figure[0].show()\n",
    "figure[0].savefig('D:\\\\Joao_Fatela\\\\phd\\\\Papers\\\\Internoise_2025\\\\figures\\\\ff_perp.pdf')"
   ]
  },
  {
   "cell_type": "markdown",
   "id": "dedcc4d5",
   "metadata": {},
   "source": [
    "## Infinite diffuse plane"
   ]
  },
  {
   "cell_type": "code",
   "execution_count": 7,
   "id": "ab5ddafa",
   "metadata": {},
   "outputs": [],
   "source": [
    "def run_energy_diff_specular_ratio(\n",
    "        width, length, patch_size, source, receiver):\n",
    "    \"\"\"\n",
    "    Calculate the ratio of diffuse to specular energy for an plane.\n",
    "    The plane is located in the x-y plane. Its center is at (0, 0, 0).\n",
    "\n",
    "    Parameters\n",
    "    ----------\n",
    "    width : float\n",
    "        Width of the plane.\n",
    "    length : float\n",
    "        length of the plane.\n",
    "    patch_size : float\n",
    "        Size of the patches.\n",
    "    source : pf.Coordinates\n",
    "        Position of the source.\n",
    "    receiver : pf.Coordinates\n",
    "        Position of the receiver in cartesian.\n",
    "\n",
    "    Returns\n",
    "    -------\n",
    "    ratio : float\n",
    "        Ratio of diffuse to specular energy.\n",
    "    \"\"\"\n",
    "    source_is = source.copy()\n",
    "    source_is.z *= -1\n",
    "    reflection_len =  (receiver - source_is).radius[0]\n",
    "    speed_of_sound = 343\n",
    "    sampling_rate = 1\n",
    "    etc_duration = reflection_len/speed_of_sound\n",
    "    etc_duration=1\n",
    "\n",
    "    plane = sp.geometry.Polygon(\n",
    "            [[-width/2, -length/2, 0],\n",
    "             [width/2, -length/2, 0],\n",
    "             [width/2, length/2, 0],\n",
    "             [-width/2, length/2, 0]],\n",
    "            [1, 0, 0], [0, 0, 1])\n",
    "\n",
    "    #simulation parameters\n",
    "    radi = sp.DirectionalRadiosityFast.from_polygon(\n",
    "        [plane], patch_size)\n",
    "\n",
    "    brdf_sources = pf.Coordinates(0, 0, 1, weights=1)\n",
    "    brdf_receivers = pf.Coordinates(0, 0, 1, weights=1)\n",
    "    brdf = sp.brdf.create_from_scattering(\n",
    "        brdf_sources,\n",
    "        brdf_receivers,\n",
    "        pf.FrequencyData(1, [100]),\n",
    "        pf.FrequencyData(0, [100]),\n",
    "    )\n",
    "\n",
    "    radi.set_wall_brdf(\n",
    "        np.arange(1), brdf, brdf_sources, brdf_receivers)\n",
    "\n",
    "    # set air absorption\n",
    "    radi.set_air_attenuation(\n",
    "        pf.FrequencyData(\n",
    "            np.zeros_like(brdf.frequencies),\n",
    "            brdf.frequencies))\n",
    "\n",
    "    # initialize source energy at each patch\n",
    "    radi.init_source_energy(source)\n",
    "\n",
    "    # gather energy at receiver\n",
    "    radi.calculate_energy_exchange(\n",
    "        speed_of_sound=speed_of_sound,\n",
    "        etc_time_resolution=1/sampling_rate,\n",
    "        etc_duration=etc_duration,\n",
    "        max_reflection_order=0)\n",
    "\n",
    "    I_diffuse = radi.collect_energy_receiver_mono(receiver)\n",
    "\n",
    "    I_specular = 1/(4*np.pi*reflection_len**2)\n",
    "    return np.sum(I_diffuse.time)/I_specular"
   ]
  },
  {
   "cell_type": "code",
   "execution_count": 8,
   "id": "c6302967",
   "metadata": {},
   "outputs": [],
   "source": [
    "patch_size=.75\n",
    "width = 40\n",
    "depth = 40"
   ]
  },
  {
   "cell_type": "code",
   "execution_count": 16,
   "id": "a52f3127",
   "metadata": {},
   "outputs": [
    {
     "name": "stdout",
     "output_type": "stream",
     "text": [
      "1.9651408943247055\n",
      "Colocated s-r relative error: 1.74%\n"
     ]
    }
   ],
   "source": [
    "# colocated s-r\n",
    "source = pf.Coordinates(0, 0, 2, weights=1)\n",
    "receiver = pf.Coordinates(0, 0, 2, weights=1)\n",
    "ratio1 = run_energy_diff_specular_ratio(\n",
    "    width, depth, patch_size, source, receiver)\n",
    "err1=100*(2-ratio1)/2\n",
    "print(ratio1)\n",
    "\n",
    "print(f'Colocated s-r relative error: {err1:.2f}%')\n"
   ]
  },
  {
   "cell_type": "code",
   "execution_count": 17,
   "id": "246e083a",
   "metadata": {},
   "outputs": [
    {
     "name": "stdout",
     "output_type": "stream",
     "text": [
      "1.9400449390287249\n",
      "On-normal s-r relative error: 3.00%\n"
     ]
    }
   ],
   "source": [
    "# same normal\n",
    "source = pf.Coordinates(0, 0, 1, weights=1)\n",
    "receiver = pf.Coordinates(0, 0, 2, weights=1)\n",
    "ratio2 = run_energy_diff_specular_ratio(\n",
    "    width, depth, patch_size, source, receiver)\n",
    "err2=100*(2-ratio2)/2\n",
    "print(ratio2)\n",
    "\n",
    "print(f'On-normal s-r relative error: {err2:.2f}%')"
   ]
  },
  {
   "cell_type": "code",
   "execution_count": 18,
   "id": "9752757c",
   "metadata": {},
   "outputs": [
    {
     "name": "stdout",
     "output_type": "stream",
     "text": [
      "Same-height s-r relative error\n",
      "    20º _____ 1.11%\n",
      "    25º _____ 0.82%\n",
      "    30º _____ 0.52%\n",
      "    35º _____ 0.23%\n",
      "    40º _____ -0.01%\n",
      "    45º _____ -0.20%\n",
      "    50º _____ -0.31%\n",
      "    55º _____ -0.36%\n",
      "    60º _____ -0.33%\n",
      "    65º _____ -0.24%\n",
      "    70º _____ -0.08%\n",
      "    75º _____ 0.24%\n",
      "    80º _____ 1.43%\n",
      "    85º _____ 73.59%\n"
     ]
    }
   ],
   "source": [
    "theta = np.deg2rad(np.arange(20,90,5))\n",
    "ratio3 = np.zeros_like(theta)\n",
    "\n",
    "for i,th in enumerate(theta):\n",
    "    source = pf.Coordinates.from_spherical_colatitude(\n",
    "        0, th, 2/np.cos(th), weights=1)\n",
    "    receiver = pf.Coordinates.from_spherical_colatitude(\n",
    "        np.pi, th, 2/np.cos(th), weights=1)\n",
    "    ratio3[i] = run_energy_diff_specular_ratio(\n",
    "        width, depth, patch_size, source, receiver)\n",
    "\n",
    "err3 = 100 * (2*np.cos(theta)-ratio3) / (2*np.cos(theta))\n",
    "\n",
    "print('Same-height s-r relative error')\n",
    "for i,e in enumerate(err3):\n",
    "    print(f'    {np.rad2deg(theta[i]):.0f}º _____ {e:.2f}%')"
   ]
  }
 ],
 "metadata": {
  "kernelspec": {
   "display_name": ".venv",
   "language": "python",
   "name": "python3"
  },
  "language_info": {
   "codemirror_mode": {
    "name": "ipython",
    "version": 3
   },
   "file_extension": ".py",
   "mimetype": "text/x-python",
   "name": "python",
   "nbconvert_exporter": "python",
   "pygments_lexer": "ipython3",
   "version": "3.11.9"
  }
 },
 "nbformat": 4,
 "nbformat_minor": 5
}
