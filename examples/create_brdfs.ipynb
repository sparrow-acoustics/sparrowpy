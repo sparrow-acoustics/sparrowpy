{
 "cells": [
  {
   "cell_type": "code",
   "execution_count": 20,
   "metadata": {},
   "outputs": [
    {
     "name": "stderr",
     "output_type": "stream",
     "text": [
      "/Users/anne/anaconda3/envs/sparapy/lib/python3.12/site-packages/pyfar/samplings/samplings.py:618: PyfarDeprecationWarning: 'This function will be deprecated in pyfar 0.8.0 in favor of spharpy.samplings.equal_angle.'\n",
      "  warnings.warn((\n",
      "/Users/anne/anaconda3/envs/sparapy/lib/python3.12/site-packages/pyfar/samplings/spatial.py:115: PyfarDeprecationWarning: 'This function will be deprecated in pyfar 0.8.0 in favor of spharpy.samplings.calculate_sampling_weights.'\n",
      "  warnings.warn((\n",
      "/Users/anne/anaconda3/envs/sparapy/lib/python3.12/site-packages/pyfar/samplings/spatial.py:44: PyfarDeprecationWarning: 'This function will be deprecated in pyfar 0.8.0 in favor of spharpy.samplings.spherical_voronoi.'\n",
      "  warnings.warn((\n"
     ]
    }
   ],
   "source": [
    "import sparapy as sp\n",
    "import pyfar as pf\n",
    "import numpy as np\n",
    "import matplotlib.pyplot as plt\n",
    "\n",
    "for degree in [30, 10, 5, 2, ]:\n",
    "    for s in [0, 0.5, 1]:\n",
    "        file_path = f'brdf_s{s}_{degree}.sofa'\n",
    "        coords = pf.samplings.sph_equal_angle(degree)\n",
    "        coords.weights = pf.samplings.calculate_sph_voronoi_weights(coords)\n",
    "        coords = coords[coords.z>0]\n",
    "        sp.brdf.create_from_scattering(\n",
    "            file_path, coords, coords, pf.FrequencyData(s, 100))"
   ]
  },
  {
   "cell_type": "code",
   "execution_count": 19,
   "metadata": {},
   "outputs": [
    {
     "name": "stdout",
     "output_type": "stream",
     "text": [
      "SOFA file contained custom entries\n",
      "----------------------------------\n",
      "ReceiverWeights, SourceWeights\n",
      "(6.357742501929006+0j)\n"
     ]
    },
    {
     "name": "stderr",
     "output_type": "stream",
     "text": [
      "/Users/anne/anaconda3/envs/sparapy/lib/python3.12/site-packages/pyfar/classes/coordinates.py:1050: PyfarDeprecationWarning: 'This function will be deprecated in pyfar 0.8.0 in favor of spharpy.samplings.SamplingSphere.'\n",
      "  warnings.warn((\n",
      "/var/folders/7q/_50y0lw50_x1j732_5yyyx7h0000gn/T/ipykernel_77355/3503144958.py:7: RuntimeWarning: divide by zero encountered in log10\n",
      "  plt.imshow(20*np.log10(np.abs(data.freq[:, :, 0])))\n"
     ]
    },
    {
     "data": {
      "image/png": "[encoded data removed]",
      "text/plain": [
       "<Figure size 640x480 with 1 Axes>"
      ]
     },
     "metadata": {},
     "output_type": "display_data"
    }
   ],
   "source": [
    "\n",
    "for degree in [30 ]:\n",
    "    for s in [0]:\n",
    "        file_path = f'brdf_s{s}_{degree}.sofa'\n",
    "        data, s, r = pf.io.read_sofa(file_path)\n",
    "        print(f'{np.max(data.freq)}')\n",
    "        plt.figure()\n",
    "        plt.imshow(20*np.log10(np.abs(data.freq[:, :, 0])))\n"
   ]
  },
  {
   "cell_type": "code",
   "execution_count": 6,
   "metadata": {},
   "outputs": [
    {
     "data": {
      "text/plain": [
       "(7.649855901467869e+16+0j)"
      ]
     },
     "execution_count": 6,
     "metadata": {},
     "output_type": "execute_result"
    }
   ],
   "source": [
    "np.max(data.freq[:, :, 0])\n",
    "# np.min(data.freq[:, :, 0])"
   ]
  },
  {
   "cell_type": "code",
   "execution_count": 15,
   "metadata": {},
   "outputs": [
    {
     "name": "stderr",
     "output_type": "stream",
     "text": [
      "/Users/anne/anaconda3/envs/sparapy/lib/python3.12/site-packages/pyfar/samplings/samplings.py:618: PyfarDeprecationWarning: 'This function will be deprecated in pyfar 0.8.0 in favor of spharpy.samplings.equal_angle.'\n",
      "  warnings.warn((\n",
      "/Users/anne/anaconda3/envs/sparapy/lib/python3.12/site-packages/pyfar/classes/coordinates.py:1050: PyfarDeprecationWarning: 'This function will be deprecated in pyfar 0.8.0 in favor of spharpy.samplings.SamplingSphere.'\n",
      "  warnings.warn((\n",
      "/Users/anne/anaconda3/envs/sparapy/lib/python3.12/site-packages/pyfar/samplings/spatial.py:115: PyfarDeprecationWarning: 'This function will be deprecated in pyfar 0.8.0 in favor of spharpy.samplings.calculate_sampling_weights.'\n",
      "  warnings.warn((\n",
      "/Users/anne/anaconda3/envs/sparapy/lib/python3.12/site-packages/pyfar/samplings/spatial.py:44: PyfarDeprecationWarning: 'This function will be deprecated in pyfar 0.8.0 in favor of spharpy.samplings.spherical_voronoi.'\n",
      "  warnings.warn((\n"
     ]
    },
    {
     "data": {
      "text/plain": [
       "0.010922837767862075"
      ]
     },
     "execution_count": 15,
     "metadata": {},
     "output_type": "execute_result"
    }
   ],
   "source": [
    "coords = pf.samplings.sph_equal_angle(degree)\n",
    "coords.weights = pf.samplings.calculate_sph_voronoi_weights(coords)\n",
    "coords = coords[coords.z>0]\n",
    "\n",
    "np.max(coords.weights)\n",
    "np.min(coords.weights)"
   ]
  },
  {
   "cell_type": "code",
   "execution_count": 17,
   "metadata": {},
   "outputs": [
    {
     "data": {
      "text/plain": [
       "array([90., 88., 88., ...,  2.,  2.,  2.])"
      ]
     },
     "execution_count": 17,
     "metadata": {},
     "output_type": "execute_result"
    }
   ],
   "source": [
    "coords.elevation*180/np.pi"
   ]
  }
 ],
 "metadata": {
  "kernelspec": {
   "display_name": "sparapy",
   "language": "python",
   "name": "python3"
  },
  "language_info": {
   "codemirror_mode": {
    "name": "ipython",
    "version": 3
   },
   "file_extension": ".py",
   "mimetype": "text/x-python",
   "name": "python",
   "nbconvert_exporter": "python",
   "pygments_lexer": "ipython3",
   "version": "3.12.3"
  }
 },
 "nbformat": 4,
 "nbformat_minor": 2
}
