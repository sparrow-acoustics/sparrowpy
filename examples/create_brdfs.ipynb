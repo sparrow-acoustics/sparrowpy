{
 "cells": [
  {
   "cell_type": "code",
   "execution_count": 1,
   "metadata": {},
   "outputs": [
    {
     "name": "stdout",
     "output_type": "stream",
     "text": [
      "Creating BRDF for s=0 and degree=30\n",
      "1D Coordinates object with 37 points of cshape (37,)\n",
      "\n",
      "Contains sampling weights\n",
      "Comment: equal angle spherical sampling grid\n",
      "Creating BRDF for s=0.5 and degree=30\n",
      "1D Coordinates object with 37 points of cshape (37,)\n",
      "\n",
      "Contains sampling weights\n",
      "Comment: equal angle spherical sampling grid\n",
      "Creating BRDF for s=1 and degree=30\n",
      "1D Coordinates object with 37 points of cshape (37,)\n",
      "\n",
      "Contains sampling weights\n",
      "Comment: equal angle spherical sampling grid\n",
      "Creating BRDF for s=0 and degree=10\n",
      "1D Coordinates object with 325 points of cshape (325,)\n",
      "\n",
      "Contains sampling weights\n",
      "Comment: equal angle spherical sampling grid\n",
      "Creating BRDF for s=0.5 and degree=10\n",
      "1D Coordinates object with 325 points of cshape (325,)\n",
      "\n",
      "Contains sampling weights\n",
      "Comment: equal angle spherical sampling grid\n",
      "Creating BRDF for s=1 and degree=10\n"
     ]
    },
    {
     "name": "stderr",
     "output_type": "stream",
     "text": [
      "/Users/anne/anaconda3/envs/sparapy/lib/python3.12/site-packages/pyfar/samplings/samplings.py:618: PyfarDeprecationWarning: 'This function will be deprecated in pyfar 0.8.0 in favor of spharpy.samplings.equal_angle.'\n",
      "  warnings.warn((\n",
      "/Users/anne/anaconda3/envs/sparapy/lib/python3.12/site-packages/pyfar/classes/coordinates.py:1050: PyfarDeprecationWarning: 'This function will be deprecated in pyfar 0.8.0 in favor of spharpy.samplings.SamplingSphere.'\n",
      "  warnings.warn((\n",
      "/Users/anne/anaconda3/envs/sparapy/lib/python3.12/site-packages/pyfar/samplings/spatial.py:115: PyfarDeprecationWarning: 'This function will be deprecated in pyfar 0.8.0 in favor of spharpy.samplings.calculate_sampling_weights.'\n",
      "  warnings.warn((\n",
      "/Users/anne/anaconda3/envs/sparapy/lib/python3.12/site-packages/pyfar/samplings/spatial.py:44: PyfarDeprecationWarning: 'This function will be deprecated in pyfar 0.8.0 in favor of spharpy.samplings.spherical_voronoi.'\n",
      "  warnings.warn((\n"
     ]
    },
    {
     "name": "stdout",
     "output_type": "stream",
     "text": [
      "1D Coordinates object with 325 points of cshape (325,)\n",
      "\n",
      "Contains sampling weights\n",
      "Comment: equal angle spherical sampling grid\n",
      "Creating BRDF for s=0 and degree=5\n",
      "1D Coordinates object with 1297 points of cshape (1297,)\n",
      "\n",
      "Contains sampling weights\n",
      "Comment: equal angle spherical sampling grid\n",
      "Creating BRDF for s=0.5 and degree=5\n",
      "1D Coordinates object with 1297 points of cshape (1297,)\n",
      "\n",
      "Contains sampling weights\n",
      "Comment: equal angle spherical sampling grid\n",
      "Creating BRDF for s=1 and degree=5\n",
      "1D Coordinates object with 1297 points of cshape (1297,)\n",
      "\n",
      "Contains sampling weights\n",
      "Comment: equal angle spherical sampling grid\n",
      "Creating BRDF for s=0 and degree=2\n",
      "1D Coordinates object with 8101 points of cshape (8101,)\n",
      "\n",
      "Contains sampling weights\n",
      "Comment: equal angle spherical sampling grid\n",
      "Creating BRDF for s=0.5 and degree=2\n",
      "1D Coordinates object with 8101 points of cshape (8101,)\n",
      "\n",
      "Contains sampling weights\n",
      "Comment: equal angle spherical sampling grid\n",
      "Creating BRDF for s=1 and degree=2\n",
      "1D Coordinates object with 8101 points of cshape (8101,)\n",
      "\n",
      "Contains sampling weights\n",
      "Comment: equal angle spherical sampling grid\n"
     ]
    }
   ],
   "source": [
    "import sparapy as sp\n",
    "import pyfar as pf\n",
    "\n",
    "for degree in [30, 10, 5, 2, ]:\n",
    "    for s in [0, 0.5, 1]:\n",
    "        print(f'Creating BRDF for s={s} and degree={degree}')\n",
    "        file_path = f'brdf_s{s}_{degree}.sofa'\n",
    "        coords = pf.samplings.sph_equal_angle(degree)\n",
    "        coords.weights = pf.samplings.calculate_sph_voronoi_weights(coords)\n",
    "        coords = coords[coords.z>=0]\n",
    "        print(coords)\n",
    "        sp.brdf.create_from_scattering(\n",
    "            file_path, coords, coords, pf.FrequencyData(s, 100))"
   ]
  },
  {
   "cell_type": "code",
   "execution_count": 2,
   "metadata": {},
   "outputs": [
    {
     "data": {
      "text/plain": [
       "32400"
      ]
     },
     "execution_count": 2,
     "metadata": {},
     "output_type": "execute_result"
    }
   ],
   "source": [
    "360*90"
   ]
  }
 ],
 "metadata": {
  "kernelspec": {
   "display_name": "sparapy",
   "language": "python",
   "name": "python3"
  },
  "language_info": {
   "codemirror_mode": {
    "name": "ipython",
    "version": 3
   },
   "file_extension": ".py",
   "mimetype": "text/x-python",
   "name": "python",
   "nbconvert_exporter": "python",
   "pygments_lexer": "ipython3",
   "version": "3.12.3"
  }
 },
 "nbformat": 4,
 "nbformat_minor": 2
}
