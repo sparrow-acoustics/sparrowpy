{
 "cells": [
  {
   "cell_type": "markdown",
   "id": "66ada25d",
   "metadata": {},
   "source": [
    "# Urban canyon simulation plots [Section VI.B]\n",
    "This example includes the scripts for the generation of plots relative to the street canyon simulations.\n",
    "\n",
    "The first section plots ETCs resulting from different simulation/scattering implementations (see [``VIB1_street_canyon_decay.ipynb``](VIB1_street_canyon_decay.ipynb)).\n",
    "\n",
    "The second section includes plots relative to the computational performance of the simulation (see [``VIB2_street_canyon_performance.ipynb``](VIB2_street_canyon_performance.ipynb)).\n",
    "\n",
    "![alt text](figures/Figure11.svg \"Illustration of the street canyon\")"
   ]
  },
  {
   "cell_type": "code",
   "execution_count": null,
   "id": "00db2c88",
   "metadata": {},
   "outputs": [],
   "source": [
    "import matplotlib.pyplot as plt\n",
    "import os\n",
    "import numpy as np\n",
    "import json\n",
    "import pyfar as pf\n",
    "from utils.fig_formatting import create_fig, export_fig\n",
    "import csv\n",
    "%matplotlib inline"
   ]
  },
  {
   "cell_type": "markdown",
   "id": "9854a1e4",
   "metadata": {},
   "source": [
    "Select data origin (same as paper or user-generated)"
   ]
  },
  {
   "cell_type": "code",
   "execution_count": null,
   "id": "e24bcba5",
   "metadata": {},
   "outputs": [],
   "source": [
    "###################################################\n",
    "#### SET \"True\" TO LOAD YOUR OWN GENERATED DATA\n",
    "#### \"False\" TO LOAD THE DATA FROM THE PAPER\n",
    "# BRDF data source\n",
    "self_data=False\n",
    "# ray-tracing simulation data source\n",
    "self_RT=False\n",
    "###################################################\n",
    "\n",
    "if self_data:\n",
    "    sub_dir=\"user\"\n",
    "else:\n",
    "    sub_dir=\"paper\"\n",
    "\n",
    "if self_RT:\n",
    "    raven_dir=\"user\"\n",
    "else:\n",
    "    raven_dir=\"paper\"\n",
    "\n",
    "basepath = os.path.join(os.getcwd(),\"resources\")"
   ]
  },
  {
   "cell_type": "markdown",
   "id": "f4b2bc41",
   "metadata": {},
   "source": [
    "## ETC comparison in the street canyon"
   ]
  },
  {
   "cell_type": "markdown",
   "id": "9a665cb2",
   "metadata": {},
   "source": [
    "Load sparrowpy ETC data"
   ]
  },
  {
   "cell_type": "code",
   "execution_count": null,
   "id": "475770d6",
   "metadata": {},
   "outputs": [],
   "source": [
    "# change the name of the file to load results with different patch sizes\n",
    "sparrow_ETCs = pf.io.read(os.path.join(basepath,sub_dir,\"ETCs_psize3.far\"))\n",
    "\n",
    "# sparrowpy ETCs\n",
    "BSC_based=sparrow_ETCs[\"custom_etc\"][0]\n",
    "RISC_based = sparrow_ETCs[\"diffuse_etc\"][0]\n",
    "freq=sparrow_ETCs[\"freqs\"]"
   ]
  },
  {
   "cell_type": "markdown",
   "id": "7d4153fc",
   "metadata": {},
   "source": [
    "Load RAVEN (ray-tracing) ETC data"
   ]
  },
  {
   "cell_type": "code",
   "execution_count": null,
   "id": "786ef248",
   "metadata": {},
   "outputs": [],
   "source": [
    "# load raw data form RAVEN's output file\n",
    "f=[]\n",
    "ffile = os.path.join(basepath,raven_dir,\"raven_streetcanyon_retro.csv\")\n",
    "with open(ffile, mode ='r')as file:\n",
    "  csvFile = csv.reader(file)\n",
    "  for lines in csvFile:\n",
    "        f.append(lines)\n",
    "\n",
    "  g = np.array(f,dtype=np.float64)\n",
    "\n",
    "# discern and normalize data\n",
    "ffreq=g[0]\n",
    "ttime = g[1:,0]\n",
    "data = g[1:,1:].T/(4*np.pi)\n",
    "\n",
    "# organise ETCs into pyfar TimeData object\n",
    "ddata=np.empty((freq.shape[0],data.shape[-1]))\n",
    "for i,f in enumerate(freq):\n",
    "    ddata[i] = data[np.argmin(np.abs(freq-f))]\n",
    "raven = pf.TimeData(data=ddata,times=ttime)"
   ]
  },
  {
   "cell_type": "markdown",
   "id": "f729c7a7",
   "metadata": {},
   "source": [
    "### nice big plot"
   ]
  },
  {
   "cell_type": "markdown",
   "id": "fa0b4888",
   "metadata": {},
   "source": [
    "Select frequency band to plot"
   ]
  },
  {
   "cell_type": "code",
   "execution_count": null,
   "id": "61618c0c",
   "metadata": {},
   "outputs": [],
   "source": [
    "# change this variable to check different frequency bands\n",
    "freq_bin = 4e3\n",
    "##\n",
    "\n",
    "i = np.argmin(np.abs(freq-freq_bin))"
   ]
  },
  {
   "cell_type": "code",
   "execution_count": null,
   "id": "9894f3f5",
   "metadata": {},
   "outputs": [],
   "source": [
    "f,a=create_fig(figtype=\"big\")\n",
    "# main plot\n",
    "pf.plot.time(BSC_based[i], dB=True, log_prefix=10,\n",
    "             label=[\"BSC-based BRDF\"],\n",
    "             linestyle=\"-\")\n",
    "pf.plot.time(RISC_based[i], dB=True, log_prefix=10,\n",
    "             label=[\"RISC-based BRDF\"],\n",
    "             linestyle=\"--\")\n",
    "pf.plot.time(raven[i], dB=True, log_prefix=10,\n",
    "             label=[\"RAVEN reference (RISC)\"],\n",
    "             linestyle=\":\")\n",
    "plt.legend(fontsize=10,loc=\"center left\",bbox_to_anchor=(.75, 1 ),shadow=True)\n",
    "plt.xlabel(\"Time  [s]\")\n",
    "plt.ylabel(\"Magnitude [dB]\")\n",
    "plt.ylim([-120,0])\n",
    "\n",
    "\n",
    "# zoomed section\n",
    "axin = a.inset_axes([0.57, 0.55, 0.5, 0.6])\n",
    "axin.grid()\n",
    "pf.plot.time(BSC_based[i], dB=True, log_prefix=10,\n",
    "             label=[\"BSC-based BRDF\"],\n",
    "             linestyle=\"-\",ax=axin)\n",
    "pf.plot.time(RISC_based[i], dB=True, log_prefix=10,\n",
    "             label=[\"RISC-based BRDF\"],\n",
    "             linestyle=\"--\",ax=axin)\n",
    "pf.plot.time(raven[i], dB=True, log_prefix=10,\n",
    "             label=[\"RAVEN reference (RISC)\"],\n",
    "             linestyle=\":\",ax=axin)\n",
    "axin.set_xlim(0,.2)\n",
    "axin.set_ylim(-60,-10)\n",
    "axin.set_xlabel(\"\")\n",
    "axin.set_ylabel(\"\")\n",
    "axin.set_xticklabels([\"\"])\n",
    "axin.set_yticklabels([\"\"])\n",
    "a.indicate_inset_zoom(axin,edgecolor='k',linestyle='-.',alpha=.9,linewidth=.75)\n",
    "\n",
    "export_fig(f,filename=\"Figure12\")"
   ]
  },
  {
   "cell_type": "markdown",
   "id": "de7e885c",
   "metadata": {},
   "source": [
    "## Computational performance"
   ]
  },
  {
   "cell_type": "markdown",
   "id": "8f67e995",
   "metadata": {},
   "source": [
    "helpful labels"
   ]
  },
  {
   "cell_type": "code",
   "execution_count": null,
   "id": "cf0e8db2",
   "metadata": {},
   "outputs": [],
   "source": [
    "tlabel=\"run-time\\,[s]\"\n",
    "mlabel=\"peak memory\\,[MB]\"\n",
    "mlegend=[\"baking\", \"exchange\",\"collection\",\"baseline\"]\n",
    "tlegend=[\"baking\", \"exchange\",\"collection\",\"total\", \"baseline\"]"
   ]
  },
  {
   "cell_type": "markdown",
   "id": "275a7dd6",
   "metadata": {},
   "source": [
    "load performance measurement file"
   ]
  },
  {
   "cell_type": "code",
   "execution_count": null,
   "id": "8cf7d93f",
   "metadata": {},
   "outputs": [],
   "source": [
    "with open(os.path.join(basepath,sub_dir,\"street_canyon_perf.json\")) as json_file:\n",
    "    dat = json.load(json_file)"
   ]
  },
  {
   "cell_type": "markdown",
   "id": "ca229316",
   "metadata": {},
   "source": [
    "### ETC time resolution\n"
   ]
  },
  {
   "cell_type": "code",
   "execution_count": null,
   "id": "e81f1480",
   "metadata": {},
   "outputs": [],
   "source": [
    "runtime = np.array(dat[\"time_step\"][\"t\"])[:,1:]\n",
    "data = np.array(dat[\"time_step\"][\"data\"])\n",
    "memory = np.array(dat[\"time_step\"][\"mem\"])[:,1:,1]/1000**2\n",
    "\n",
    "# get number of total samples\n",
    "num = 1.2/data\n",
    "\n",
    "# baseline\n",
    "i = np.argwhere(data==dat[\"baseline\"][\"time_step\"])[0]\n",
    "\n",
    " #runtime of all sections\n",
    "ssum = np.sum(runtime,axis=1)\n",
    "\n",
    "fn,a=create_fig()\n",
    "plt.plot(num,runtime)\n",
    " #plot total\n",
    "plt.plot(num,ssum,'--')\n",
    " #plot baseline\n",
    "plt.plot(num[i]*np.ones((len(runtime.T[:,i])+1)),\n",
    "         np.append(runtime.T[:,i],ssum[i]),\n",
    "         'o:', color='gray')\n",
    "plt.xlabel(\"\\\\# ETC time samples\")\n",
    "plt.ylabel(tlabel)\n",
    "plt.legend(tlegend,fontsize=8,loc=\"upper left\",\n",
    "           bbox_to_anchor=(0, 1.25),shadow=True)\n",
    "plt.ylim([-1,20])\n",
    "plt.show()\n",
    "\n",
    "export_fig(fn,filename=\"Figure13a\")\n",
    "\n",
    "\n",
    "fmn,a=create_fig()\n",
    "plt.plot(num,memory)\n",
    "# plot baseline\n",
    "plt.plot(num[i]*np.ones_like(memory.T[:,i]),memory.T[:,i],\n",
    "         'o:', color='gray')\n",
    "plt.xlabel(\"\\\\# ETC time samples\")\n",
    "plt.ylabel(mlabel)\n",
    "plt.legend(mlegend,fontsize=8,loc=\"upper left\",\n",
    "           bbox_to_anchor=(0, 1.25),shadow=True)\n",
    "plt.show()\n",
    "\n",
    "export_fig(fmn,filename=\"Figure13b\")"
   ]
  },
  {
   "cell_type": "markdown",
   "id": "d42e2487",
   "metadata": {},
   "source": [
    "### BRDF resolution"
   ]
  },
  {
   "cell_type": "code",
   "execution_count": null,
   "id": "a948ada6",
   "metadata": {},
   "outputs": [],
   "source": [
    "runtime = np.array(dat[\"brdf_resolution\"][\"t\"])[:,1:]\n",
    "data = np.array(dat[\"brdf_resolution\"][\"data\"])\n",
    "memory = np.array(dat[\"brdf_resolution\"][\"mem\"])[:,1:,1]/1000**2\n",
    "\n",
    "# get number of samples used\n",
    "num=[]\n",
    "for dd in data:\n",
    "    samples = pf.samplings.sph_gaussian(dd)\n",
    "    num.append(samples[np.where((samples.elevation*180/np.pi >= 0))].cshape[0])\n",
    "\n",
    "num=np.array(num)\n",
    "\n",
    "# find baseline\n",
    "i = np.argwhere(data==dat[\"baseline\"][\"brdf_resolution\"])[0]\n",
    "# get total runtime\n",
    "ssum = np.sum(runtime,axis=1)\n",
    "\n",
    "fn,a=create_fig()\n",
    "plt.plot(num,runtime)\n",
    "# plot total runtime\n",
    "plt.plot(num,np.sum(runtime,axis=1),'--')\n",
    "# plot baseline\n",
    "plt.plot(num[i]*np.ones((len(runtime.T[:,i])+1)),\n",
    "         np.append(runtime.T[:,i],ssum[i]),\n",
    "         'o:', color='gray')\n",
    "plt.xlabel(\"\\\\# BRDF samples\")\n",
    "plt.ylabel(tlabel)\n",
    "plt.legend(tlegend,fontsize=8,loc=\"upper left\",\n",
    "           bbox_to_anchor=(0, 1.27),shadow=True)\n",
    "plt.show()\n",
    "\n",
    "export_fig(fn,filename=\"Figure15a\")\n",
    "\n",
    "\n",
    "\n",
    "fmn,a=create_fig()\n",
    "plt.plot(num,memory)\n",
    "# plot baseline\n",
    "plt.plot(num[i]*np.ones_like(memory.T[:,i]),memory.T[:,i],\n",
    "         'o:', color='gray')\n",
    "plt.xlabel(\"\\\\# BRDF samples\")\n",
    "plt.ylabel(mlabel)\n",
    "plt.legend(mlegend,fontsize=8,loc=\"upper left\",\n",
    "           bbox_to_anchor=(0, 1.27),shadow=True)\n",
    "plt.show()\n",
    "\n",
    "export_fig(fmn,filename=\"Figure15b\")\n"
   ]
  },
  {
   "cell_type": "markdown",
   "id": "57f70b45",
   "metadata": {},
   "source": [
    "### max. reflection order"
   ]
  },
  {
   "cell_type": "code",
   "execution_count": null,
   "id": "647532e2",
   "metadata": {},
   "outputs": [],
   "source": [
    "runtime = np.array(dat[\"reflection_order\"][\"t\"])[:,1:]\n",
    "data = np.array(dat[\"reflection_order\"][\"data\"])\n",
    "memory = np.array(dat[\"reflection_order\"][\"mem\"])[:,1:,1]/1000**2\n",
    "\n",
    "# find baseline\n",
    "i = np.argwhere(data==dat[\"baseline\"][\"reflection_order\"])[0]\n",
    "# get total runtime\n",
    "ssum = np.sum(runtime,axis=1)\n",
    "\n",
    "\n",
    "f,a=create_fig()\n",
    "plt.plot(data,runtime)\n",
    "# plot total runtime\n",
    "plt.plot(data,np.sum(runtime,axis=1),'--')\n",
    "# plot baseline\n",
    "plt.plot(data[i]*np.ones((len(runtime.T[:,i])+1)),\n",
    "         np.append(runtime.T[:,i],ssum[i]),\n",
    "         'o:', color='gray')\n",
    "plt.xlabel(\"reflection order\")\n",
    "plt.ylabel(tlabel)\n",
    "plt.legend(tlegend,fontsize=8,loc=\"upper left\",\n",
    "           bbox_to_anchor=(0, 1.35),shadow=True)\n",
    "\n",
    "plt.show()\n",
    "\n",
    "export_fig(f,filename=\"Figure14a\")\n",
    "\n",
    "fm,a=create_fig()\n",
    "plt.plot(data,memory)\n",
    "plt.xlabel(\"reflection order\")\n",
    "plt.ylabel(mlabel)\n",
    "plt.legend(mlegend,fontsize=8,loc=\"upper left\",\n",
    "           bbox_to_anchor=(0, 1.35),shadow=True)\n",
    "plt.show()\n",
    "\n",
    "export_fig(fm,filename=\"Figure14b\")"
   ]
  },
  {
   "cell_type": "markdown",
   "id": "12841889",
   "metadata": {},
   "source": [
    "### patch resolution"
   ]
  },
  {
   "cell_type": "code",
   "execution_count": null,
   "id": "e1c984f3",
   "metadata": {},
   "outputs": [],
   "source": [
    "runtime = np.array(dat[\"patch_size\"][\"t\"])[:,1:]\n",
    "data = np.array(dat[\"patch_size\"][\"data\"])\n",
    "memory = np.array(dat[\"patch_size\"][\"mem\"])[:,1:,1]/1000**2\n",
    "num = (6*2+12)*90/data**2\n",
    "\n",
    "num=np.array(num)\n",
    "# find baseline\n",
    "i = np.argwhere(data==dat[\"baseline\"][\"patch_size\"])[0]\n",
    "# get total runtime\n",
    "ssum = np.sum(runtime,axis=1)\n",
    "\n",
    "\n",
    "fn,a=create_fig()\n",
    "plt.plot(num,runtime)\n",
    "# plot total runtime\n",
    "plt.plot(num,np.sum(runtime,axis=1),'--')\n",
    "# plot baseline\n",
    "plt.plot(num[i]*np.ones((len(runtime.T[:,i])+1)),\n",
    "         np.append(runtime.T[:,i],ssum[i]),\n",
    "         'o:', color='gray')\n",
    "plt.xlabel(\"\\\\#patches\")\n",
    "plt.ylabel(tlabel)\n",
    "plt.legend(mlegend,fontsize=8,loc=\"upper left\",\n",
    "           bbox_to_anchor=(0, 1.27),shadow=True)\n",
    "plt.show()\n",
    "\n",
    "export_fig(fn,filename=\"Figure16a\")\n",
    "\n",
    "fm,a=create_fig()\n",
    "plt.plot(num,memory)\n",
    "# plot baseline\n",
    "plt.plot(num[i]*np.ones_like(memory.T[:,i]),memory.T[:,i],\n",
    "         'o:', color='gray')\n",
    "plt.xlabel(\"\\\\#patches\")\n",
    "plt.ylabel(mlabel)\n",
    "plt.legend(mlegend,fontsize=8,loc=\"upper left\",\n",
    "           bbox_to_anchor=(0, 1.27),shadow=True)\n",
    "plt.show()\n",
    "\n",
    "export_fig(fm,filename=\"Figure16b\")"
   ]
  }
 ],
 "metadata": {
  "kernelspec": {
   "display_name": ".venv",
   "language": "python",
   "name": "python3"
  },
  "language_info": {
   "codemirror_mode": {
    "name": "ipython",
    "version": 3
   },
   "file_extension": ".py",
   "mimetype": "text/x-python",
   "name": "python",
   "nbconvert_exporter": "python",
   "pygments_lexer": "ipython3",
   "version": "3.11.9"
  }
 },
 "nbformat": 4,
 "nbformat_minor": 5
}
