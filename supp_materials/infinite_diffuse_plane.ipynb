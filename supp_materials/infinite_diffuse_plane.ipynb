{
 "cells": [
  {
   "cell_type": "markdown",
   "id": "6dad7173",
   "metadata": {},
   "source": [
    "# Infinite diffuse plane\n",
    "This notebook performs the simulation of a single diffuse reflection on a plane from a point source to a point receiver.\n",
    "\n",
    "The ratio between the computed diffuse energy and the energy of a specular reflection is computed and compared to the results put forth by Svensson and Savioja, 2020."
   ]
  },
  {
   "cell_type": "code",
   "execution_count": 14,
   "id": "5ead0d57",
   "metadata": {},
   "outputs": [],
   "source": [
    "import sparrowpy as sp\n",
    "import pyfar as pf\n",
    "import numpy as np\n",
    "import os\n",
    "import pandas as pd\n",
    "import matplotlib.pyplot as plt\n",
    "import matplotlib.ticker as mticker\n",
    "from utils.fig_formatting import create_fig, export_fig\n",
    "%matplotlib inline\n",
    "\n",
    "writepath = os.path.join(os.getcwd(),\"resources\",\"user\")"
   ]
  },
  {
   "cell_type": "markdown",
   "id": "899f6786",
   "metadata": {},
   "source": [
    "## Simulation"
   ]
  },
  {
   "cell_type": "markdown",
   "id": "994a880c",
   "metadata": {},
   "source": [
    "define function to run simulation and evaluate diffuse to specular energy ratio\n",
    "\n",
    "**NOTE:** the simulations are computationally demanding and can take a long time to run. To see just the final plots, these steps can be skipped (go to \"Plot\" section)"
   ]
  },
  {
   "cell_type": "code",
   "execution_count": 15,
   "id": "ab5ddafa",
   "metadata": {},
   "outputs": [],
   "source": [
    "def run_energy_diff_specular_ratio(\n",
    "        width, length, patch_size, source, receiver):\n",
    "    \"\"\"\n",
    "    Calculate the ratio of diffuse to specular energy for an plane.\n",
    "    The plane is located in the x-y plane. Its center is at (0, 0, 0).\n",
    "\n",
    "    Parameters\n",
    "    ----------\n",
    "    width : float\n",
    "        Width of the plane.\n",
    "    length : float\n",
    "        length of the plane.\n",
    "    patch_size : float\n",
    "        Size of the patches.\n",
    "    source : pf.Coordinates\n",
    "        Position of the source.\n",
    "    receiver : pf.Coordinates\n",
    "        Position of the receiver in cartesian.\n",
    "\n",
    "    Returns\n",
    "    -------\n",
    "    ratio : float\n",
    "        Ratio of diffuse to specular energy.\n",
    "    \"\"\"\n",
    "    # simulation parameters\n",
    "    source_is = source.copy()\n",
    "    source_is.z *= -1\n",
    "    reflection_len =  (receiver - source_is).radius[0]\n",
    "    speed_of_sound = 343\n",
    "    sampling_rate = 1\n",
    "    etc_duration = reflection_len/speed_of_sound\n",
    "    etc_duration=1\n",
    "\n",
    "    plane = sp.geometry.Polygon(\n",
    "            [[-width/2, -length/2, 0],\n",
    "             [width/2, -length/2, 0],\n",
    "             [width/2, length/2, 0],\n",
    "             [-width/2, length/2, 0]],\n",
    "            [1, 0, 0], [0, 0, 1])\n",
    "\n",
    "    # Geometry loading\n",
    "    radi = sp.DirectionalRadiosityFast.from_polygon(\n",
    "        [plane], patch_size)\n",
    "\n",
    "    # scattering definition and assignment (perfectly diffuse)\n",
    "    brdf_sources = pf.Coordinates(0, 0, 1, weights=1)\n",
    "    brdf_receivers = pf.Coordinates(0, 0, 1, weights=1)\n",
    "    brdf = sp.brdf.create_from_scattering(\n",
    "        brdf_sources,\n",
    "        brdf_receivers,\n",
    "        pf.FrequencyData(1, [100]),\n",
    "        pf.FrequencyData(0, [100]),\n",
    "    )\n",
    "    radi.set_wall_brdf(\n",
    "        np.arange(1), brdf, brdf_sources, brdf_receivers)\n",
    "\n",
    "    # set air absorption to 0\n",
    "    radi.set_air_attenuation(\n",
    "        pf.FrequencyData(\n",
    "            np.zeros_like(brdf.frequencies),\n",
    "            brdf.frequencies))\n",
    "\n",
    "    # initialize source energy at each patch\n",
    "    radi.init_source_energy(source)\n",
    "\n",
    "    # gather energy at each patch\n",
    "    radi.calculate_energy_exchange(\n",
    "        speed_of_sound=speed_of_sound,\n",
    "        etc_time_resolution=1/sampling_rate,\n",
    "        etc_duration=etc_duration,\n",
    "        max_reflection_order=0)\n",
    "\n",
    "    # collect diffusely reflected energy at receiver position\n",
    "    I_diffuse = radi.collect_energy_receiver_mono(receiver)\n",
    "\n",
    "    # analytical solution for specular reflection\n",
    "    I_specular = 1/(4*np.pi*reflection_len**2)\n",
    "\n",
    "    # return diffuse to specular energy ratio\n",
    "    return np.sum(I_diffuse.time)/I_specular\n",
    "\n",
    "\n",
    "# run very simple simulation to cache main methods\n",
    "_=run_energy_diff_specular_ratio(\n",
    "        1, 1, 1, pf.Coordinates(0, 0, 2, weights=1),\n",
    "        pf.Coordinates(0, 0, 2, weights=1))"
   ]
  },
  {
   "cell_type": "markdown",
   "id": "d2bb5207",
   "metadata": {},
   "source": [
    "Set up simulation settings"
   ]
  },
  {
   "cell_type": "code",
   "execution_count": 16,
   "id": "28079611",
   "metadata": {},
   "outputs": [],
   "source": [
    "# \"infinite\" plane dimensions\n",
    "width=30\n",
    "depth=30\n",
    "\n",
    "# patch sizes\n",
    "patch_sizes = np.array([5, 2, 1, .5])\n",
    "\n",
    "# range of theta angles for special case (c)\n",
    "theta_deg = np.arange(15,90,15)\n",
    "theta = np.deg2rad(theta_deg)"
   ]
  },
  {
   "cell_type": "markdown",
   "id": "4e0255ea",
   "metadata": {},
   "source": [
    "Prepare output dataframe"
   ]
  },
  {
   "cell_type": "code",
   "execution_count": 17,
   "id": "c6302967",
   "metadata": {},
   "outputs": [],
   "source": [
    "col_names = [\"patch_size\",\n",
    "             \"col_raw\", \"col_abs\",\"col_rel\",\n",
    "             \"dif_raw\", \"dif_abs\",\"dif_rel\"]\n",
    "\n",
    "for th in theta_deg:\n",
    "    col_names.append(\"var_raw_\"+f'{th}')\n",
    "    col_names.append(\"var_abs_\"+f'{th}')\n",
    "    col_names.append(\"var_rel_\"+f'{th}')\n",
    "    col_names.append(\"var_abs_\"+f'{th}')\n",
    "\n",
    "df = pd.DataFrame(columns=col_names)\n",
    "df[\"patch_size\"]=patch_sizes"
   ]
  },
  {
   "cell_type": "markdown",
   "id": "f51f3b68",
   "metadata": {},
   "source": [
    "### Special case (a): colocated source and receiver"
   ]
  },
  {
   "cell_type": "code",
   "execution_count": 18,
   "id": "a52f3127",
   "metadata": {},
   "outputs": [],
   "source": [
    "ratio_a=[]\n",
    "\n",
    "# define source and receiver locations\n",
    "source = pf.Coordinates(0, 0, 2, weights=1)\n",
    "receiver = pf.Coordinates(0, 0, 2, weights=1)\n",
    "\n",
    "# run simulation and store result for all patch sizes l\n",
    "for patch_size in patch_sizes:\n",
    "    r = run_energy_diff_specular_ratio(\n",
    "        width, depth, patch_size, source, receiver)\n",
    "    ratio_a.append(r)\n",
    "\n",
    "# store ratio, absolute error and relative error (in %)\n",
    "df[\"col_raw\"] = ratio_a\n",
    "df[\"col_abs\"] = 2-np.array(ratio_a)\n",
    "df[\"col_rel\"] = 100*(2-np.array(ratio_a))/2"
   ]
  },
  {
   "cell_type": "markdown",
   "id": "dd661ee6",
   "metadata": {},
   "source": [
    "### Special case (b): source and receiver aligned with plane normal"
   ]
  },
  {
   "cell_type": "code",
   "execution_count": 19,
   "id": "246e083a",
   "metadata": {},
   "outputs": [],
   "source": [
    "err_b = []\n",
    "ratio_b=[]\n",
    "\n",
    "# source and receiver at different heights\n",
    "source = pf.Coordinates(0, 0, 3, weights=1)\n",
    "receiver = pf.Coordinates(0, 0, 2, weights=1)\n",
    "\n",
    "# run simulation and store result for all patch sizes l\n",
    "for patch_size in patch_sizes:\n",
    "    r = run_energy_diff_specular_ratio(\n",
    "        width, depth, patch_size, source, receiver)\n",
    "    ratio_b.append(r)\n",
    "\n",
    "# store ratio, absolute error and relative error (in %)\n",
    "df[\"dif_raw\"] = ratio_b\n",
    "df[\"dif_abs\"] = 2-np.array(ratio_b)\n",
    "df[\"dif_rel\"] = 100*(2-np.array(ratio_b))/2"
   ]
  },
  {
   "cell_type": "markdown",
   "id": "d8f75c97",
   "metadata": {},
   "source": [
    "### Special case (c): source and receiver at same height"
   ]
  },
  {
   "cell_type": "code",
   "execution_count": 20,
   "id": "9752757c",
   "metadata": {},
   "outputs": [],
   "source": [
    "# for each angle (determining horizontal distance)\n",
    "for i, th in enumerate(theta):\n",
    "    # set source and receiver position\n",
    "    source = pf.Coordinates.from_spherical_colatitude(\n",
    "        0, th, 2/np.cos(th), weights=1)\n",
    "    receiver = pf.Coordinates.from_spherical_colatitude(\n",
    "        np.pi, th, 2/np.cos(th), weights=1)\n",
    "\n",
    "    ratio3 = []\n",
    "    w = source.cartesian[0][0]\n",
    "\n",
    "    # for each patch size l\n",
    "    for patch_size in patch_sizes:\n",
    "        # make plane larger in width\n",
    "        # ensures source and receiver's horizontal distance to edges\n",
    "        # is at least 15\n",
    "        ww = 2*patch_size*np.ceil(w/patch_size)\n",
    "\n",
    "        # run simulation\n",
    "        r = run_energy_diff_specular_ratio(\n",
    "            width+ww, depth, patch_size, source, receiver)\n",
    "        ratio3.append(r)\n",
    "\n",
    "\n",
    "    # store ratio, absolute error and relative error (in %)\n",
    "    df[\"var_raw_\"+f\"{theta_deg[i]}\"] = ratio3\n",
    "    df[\"var_abs_\"+f\"{theta_deg[i]}\"] = 2*np.cos(th)-np.array(ratio3)\n",
    "    df[\"var_rel_\"+f\"{theta_deg[i]}\"] = 100*(2*np.cos(th) -\n",
    "                                            np.array(ratio3))/(2*np.cos(th))\n"
   ]
  },
  {
   "cell_type": "markdown",
   "id": "bfe45827",
   "metadata": {},
   "source": [
    "### Write results to file"
   ]
  },
  {
   "cell_type": "code",
   "execution_count": 21,
   "id": "a253c331",
   "metadata": {},
   "outputs": [],
   "source": [
    "df.to_csv(os.path.join(writepath,\"inf_plane_data.csv\"))"
   ]
  },
  {
   "cell_type": "markdown",
   "id": "9e935991",
   "metadata": {},
   "source": [
    "watermark"
   ]
  },
  {
   "cell_type": "code",
   "execution_count": 22,
   "id": "8eaf6314",
   "metadata": {},
   "outputs": [
    {
     "name": "stdout",
     "output_type": "stream",
     "text": [
      "Python implementation: CPython\n",
      "Python version       : 3.11.9\n",
      "IPython version      : 9.1.0\n",
      "\n",
      "Compiler    : MSC v.1938 64 bit (AMD64)\n",
      "OS          : Windows\n",
      "Release     : 10\n",
      "Machine     : AMD64\n",
      "Processor   : AMD64 Family 25 Model 68 Stepping 1, AuthenticAMD\n",
      "CPU cores   : 16\n",
      "Architecture: 64bit\n",
      "\n",
      "matplotlib: 3.10.1\n",
      "pandas    : 2.3.0\n",
      "pyfar     : 0.7.3\n",
      "sparrowpy : 0.1.0\n",
      "ipykernel : 6.29.5\n",
      "debugpy   : 1.8.14\n",
      "numpy     : 1.26.4\n",
      "\n"
     ]
    }
   ],
   "source": [
    "%load_ext watermark\n",
    "%watermark -v -m -iv"
   ]
  },
  {
   "cell_type": "markdown",
   "id": "89d0d23d",
   "metadata": {},
   "source": [
    "## Plot"
   ]
  },
  {
   "cell_type": "markdown",
   "id": "d9557f0e",
   "metadata": {},
   "source": [
    "Select source and load data"
   ]
  },
  {
   "cell_type": "code",
   "execution_count": null,
   "id": "1690ff65",
   "metadata": {},
   "outputs": [],
   "source": [
    "###################################################\n",
    "#### SET \"True\" TO LOAD YOUR OWN GENERATED DATA\n",
    "#### \"False\" TO LOAD THE DATA FROM THE PAPER\n",
    "self_data=False\n",
    "###################################################\n",
    "\n",
    "if self_data:\n",
    "    sub_dir=\"user\"\n",
    "else:\n",
    "    sub_dir=\"paper\"\n",
    "\n",
    "basepath = os.path.join(os.getcwd(),\"resources\",sub_dir)\n",
    "dat = pd.read_csv(os.path.join(basepath,\"inf_plane_data.csv\"))"
   ]
  },
  {
   "cell_type": "markdown",
   "id": "b24e252e",
   "metadata": {},
   "source": [
    "Plot different special cases as a function of *l/h*"
   ]
  },
  {
   "cell_type": "code",
   "execution_count": 28,
   "id": "b162a4bf",
   "metadata": {},
   "outputs": [
    {
     "data": {
      "image/png": "[encoded data removed]",
      "text/plain": [
       "<Figure size 300x200 with 1 Axes>"
      ]
     },
     "metadata": {},
     "output_type": "display_data"
    }
   ],
   "source": [
    "num_patches = (50/dat[\"patch_size\"][:]**2)\n",
    "patch_ratio = dat[\"patch_size\"][:]/2\n",
    "psize = np.array(dat[\"patch_size\"][:])\n",
    "\n",
    "\n",
    "# relative error as a function of patch size\n",
    "f,a = create_fig(figtype=\"stubby\")\n",
    "plt.semilogx(patch_ratio[:],dat[\"col_rel\"][:],'-')\n",
    "plt.semilogx(patch_ratio[:],dat[\"dif_rel\"][:],'--')\n",
    "plt.semilogx(patch_ratio[:],dat[\"var_rel_15\"][:],'-.')\n",
    "plt.semilogx(patch_ratio[:],dat[\"var_rel_45\"][:],'-.')\n",
    "plt.semilogx(patch_ratio[:],dat[\"var_rel_75\"][:],'-.')\n",
    "\n",
    "plt.ylabel('$\\epsilon [\\%]$')\n",
    "plt.xlabel(\"$ l/h $\")\n",
    "a.xaxis.set_minor_locator(mticker.LogLocator())\n",
    "a.xaxis.set_major_formatter(mticker.ScalarFormatter())\n",
    "a.set_xticks([.25,.5,1,2])\n",
    "plt.legend([\"case 1. \",\"case 2.\",\n",
    "            \"case 3. ($\\\\theta=15^{\\circ}$)\",\n",
    "            \"case 3. ($\\\\theta=45^{\\circ}$)\",\n",
    "            \"case 3. ($\\\\theta=75^{\\circ}$)\"],fontsize=8, shadow=True)\n",
    "plt.show()\n",
    "export_fig(f,\"Figure6\")"
   ]
  }
 ],
 "metadata": {
  "kernelspec": {
   "display_name": ".venv",
   "language": "python",
   "name": "python3"
  },
  "language_info": {
   "codemirror_mode": {
    "name": "ipython",
    "version": 3
   },
   "file_extension": ".py",
   "mimetype": "text/x-python",
   "name": "python",
   "nbconvert_exporter": "python",
   "pygments_lexer": "ipython3",
   "version": "3.11.9"
  }
 },
 "nbformat": 4,
 "nbformat_minor": 5
}
