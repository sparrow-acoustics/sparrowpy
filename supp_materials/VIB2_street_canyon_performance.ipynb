{
 "cells": [
  {
   "cell_type": "markdown",
   "metadata": {},
   "source": [
    "# Simulation performance assessment\n",
    "\n",
    "This example runs several simulations at with different parameters, in order to measure computational performace measures of sparrowpy.\n",
    "The performance metrics are written in local files and can be visualized in [``VIB_street_canyon_plots.ipynb``](VIB_street_canyon_plots.ipynb).\n",
    "\n",
    "**NOTE:** These simulations are extremely time consuming and require a large amount of computational resources.\n",
    "\n",
    "![alt text](figures/urban_canyon.svg \"Illustration of the street canyon\")"
   ]
  },
  {
   "cell_type": "code",
   "execution_count": null,
   "metadata": {},
   "outputs": [
    {
     "name": "stdout",
     "output_type": "stream",
     "text": [
      "The memory_profiler extension is already loaded. To reload it, use:\n",
      "  %reload_ext memory_profiler\n"
     ]
    }
   ],
   "source": [
    "\"\"\"Test the radiosity.Radiosity module.\"\"\"\n",
    "import pyfar as pf\n",
    "import sparrowpy as sp\n",
    "from utils.run_simu import run_simu, run_simu_mem\n",
    "import json\n",
    "import os\n",
    "\n",
    "outpath = os.path.join(os.getcwd(),\"resources\",\"user\")"
   ]
  },
  {
   "cell_type": "code",
   "execution_count": 33,
   "metadata": {},
   "outputs": [],
   "source": [
    "def urban_canyon_stub(length_x, length_y, length_z):\n",
    "    \"\"\"Create a shoebox room with the given dimensions.\n",
    "\n",
    "    Parameters\n",
    "    ----------\n",
    "    length_x : float\n",
    "        Length of the urban canyon in meters.\n",
    "    length_y : float\n",
    "        width of the urban canyon in meters.\n",
    "    length_z : float\n",
    "        height of the urban canyon in meters.\n",
    "\n",
    "    Returns\n",
    "    -------\n",
    "    room : list[geo.Polygon]\n",
    "        List of the walls of the room.\n",
    "\n",
    "    \"\"\"\n",
    "    return [\n",
    "        sp.geometry.Polygon(\n",
    "            [[0, 0, 0], [length_x, 0, 0],\n",
    "            [length_x, 0, length_z], [0, 0, length_z]],\n",
    "            [0, 0, 1], [0, 1, 0]),\n",
    "        sp.geometry.Polygon(\n",
    "            [[0, 0, 0],[0, length_y, 0],\n",
    "            [length_x, length_y, 0], [length_x, 0, 0 ]],\n",
    "            [1, 0, 0], [0, 0, 1]),\n",
    "        sp.geometry.Polygon(\n",
    "            [[0, length_y, 0], [length_x, length_y, 0],\n",
    "            [length_x, length_y, length_z], [0, length_y, length_z]],\n",
    "            [0, 0, -1], [0, -1, 0]),\n",
    "        ]"
   ]
  },
  {
   "cell_type": "markdown",
   "metadata": {},
   "source": [
    "Define basic scene properties"
   ]
  },
  {
   "cell_type": "code",
   "execution_count": 34,
   "metadata": {},
   "outputs": [],
   "source": [
    "# Define parameters\n",
    "X = 90\n",
    "Y = 12\n",
    "Z = 6\n",
    "\n",
    "# create geometry\n",
    "canyon = urban_canyon_stub(X, Y, Z)\n",
    "source = pf.Coordinates(20, 6, 1)\n",
    "receiver = pf.Coordinates(21, 6, 2)"
   ]
  },
  {
   "cell_type": "markdown",
   "metadata": {},
   "source": [
    "Run a very basic scene: this caches optimized functions, ensuring best efficiency for the actual simulations."
   ]
  },
  {
   "cell_type": "code",
   "execution_count": null,
   "metadata": {},
   "outputs": [
    {
     "name": "stderr",
     "output_type": "stream",
     "text": [
      "c:\\Users\\jotag\\Documents\\dev\\sparapy\\supp_materials\\utils\\run_simu.py:84: PyfarDeprecationWarning: 'This function will be deprecated in pyfar 0.8.0 in favor of spharpy.samplings.gaussian.'\n",
      "  samples = pf.samplings.sph_gaussian(res)\n",
      "c:\\Users\\jotag\\Documents\\dev\\sparapy\\.venv\\Lib\\site-packages\\pyfar\\samplings\\samplings.py:344: PyfarDeprecationWarning: 'This function will be changed in pyfar 0.8.0 to init(x, y, z).'\n",
      "  sampling = pyfar.Coordinates(\n",
      "c:\\Users\\jotag\\Documents\\dev\\sparapy\\.venv\\Lib\\site-packages\\pyfar\\classes\\coordinates.py:276: PyfarDeprecationWarning: 'This function will be deprecated in pyfar 0.8.0 in favor of spharpy.samplings.SamplingSphere.'\n",
      "  self.sh_order = sh_order\n",
      "c:\\Users\\jotag\\Documents\\dev\\sparapy\\supp_materials\\utils\\run_simu.py:101: UserWarning: Gimbal lock detected. Setting third angle to zero since it is not possible to uniquely determine all angles.\n",
      "  radi.set_wall_brdf(\n"
     ]
    },
    {
     "data": {
      "text/plain": [
       "(TimeData:\n",
       " (1, 1) channels with 5 samples,\n",
       " [0.004546403884887695, 0.0024492740631103516, 0.0009505748748779297, 0.0])"
      ]
     },
     "execution_count": 35,
     "metadata": {},
     "output_type": "execute_result"
    }
   ],
   "source": [
    "_=run_simu(walls=urban_canyon_stub(1,1,1),\n",
    "        source=pf.Coordinates(.5,.5,.5),\n",
    "        receiver=pf.Coordinates(.5,.5,.5),\n",
    "        patch_size=1)"
   ]
  },
  {
   "cell_type": "markdown",
   "metadata": {},
   "source": [
    "Range of testing for different simulation parameters"
   ]
  },
  {
   "cell_type": "code",
   "execution_count": null,
   "metadata": {},
   "outputs": [],
   "source": [
    "time_resolutions = [1/50,1/100,1/250,1/500,1/1000]\n",
    "patch_sizes = [6,3,2,1.5]\n",
    "refl_orders = [1,10,20,40,60,80,100]\n",
    "BRDF_samples = [2,4,6,8,10]"
   ]
  },
  {
   "cell_type": "markdown",
   "metadata": {},
   "source": [
    "Set baseline conditions and initialize output dataframe"
   ]
  },
  {
   "cell_type": "code",
   "execution_count": null,
   "metadata": {},
   "outputs": [],
   "source": [
    "# baseline simulation parameters\n",
    "patch_size_baseline = 3\n",
    "max_order_baseline = 10\n",
    "time_resolution_baseline = 1/100\n",
    "BRDF_samples_baseline = 4\n",
    "\n",
    "out={\"baseline\":{\"patch_size\":[],\n",
    "                 \"reflection_order\":[],\n",
    "                 \"time_step\":[],\n",
    "                 \"brdf_resolution\":[]},\n",
    "     \"reflection_order\":{\"mem\":[],\n",
    "                  \"t\":[],\n",
    "                  \"edc\":[],\n",
    "                  \"data\":[]},\n",
    "     \"brdf_resolution\":{\"mem\":[],\n",
    "                  \"t\":[],\n",
    "                  \"edc\":[],\n",
    "                  \"data\":[]},\n",
    "     \"patch_size\":{\"mem\":[],\n",
    "                  \"t\":[],\n",
    "                  \"edc\":[],\n",
    "                  \"data\":[]},\n",
    "     \"time_step\":{\"mem\":[],\n",
    "                  \"t\":[],\n",
    "                  \"edc\":[],\n",
    "                  \"data\":[]},\n",
    "                  }\n",
    "\n",
    "out[\"baseline\"][\"patch_size\"]=patch_size_baseline\n",
    "\n",
    "out[\"baseline\"][\"reflection_order\"]=max_order_baseline\n",
    "\n",
    "out[\"baseline\"][\"time_step\"]=time_resolution_baseline\n",
    "\n",
    "out[\"baseline\"][\"brdf_resolution\"]=BRDF_samples_baseline"
   ]
  },
  {
   "cell_type": "markdown",
   "metadata": {},
   "source": [
    "Measure runtime effects"
   ]
  },
  {
   "cell_type": "code",
   "execution_count": null,
   "metadata": {},
   "outputs": [],
   "source": [
    "# ETC time resolution\n",
    "\n",
    "for ts in time_resolutions:\n",
    "    edc,t = run_simu( walls=canyon, source=source,\n",
    "                    receiver=receiver, patch_size=patch_size_baseline,\n",
    "                    time_step=ts, duration=1.2,\n",
    "                    refl_order=max_order_baseline, res=BRDF_samples_baseline)\n",
    "    out[\"time_step\"][\"edc\"]=edc.time.tolist()\n",
    "    out[\"time_step\"][\"t\"].append(t)\n",
    "out[\"time_step\"][\"data\"]=time_resolutions\n",
    "\n",
    "# write to file\n",
    "with open(os.path.join(outpath,'street_canyon_perf_no_mem.json'), 'w') as fp:\n",
    "    json.dump(out, fp,indent=2)\n"
   ]
  },
  {
   "cell_type": "code",
   "execution_count": null,
   "metadata": {},
   "outputs": [],
   "source": [
    "# max reflection order\n",
    "\n",
    "for refl in refl_orders:\n",
    "    edc,t = run_simu( walls=canyon, source=source,\n",
    "                    receiver=receiver, patch_size=patch_size_baseline,\n",
    "                    time_step=time_resolution_baseline, duration=1.2,\n",
    "                    refl_order=refl, res=BRDF_samples_baseline)\n",
    "    out[\"reflection_order\"][\"edc\"]=edc.time.tolist()\n",
    "    out[\"reflection_order\"][\"t\"].append(t)\n",
    "out[\"reflection_order\"][\"data\"]=refl_orders\n",
    "\n",
    "# write to file\n",
    "with open(os.path.join(outpath,'street_canyon_perf_no_mem.json'), 'w') as fp:\n",
    "    json.dump(out, fp,indent=2)\n",
    "\n"
   ]
  },
  {
   "cell_type": "code",
   "execution_count": null,
   "metadata": {},
   "outputs": [],
   "source": [
    "# BRDF resolution\n",
    "for ang in BRDF_samples:\n",
    "    edc,t = run_simu( walls=canyon, source=source,\n",
    "                    receiver=receiver, patch_size=patch_size_baseline,\n",
    "                    time_step=time_resolution_baseline, duration=1.2,\n",
    "                    refl_order=max_order_baseline, res=ang)\n",
    "    out[\"brdf_resolution\"][\"edc\"]=edc.time.tolist()\n",
    "    out[\"brdf_resolution\"][\"t\"].append(t)\n",
    "out[\"brdf_resolution\"][\"data\"]=BRDF_samples\n",
    "\n",
    "# write to file\n",
    "with open(os.path.join(outpath,'street_canyon_perf_no_mem.json'), 'w') as fp:\n",
    "    json.dump(out, fp,indent=2)"
   ]
  },
  {
   "cell_type": "code",
   "execution_count": null,
   "metadata": {},
   "outputs": [],
   "source": [
    "# patch sizes\n",
    "\n",
    "for pat in patch_sizes:\n",
    "    edc,t = run_simu( walls=canyon, source=source,\n",
    "                    receiver=receiver, patch_size=pat,\n",
    "                    time_step=time_resolution_baseline, duration=1.2,\n",
    "                    refl_order=max_order_baseline, res=BRDF_samples_baseline )\n",
    "    out[\"patch_size\"][\"edc\"] = edc.time.tolist()\n",
    "    out[\"patch_size\"][\"t\"].append(t)\n",
    "out[\"patch_size\"][\"data\"]=patch_sizes\n",
    "\n",
    "# write to file\n",
    "with open(os.path.join(outpath,'street_canyon_perf_no_mem.json'), 'w') as fp:\n",
    "    json.dump(out, fp,indent=2)"
   ]
  },
  {
   "cell_type": "markdown",
   "metadata": {},
   "source": [
    "Measure memory consumption \n",
    "\n",
    "**EXTREMELY TIME CONSUMING**"
   ]
  },
  {
   "cell_type": "code",
   "execution_count": null,
   "metadata": {},
   "outputs": [],
   "source": [
    "# memory\n",
    "for ts in time_resolutions:\n",
    "    out[\"time_step\"][\"mem\"].append(run_simu_mem( walls=canyon,\n",
    "                                                source=source,\n",
    "                    receiver=receiver, patch_size=patch_size_baseline,\n",
    "                    time_step=ts, duration=1.2,\n",
    "                    refl_order=max_order_baseline, res=BRDF_samples_baseline))\n",
    "print(\"time resolution done\")\n",
    "\n",
    "# write to file\n",
    "with open(os.path.join(outpath,'street_canyon_perf.json'), 'w') as fp:\n",
    "    json.dump(out, fp,indent=2)\n",
    "\n",
    "for refl in refl_orders:\n",
    "    out[\"reflection_order\"][\"mem\"].append(run_simu_mem( walls=canyon,\n",
    "                                                       source=source,\n",
    "                    receiver=receiver, patch_size=patch_size_baseline,\n",
    "                    time_step=time_resolution_baseline, duration=1.2,\n",
    "                    refl_order=refl, res=BRDF_samples_baseline))\n",
    "print(\"refl. order done\")\n",
    "\n",
    "# write to file\n",
    "with open(os.path.join(outpath,'street_canyon_perf.json'), 'w') as fp:\n",
    "    json.dump(out, fp,indent=2)\n",
    "\n",
    "for ang in BRDF_samples:\n",
    "    out[\"brdf_resolution\"][\"mem\"].append(run_simu_mem( walls=canyon,\n",
    "                                                      source=source,\n",
    "                    receiver=receiver, patch_size=patch_size_baseline,\n",
    "                    time_step=time_resolution_baseline, duration=1.2,\n",
    "                    refl_order=max_order_baseline, res=ang))\n",
    "print(\"BRDF samples done\")\n",
    "\n",
    "# write to file\n",
    "with open(os.path.join(outpath,'street_canyon_perf.json'), 'w') as fp:\n",
    "    json.dump(out, fp,indent=2)\n"
   ]
  },
  {
   "cell_type": "code",
   "execution_count": null,
   "metadata": {},
   "outputs": [],
   "source": [
    "for pat in patch_sizes:\n",
    "    out[\"patch_size\"][\"mem\"].append(run_simu_mem( walls=canyon, source=source,\n",
    "                    receiver=receiver, patch_size=pat,\n",
    "                    time_step=time_resolution_baseline, duration=1.2,\n",
    "                    refl_order=max_order_baseline, res=BRDF_samples_baseline))\n",
    "\n",
    "# write to file\n",
    "with open(os.path.join(outpath,'street_canyon_perf.json'), 'w') as fp:\n",
    "    json.dump(out, fp,indent=2)"
   ]
  },
  {
   "cell_type": "code",
   "execution_count": null,
   "metadata": {},
   "outputs": [],
   "source": [
    "%load_ext watermark\n",
    "%watermark -v -m -iv"
   ]
  }
 ],
 "metadata": {
  "kernelspec": {
   "display_name": ".venv",
   "language": "python",
   "name": "python3"
  },
  "language_info": {
   "codemirror_mode": {
    "name": "ipython",
    "version": 3
   },
   "file_extension": ".py",
   "mimetype": "text/x-python",
   "name": "python",
   "nbconvert_exporter": "python",
   "pygments_lexer": "ipython3",
   "version": "3.11.9"
  }
 },
 "nbformat": 4,
 "nbformat_minor": 2
}
