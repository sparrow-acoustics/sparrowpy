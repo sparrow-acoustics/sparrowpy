{
 "cells": [
  {
   "cell_type": "markdown",
   "id": "6dad7173",
   "metadata": {},
   "source": [
    "# BRDF generation\n",
    "This notebook generates the Bidirectional Reflectance Distribution Functions (BRDF) used in the simulation of the single façade and the street canyon example. \n"
   ]
  },
  {
   "cell_type": "code",
   "execution_count": 47,
   "id": "5ead0d57",
   "metadata": {},
   "outputs": [],
   "source": [
    "\"\"\"Useful functions to generate example BRDF.\"\"\"\n",
    "import sparrowpy as sp\n",
    "import numpy as np\n",
    "import os\n",
    "import pyfar as pf\n",
    "import sofar as sf\n",
    "import matplotlib.pyplot as plt\n",
    "from tqdm import tqdm\n",
    "from utils.fig_formatting import create_fig,export_fig\n",
    "from utils.brdf_handling import (random,\n",
    "                                 add_source_receiver_data,\n",
    "                                 _average_frequencies)\n",
    "%matplotlib inline\n",
    "basepath=os.path.join(os.getcwd(),'resources')"
   ]
  },
  {
   "cell_type": "markdown",
   "id": "e58cd59a",
   "metadata": {},
   "source": [
    "Define function for calculation of the equivalent RISC of a given BSC distribution"
   ]
  },
  {
   "cell_type": "code",
   "execution_count": 48,
   "id": "5bcc9473",
   "metadata": {},
   "outputs": [],
   "source": [
    "def calculate_srand(bsc_sources, bsc_receivers, bsc):\n",
    "    r\"\"\"Calculate random-incidence scattering coefficient (RISC).\n",
    "\n",
    "    This function calculates the RISC, or $s_\\mathrm{rand}$,\n",
    "    given an input bidirectional scattering coefficient (BSC) distribution.\n",
    "    \"\"\"\n",
    "    bsc_spec = bsc_sources.copy()\n",
    "    bsc_spec.azimuth += np.pi\n",
    "    idx_spec = bsc_receivers.find_nearest(bsc_spec)[0][0]\n",
    "    s_rand = random(\n",
    "        1-bsc[np.arange(bsc_sources.csize), idx_spec],\n",
    "        bsc_sources)\n",
    "\n",
    "    return s_rand"
   ]
  },
  {
   "cell_type": "markdown",
   "id": "7bce2ce5",
   "metadata": {},
   "source": [
    "Load simulated BSC of triangular profile surface"
   ]
  },
  {
   "cell_type": "code",
   "execution_count": 49,
   "id": "1309b692",
   "metadata": {},
   "outputs": [
    {
     "name": "stdout",
     "output_type": "stream",
     "text": [
      "SOFA file contained custom entries\n",
      "----------------------------------\n",
      "SourceWeights, ReceiverWeights, SampleStructuralWavelength, SampleStructuralWavelengthX, SampleStructuralWavelengthY, SampleModelScale, SampleDiameter, SampleSymmetryAzimuth, SampleSymmetryRotational, SampleStructuralDepth, SampleBaseplateHeight, SpeedOfSound\n"
     ]
    }
   ],
   "source": [
    "sofa_brdf = sf.read_sofa(\n",
    "    os.path.join(basepath,'paper','triangle_sim_optimal.s_d.sofa'))\n",
    "bsc_tri_orig, bsc_sources, bsc_receivers = pf.io.convert_sofa(sofa_brdf)\n",
    "bsc_sources.weights = sofa_brdf.SourceWeights\n",
    "bsc_receivers.weights = sofa_brdf.ReceiverWeights"
   ]
  },
  {
   "cell_type": "markdown",
   "id": "75639bc6",
   "metadata": {},
   "source": [
    "Determine random-incidence scattering coefficient of triangular profile surface"
   ]
  },
  {
   "cell_type": "code",
   "execution_count": 50,
   "id": "e2ac97e6",
   "metadata": {},
   "outputs": [],
   "source": [
    "s_rand_orig = calculate_srand(bsc_sources, bsc_receivers, bsc_tri_orig)\n",
    "\n",
    "# rescale to dimensions described in paper\n",
    "s_rand_orig._frequencies /= 8"
   ]
  },
  {
   "cell_type": "markdown",
   "id": "5676843d",
   "metadata": {},
   "source": [
    "mirror BSC distribution over all quadrants"
   ]
  },
  {
   "cell_type": "code",
   "execution_count": 51,
   "id": "6756459d",
   "metadata": {},
   "outputs": [
    {
     "name": "stderr",
     "output_type": "stream",
     "text": [
      "  0%|          | 0/484 [00:00<?, ?it/s]C:\\Users\\jotag\\AppData\\Local\\Temp\\ipykernel_9184\\1034019500.py:37: ComplexWarning: Casting complex values to real discards the imaginary part\n",
      "  bsc_mirrored.freq[i_source, :, :] = bsc_tri_orig.freq[i_source, :, :]\n",
      "C:\\Users\\jotag\\AppData\\Local\\Temp\\ipykernel_9184\\1034019500.py:34: ComplexWarning: Casting complex values to real discards the imaginary part\n",
      "  bsc_mirrored.freq[i_source, :, :] = bsc_tri_orig.freq[i_source_mirror,\n",
      "100%|██████████| 484/484 [00:00<00:00, 769.12it/s] \n"
     ]
    }
   ],
   "source": [
    "bsc_incident_directions = bsc_receivers.copy()\n",
    "bsc_scattering_directions = bsc_receivers.copy()\n",
    "bsc_mirrored = pf.FrequencyData(\n",
    "    np.zeros((bsc_incident_directions.csize, bsc_scattering_directions.csize,\n",
    "              bsc_tri_orig.n_bins)),\n",
    "    bsc_tri_orig.frequencies)\n",
    "for i_source in tqdm(range(bsc_receivers.csize)):\n",
    "    # mirror results from previous directions for Azimuth > 90°\n",
    "    if bsc_incident_directions[i_source].azimuth > np.pi/2:\n",
    "        az_is = bsc_incident_directions[i_source].azimuth[0]\n",
    "        if az_is < np.pi:  # 180:\n",
    "            az_mirror = np.pi - az_is\n",
    "        elif az_is < 3/2*np.pi:  # 270°\n",
    "            az_mirror = np.abs(np.pi - az_is)\n",
    "        else:\n",
    "            az_mirror = 2*np.pi - az_is\n",
    "        delta_azimuth = az_is - az_mirror\n",
    "\n",
    "        # find the correct incident direction due to symmetry\n",
    "        find_incident = pf.Coordinates.from_spherical_elevation(\n",
    "            az_mirror,\n",
    "            bsc_incident_directions.elevation[i_source],\n",
    "            bsc_incident_directions.radius[i_source])\n",
    "        i_source_mirror = bsc_incident_directions.find_nearest(\n",
    "            find_incident, distance_measure='spherical_radians',\n",
    "            radius_tol=1e-13)[0][0]\n",
    "\n",
    "        # rotate the scattering data to the correct azimuth\n",
    "        shifted_coords = bsc_scattering_directions.copy()\n",
    "        shifted_coords.azimuth -= delta_azimuth\n",
    "        idx_scattering = bsc_incident_directions.find_nearest(\n",
    "            shifted_coords, distance_measure='spherical_radians',\n",
    "            radius_tol=1e-13)[0]\n",
    "        bsc_mirrored.freq[i_source, :, :] = bsc_tri_orig.freq[i_source_mirror,\n",
    "                                                     idx_scattering, :]\n",
    "    else:\n",
    "        bsc_mirrored.freq[i_source, :, :] = bsc_tri_orig.freq[i_source, :, :]\n",
    "\n",
    "bsc_sources = bsc_receivers.copy()\n",
    "\n",
    "# rescale to dimensions described in paper\n",
    "bsc_mirrored._frequencies /= 8"
   ]
  },
  {
   "cell_type": "markdown",
   "id": "2b7e7814",
   "metadata": {},
   "source": [
    "Reduce number of BSC incident and outgoing direction samples from 484 to 144"
   ]
  },
  {
   "cell_type": "code",
   "execution_count": 52,
   "id": "c09f5688",
   "metadata": {},
   "outputs": [
    {
     "name": "stderr",
     "output_type": "stream",
     "text": [
      "C:\\Users\\jotag\\AppData\\Local\\Temp\\ipykernel_9184\\115968057.py:1: PyfarDeprecationWarning: 'This function will be deprecated in pyfar 0.8.0 in favor of spharpy.samplings.gaussian.'\n",
      "  directions_bsc = pf.samplings.sph_gaussian(sh_order=11)\n",
      "c:\\Users\\jotag\\Documents\\dev\\sparapy\\.venv\\Lib\\site-packages\\pyfar\\samplings\\samplings.py:344: PyfarDeprecationWarning: 'This function will be changed in pyfar 0.8.0 to init(x, y, z).'\n",
      "  sampling = pyfar.Coordinates(\n",
      "c:\\Users\\jotag\\Documents\\dev\\sparapy\\.venv\\Lib\\site-packages\\pyfar\\classes\\coordinates.py:276: PyfarDeprecationWarning: 'This function will be deprecated in pyfar 0.8.0 in favor of spharpy.samplings.SamplingSphere.'\n",
      "  self.sh_order = sh_order\n",
      "100%|██████████| 484/484 [01:09<00:00,  6.92it/s]\n"
     ]
    }
   ],
   "source": [
    "directions_bsc = pf.samplings.sph_gaussian(sh_order=11)\n",
    "directions_bsc = directions_bsc[directions_bsc.z>0]\n",
    "\n",
    "bsc_mirrored_reduced = pf.FrequencyData(\n",
    "    np.zeros((directions_bsc.csize, directions_bsc.csize, bsc_mirrored.n_bins)),\n",
    "    bsc_mirrored.frequencies)\n",
    "n_directions = np.zeros((directions_bsc.csize, directions_bsc.csize, 1))\n",
    "\n",
    "for i_source in tqdm(range(bsc_incident_directions.csize)):\n",
    "    i_source_nearest = directions_bsc.find_nearest(\n",
    "        bsc_incident_directions[i_source], radius_tol=1e-13)[0][0]\n",
    "    for i_receiver in range(bsc_incident_directions.csize):\n",
    "        i_receiver_nearest = directions_bsc.find_nearest(\n",
    "            bsc_incident_directions[i_receiver], radius_tol=1e-13)[0][0]\n",
    "\n",
    "        bsc_mirrored_reduced.freq[\n",
    "            i_source_nearest, i_receiver_nearest, :] += bsc_mirrored.freq[\n",
    "                i_source, i_receiver, :]\n",
    "        n_directions[i_source_nearest, i_receiver_nearest] += 1\n",
    "\n",
    "bsc_mirrored_reduced.freq /= n_directions\n",
    "assert not np.any(n_directions==0)"
   ]
  },
  {
   "cell_type": "markdown",
   "id": "0fb41c12",
   "metadata": {},
   "source": [
    "Reduce BSC data to 125Hz-4kHz octave bands"
   ]
  },
  {
   "cell_type": "code",
   "execution_count": 53,
   "id": "1d9e98dc",
   "metadata": {},
   "outputs": [],
   "source": [
    "frequencies_nom, frequencies_out = pf.dsp.filter.fractional_octave_frequencies(\n",
    "    1, (np.min(bsc_mirrored.frequencies), np.max(bsc_mirrored.frequencies)),\n",
    ")\n",
    "\n",
    "bsc_octave = _average_frequencies(\n",
    "    bsc_mirrored_reduced, frequencies_out, domain='energy')\n",
    "\n",
    "s_rand_orig_oct = _average_frequencies(\n",
    "    s_rand_orig, frequencies_out, domain='energy')\n",
    "\n",
    "s_rand_oct = calculate_srand(directions_bsc, directions_bsc, bsc_octave)\n",
    "\n",
    "\n",
    "bsc_spec = directions_bsc.copy()\n",
    "idx_retro = directions_bsc.find_nearest(bsc_spec)[0]\n",
    "bsc_spec.azimuth += np.pi\n",
    "idx_spec = directions_bsc.find_nearest(bsc_spec)[0]\n",
    "\n",
    "bsc_octave.freq /= np.sum(bsc_octave.freq, axis=1, keepdims=True)"
   ]
  },
  {
   "cell_type": "markdown",
   "id": "21b5a997",
   "metadata": {},
   "source": [
    "Generate BRDF"
   ]
  },
  {
   "cell_type": "code",
   "execution_count": 54,
   "id": "cdce1519",
   "metadata": {},
   "outputs": [],
   "source": [
    "# set absorption of wall\n",
    "abs_wall = pf.FrequencyData(\n",
    "    .07*np.ones_like(bsc_octave.frequencies), bsc_octave.frequencies)\n",
    "\n",
    "# RISC-based wall BRDF\n",
    "brdf_RISC = sp.brdf.create_from_scattering(\n",
    "    directions_bsc,\n",
    "    directions_bsc,\n",
    "    s_rand_orig_oct,\n",
    "    abs_wall,\n",
    ")\n",
    "\n",
    "# BSC-based wall BRDF\n",
    "brdf_BSC = sp.brdf.create_from_directional_scattering(\n",
    "    directions_bsc,\n",
    "    directions_bsc,\n",
    "    bsc_octave,\n",
    "    abs_wall,\n",
    ")\n",
    "\n",
    "# ground BRDF (RISC-based)\n",
    "brdf_ground = sp.brdf.create_from_scattering(\n",
    "    directions_bsc,\n",
    "    directions_bsc,\n",
    "    pf.FrequencyData(np.ones_like(bsc_octave.frequencies),\n",
    "                     bsc_octave.frequencies),\n",
    "    pf.FrequencyData(.01*np.ones_like(bsc_octave.frequencies),\n",
    "                     bsc_octave.frequencies))\n",
    "\n"
   ]
  },
  {
   "cell_type": "markdown",
   "id": "0228668d",
   "metadata": {},
   "source": [
    "Write to files"
   ]
  },
  {
   "cell_type": "code",
   "execution_count": 55,
   "id": "62b5ef95",
   "metadata": {},
   "outputs": [],
   "source": [
    "sofa_brdf_RISC = sf.Sofa('GeneralTF')\n",
    "sofa_brdf_RISC = add_source_receiver_data(\n",
    "    sofa_brdf_RISC, directions_bsc, directions_bsc, brdf_RISC)\n",
    "sf.write_sofa(os.path.join(basepath, 'user', 'brdf_walls_RISC.sofa'),\n",
    "              sofa_brdf_RISC)\n",
    "\n",
    "\n",
    "sofa_brdf_BSC = sf.Sofa('GeneralTF')\n",
    "sofa_brdf_BSC = add_source_receiver_data(\n",
    "    sofa_brdf_BSC, directions_bsc, directions_bsc, brdf_BSC)\n",
    "sf.write_sofa(os.path.join(basepath, 'user',  'brdf_walls_BSC.sofa'),\n",
    "              sofa_brdf_BSC)\n",
    "\n",
    "\n",
    "sofa_brdf_ground = sf.Sofa('GeneralTF')\n",
    "sofa_brdf_ground = add_source_receiver_data(\n",
    "    sofa_brdf_ground, directions_bsc, directions_bsc, brdf_ground)\n",
    "sf.write_sofa(os.path.join(basepath, 'user',  'brdf_ground.sofa'),\n",
    "              sofa_brdf_ground)"
   ]
  },
  {
   "cell_type": "markdown",
   "id": "53f02a92",
   "metadata": {},
   "source": [
    "### Plots\n",
    "random-incidence coefficient of the triangular profile wall  "
   ]
  },
  {
   "cell_type": "code",
   "execution_count": 56,
   "id": "57c6512a",
   "metadata": {},
   "outputs": [
    {
     "data": {
      "image/png": "[encoded data removed]",
      "text/plain": [
       "<Figure size 300x200 with 1 Axes>"
      ]
     },
     "metadata": {},
     "output_type": "display_data"
    }
   ],
   "source": [
    "fig, ax = create_fig(figtype=\"stubby\")\n",
    "ax = pf.plot.freq(\n",
    "    s_rand_orig_oct,\n",
    "    dB=False, color='C0', linestyle='-',\n",
    "    label='RISC')\n",
    "ax.legend(fontsize=8)\n",
    "ax.set_ylim((-0.05, 1))\n",
    "ax.set_ylabel('$s_\\mathrm{rand}$')\n",
    "export_fig(fig,'Figure8b')\n",
    "\n"
   ]
  },
  {
   "cell_type": "markdown",
   "id": "68b57106",
   "metadata": {},
   "source": [
    "Illustration of the BSC- and RISC-based BRDF (in blue and orange, respectively)\n",
    "\n",
    "**NOTE:** The RISC-based BRDF is scaled by a factor of 5 for visibility"
   ]
  },
  {
   "cell_type": "code",
   "execution_count": 57,
   "id": "07322ead",
   "metadata": {},
   "outputs": [
    {
     "data": {
      "image/png": "[encoded data removed]",
      "text/plain": [
       "<Figure size 640x480 with 1 Axes>"
      ]
     },
     "metadata": {},
     "output_type": "display_data"
    }
   ],
   "source": [
    "incident_direction = pf.Coordinates.from_spherical_colatitude(\n",
    "    0, np.pi/4, 1)\n",
    "\n",
    "i_in = directions_bsc.find_nearest(incident_direction)[0]\n",
    "\n",
    "i_out = np.where(directions_bsc.y==0)[0]\n",
    "i_out = i_out[np.argsort(directions_bsc[i_out].upper)]\n",
    "\n",
    "for iband in [-1]:\n",
    "    fig = plt.figure()\n",
    "    ax = fig.add_subplot(111, projection='polar')\n",
    "    delta_angle = 0.25094759\n",
    "    ax.plot(\n",
    "        [3*np.pi/4, 3*np.pi/4], [19, 16],\n",
    "        color='C3', alpha=1,\n",
    "        label='Incident direction',\n",
    "    )\n",
    "    for i_an in range(len(i_out)):\n",
    "        center = np.pi-directions_bsc[i_out[i_an]].upper[0]\n",
    "        lower = center - delta_angle/2\n",
    "        upper = center + delta_angle/2\n",
    "\n",
    "        brdf = brdf_RISC[i_in, i_out]\n",
    "        norm = np.max(brdf.freq[:, iband])\n",
    "        norm = .2\n",
    "        old = brdf.freq[i_an, iband] / norm\n",
    "        ax.plot(\n",
    "            [lower, upper], [old, old],\n",
    "            label=r'5$\\times$RISC-based BRDF', c='C1')\n",
    "        ax.plot(\n",
    "            [lower, lower], [0, old],\n",
    "            label='RISC-based BRDF', c='C1')\n",
    "        ax.plot(\n",
    "            [upper, upper], [0, old],\n",
    "            label='RISC-based BRDF', c='C1')\n",
    "\n",
    "    for i_an in range(len(i_out)):\n",
    "        center = np.pi-directions_bsc[i_out[i_an]].upper[0]\n",
    "        lower = center - delta_angle/2\n",
    "        upper = center + delta_angle/2\n",
    "        brdf = brdf_BSC[i_in, i_out]\n",
    "        norm = np.max(brdf.freq[:, iband])\n",
    "        norm = 1\n",
    "        new = brdf.freq[i_an, iband] / norm\n",
    "        ax.plot(\n",
    "            [lower, upper], [new, new],\n",
    "            label='BSC-based BRDF', c='C0', linestyle='-')\n",
    "        ax.plot(\n",
    "            [lower, lower], [0, new],\n",
    "            label='BSC-based BRDF', c='C0', linestyle='-')\n",
    "        ax.plot(\n",
    "            [upper, upper], [0, new],\n",
    "            label='BSC-based BRDF', c='C0', linestyle='-')\n",
    "\n",
    "    ax.plot(\n",
    "        [0, np.pi], [10, 10],\n",
    "        color='k', alpha=1,\n",
    "        label='Incident direction',\n",
    "    )\n",
    "    ax.arrow(\n",
    "        3*np.pi/4, 19, 0, -3,\n",
    "        color='C3', alpha=1,\n",
    "        head_width=.07,\n",
    "        head_length=1.2,\n",
    "        linewidth=1,\n",
    "        label='Incident direction',\n",
    "    )\n",
    "    ax.legend(fontsize=8)\n",
    "    handles, labels = ax.get_legend_handles_labels()\n",
    "    handles = np.array(handles)\n",
    "    labels = np.array(labels)\n",
    "    mask = np.zeros(len(handles), dtype=bool)\n",
    "    mask[1] = True\n",
    "    mask[-5] = True\n",
    "    mask[0] = True\n",
    "    ax.legend([])\n",
    "    ff = frequencies_nom[iband]\n",
    "    frequency_str = f'{ff/1000:.0f}kHz' if ff >=1e3 else f'{ff:.0f}Hz'\n",
    "    ax.set_axis_off()\n",
    "    ax.set_thetamax(180)\n",
    "    export_fig(fig,'Figure8a')"
   ]
  }
 ],
 "metadata": {
  "kernelspec": {
   "display_name": ".venv",
   "language": "python",
   "name": "python3"
  },
  "language_info": {
   "codemirror_mode": {
    "name": "ipython",
    "version": 3
   },
   "file_extension": ".py",
   "mimetype": "text/x-python",
   "name": "python",
   "nbconvert_exporter": "python",
   "pygments_lexer": "ipython3",
   "version": "3.11.9"
  }
 },
 "nbformat": 4,
 "nbformat_minor": 5
}
