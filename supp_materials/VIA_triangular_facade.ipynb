{
 "cells": [
  {
   "cell_type": "markdown",
   "id": "15df6889",
   "metadata": {},
   "source": [
    "# Triangular profile façade [Section VI.A]\n",
    "This notebook runs the necessary simulations and plots the energy time decays resulting from a façade with a triangular pattern cross-section.\n",
    "\n",
    "In this example, the models for the corresponding Bidirectional Reflectance Distribution Functions (BRDF) are loaded from local ``.sofa`` files.\n",
    "\n",
    "*Check example [``App_BRDF_generation.ipynb``](App_BRDF_generation.ipynb) to generate the BRDF files from their corresponding scattering models.*\n",
    "\n",
    "![alt text](figures/Figure9.svg \"Illustration of the triangular profile façade\")"
   ]
  },
  {
   "cell_type": "code",
   "execution_count": null,
   "id": "49ec6d99",
   "metadata": {},
   "outputs": [],
   "source": [
    "import sparrowpy as sp\n",
    "import numpy as np\n",
    "import os\n",
    "import pyfar as pf\n",
    "import matplotlib.pyplot as plt\n",
    "import pyrato\n",
    "from utils.fig_formatting import create_fig, export_fig\n",
    "\n",
    "%matplotlib inline\n",
    "\n",
    "basepath=os.path.join(os.getcwd(),'resources')"
   ]
  },
  {
   "cell_type": "markdown",
   "id": "41d5e546",
   "metadata": {},
   "source": [
    "Select data origin (same as paper or user-generated)\n",
    "\n",
    "*If you haven't generated the data yet, this will cause errors in the current example*"
   ]
  },
  {
   "cell_type": "code",
   "execution_count": null,
   "id": "f999bb14",
   "metadata": {},
   "outputs": [],
   "source": [
    "###################################################\n",
    "#### SET \"True\" TO LOAD YOUR OWN GENERATED DATA\n",
    "#### \"False\" TO LOAD THE DATA FROM THE PAPER\n",
    "# BRDF data source\n",
    "self_data=False\n",
    "# ray-tracing simulation data source\n",
    "self_RT=False\n",
    "###################################################\n",
    "\n",
    "if self_data:\n",
    "    sub_dir=\"user\"\n",
    "else:\n",
    "    sub_dir=\"paper\"\n",
    "\n",
    "if self_RT:\n",
    "    raven_dir=\"user\"\n",
    "else:\n",
    "    raven_dir=\"paper\"\n"
   ]
  },
  {
   "cell_type": "markdown",
   "id": "2b2aefd1",
   "metadata": {},
   "source": [
    "Setup simulation"
   ]
  },
  {
   "cell_type": "code",
   "execution_count": null,
   "id": "8d918b40",
   "metadata": {},
   "outputs": [],
   "source": [
    "# façade dimensions\n",
    "height = 9\n",
    "width = 19\n",
    "\n",
    "# S-R positions\n",
    "source = pf.Coordinates(10+width/2, 10, 1.5)\n",
    "receiver = pf.Coordinates(11+width/2, 11, 1.5)\n",
    "\n",
    "# simulation parameters\n",
    "patch_size = .25\n",
    "sampling_rate = 1000\n",
    "speed_of_sound = 343.2\n",
    "etc_time = .5  # seconds"
   ]
  },
  {
   "cell_type": "markdown",
   "id": "86cf1173",
   "metadata": {},
   "source": [
    "Load BRDF"
   ]
  },
  {
   "cell_type": "code",
   "execution_count": null,
   "id": "e0501010",
   "metadata": {},
   "outputs": [],
   "source": [
    "# BRDF from simulated BSC data\n",
    "brdf_new, directions_bsc, directions_bsc = pf.io.read_sofa(\n",
    "    os.path.join(basepath, sub_dir, 'brdf_walls_BSC.sofa'))\n",
    "\n",
    "# BRDF from RISC model\n",
    "brdf_rand, directions_bsc, directions_bsc = pf.io.read_sofa(\n",
    "    os.path.join(basepath, sub_dir, 'brdf_walls_RISC.sofa'))"
   ]
  },
  {
   "cell_type": "markdown",
   "id": "057b5a61",
   "metadata": {},
   "source": [
    "Run sparrowpy simulations"
   ]
  },
  {
   "cell_type": "code",
   "execution_count": null,
   "id": "d713c64c",
   "metadata": {},
   "outputs": [],
   "source": [
    "etcs = []\n",
    "brdfs = [brdf_new, brdf_new, brdf_rand]\n",
    "for i_brdf in range(len(brdfs)):\n",
    "    brdf = brdfs[i_brdf]\n",
    "    if i_brdf == 0:\n",
    "        # vertical surface pattern orientation\n",
    "        up_vector_wall = [1, 0, 0]\n",
    "    else:\n",
    "        # horizontal surface pattern orientation\n",
    "        up_vector_wall = [0, 0, 1]\n",
    "\n",
    "    plane = sp.geometry.Polygon(\n",
    "            [[0, 0, 0],\n",
    "            [width, 0, 0],\n",
    "            [width, 0, height],\n",
    "            [0, 0, height]],\n",
    "            up_vector_wall, [0, 1, 0])\n",
    "\n",
    "    #simulation parameters\n",
    "    radi = sp.DirectionalRadiosityFast.from_polygon(\n",
    "        [plane], patch_size)\n",
    "\n",
    "\n",
    "    radi.set_wall_brdf(\n",
    "        np.arange(1), brdf, directions_bsc, directions_bsc)\n",
    "\n",
    "    # set air absorption\n",
    "    radi.set_air_attenuation(\n",
    "        pf.FrequencyData(\n",
    "            np.zeros_like(brdf.frequencies),\n",
    "            brdf.frequencies))\n",
    "\n",
    "    # initialize source energy at each patch\n",
    "    radi.init_source_energy(source)\n",
    "\n",
    "    # # gather energy at receiver\n",
    "    radi.calculate_energy_exchange(\n",
    "        speed_of_sound=speed_of_sound,\n",
    "        etc_time_resolution=1/sampling_rate,\n",
    "        etc_duration=etc_time,\n",
    "        max_reflection_order=0)\n",
    "\n",
    "    direct_sound, _ = radi.calculate_direct_sound(receiver)\n",
    "\n",
    "    etc = radi.collect_energy_receiver_mono(receiver, True)\n",
    "    etcs.append(etc)\n",
    "\n",
    "etc_BSC_vertical = etcs[0]\n",
    "etc_BSC_horizontal = etcs[1]\n",
    "etc_RISC = etcs[2]\n"
   ]
  },
  {
   "cell_type": "markdown",
   "id": "6db77d99",
   "metadata": {},
   "source": [
    "Load RAVEN (ray-tracing) reference ETC"
   ]
  },
  {
   "cell_type": "code",
   "execution_count": null,
   "id": "27b47331",
   "metadata": {},
   "outputs": [],
   "source": [
    "raven = np.loadtxt(\n",
    "    os.path.join(basepath,raven_dir,'raven_facade.csv'),\n",
    "    delimiter=\",\" )\n",
    "raven = pf.TimeData(\n",
    "    raven[1:, 3:-2].T,\n",
    "    raven[1:, 0],\n",
    ")\n",
    "frequencies_nom, frequencies_out = pf.dsp.filter.fractional_octave_frequencies(\n",
    "    1, (np.min(brdf.frequencies)/1.1, np.max(brdf.frequencies)*1.1),\n",
    ")\n"
   ]
  },
  {
   "cell_type": "markdown",
   "id": "00d7a879",
   "metadata": {},
   "source": [
    "Plot energy time/decay curves resulting from the simulations"
   ]
  },
  {
   "cell_type": "code",
   "execution_count": null,
   "id": "b3dd5b83",
   "metadata": {},
   "outputs": [],
   "source": [
    "# set \"True\" for Schoeder curve, \"False\" for ETC\n",
    "is_decay= False\n",
    "\n",
    "for i_band in range(brdf.n_bins):\n",
    "\n",
    "    i_receiver = 0\n",
    "    energy_direct_db = 10*np.log10(direct_sound/1e-12)\n",
    "\n",
    "    all_etcs =  pf.utils.concatenate_channels([\n",
    "            etc_BSC_vertical[i_receiver, i_band],\n",
    "            etc_BSC_horizontal[i_receiver, i_band],\n",
    "            etc_RISC[i_receiver, i_band],\n",
    "            raven[i_band]/(4*np.pi),\n",
    "        ])\n",
    "    if is_decay:\n",
    "        edcs = pyrato.edc.schroeder_integration(all_etcs, True)\n",
    "    else:\n",
    "        edcs = all_etcs\n",
    "    fig, ax = create_fig(figtype=\"stubby\")\n",
    "    ax = pf.plot.time(\n",
    "        edcs[0],\n",
    "        dB=True, log_prefix=10, unit='ms', log_reference=1,\n",
    "        label='BSC-based BRDF, vertical profile',\n",
    "        color='C1',\n",
    "    )\n",
    "    ax = pf.plot.time(\n",
    "        edcs[1],\n",
    "        dB=True, log_prefix=10, unit='ms', log_reference=1,\n",
    "        label='BSC-based BRDF, horizontal profile',\n",
    "        color='C2',\n",
    "        linestyle='--',\n",
    "    )\n",
    "    ax = pf.plot.time(\n",
    "        edcs[2],\n",
    "        dB=True, log_prefix=10, unit='ms', log_reference=1,\n",
    "        label='RISC-based BRDF',\n",
    "        color='C0',\n",
    "        linestyle=':',\n",
    "    )\n",
    "    ax = pf.plot.time(\n",
    "        edcs[3],\n",
    "        dB=True, log_prefix=10, unit='ms', log_reference=1,\n",
    "        label='RAVEN reference (RISC)',\n",
    "        color='C3',\n",
    "        linestyle='--',\n",
    "    )\n",
    "\n",
    "    ax.set_xlim((0, 150))\n",
    "    ax.set_ylim([-150+40,-40+40])\n",
    "    ax.set_xlabel(\"Time [ms]\")\n",
    "\n",
    "    if is_decay:\n",
    "        ax.set_ylabel(\"Energy decay curve [dB]\")\n",
    "    else:\n",
    "        ax.set_ylabel(\"Energy time curve [dB]\")\n",
    "\n",
    "\n",
    "    ff = frequencies_nom[i_band]\n",
    "    frequency_str = f'{ff/1000:.0f}kHz' if ff >=1e3 else f'{ff:.0f}Hz'\n",
    "    plt.legend(fontsize=8,loc=\"upper right\",\n",
    "               bbox_to_anchor=(1.1, 1.2),shadow=True)\n",
    "    print()\n",
    "\n",
    "    if ff == 125:\n",
    "        export_fig(fig,'Figure10a')\n",
    "    elif ff == 4e3:\n",
    "        export_fig(fig,'Figure10b')\n",
    "\n",
    "    ax.set_title(f'{frequency_str} octave band')\n",
    "    plt.show()\n",
    "\n",
    "\n"
   ]
  }
 ],
 "metadata": {
  "kernelspec": {
   "display_name": ".venv",
   "language": "python",
   "name": "python3"
  },
  "language_info": {
   "codemirror_mode": {
    "name": "ipython",
    "version": 3
   },
   "file_extension": ".py",
   "mimetype": "text/x-python",
   "name": "python",
   "nbconvert_exporter": "python",
   "pygments_lexer": "ipython3",
   "version": "3.11.9"
  }
 },
 "nbformat": 4,
 "nbformat_minor": 5
}
