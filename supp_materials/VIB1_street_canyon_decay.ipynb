{
 "cells": [
  {
   "cell_type": "markdown",
   "metadata": {},
   "source": [
    "# Street canyon example [Section VI.B.1]\n",
    "\n",
    "This example runs a simulation of a street canyon applying two different scattering models on the walls. \n",
    "\n",
    "Random-Incidence Scattering Coefficient (RISC) and Bidirectional Scattering Coefficients (BSC) are assessed.\n",
    "\n",
    "In this example, the models for the corresponding Bidirectional Reflectance Distribution Functions (BRDF) are loaded from local ``.sofa`` files.\n",
    "\n",
    "*Check example [``App_BRDF_generation.ipynb``](App_BRDF_generation.ipynb) to generate the BRDF files from their corresponding scattering models.*\n",
    "\n",
    "The output is written in local files and can be visualized in [``VIB_street_canyon_plots.ipynb``](VIB_street_canyon_plots.ipynb).\n",
    "\n",
    "![alt text](figures/urban_canyon.svg \"Illustration of the street canyon\")\n"
   ]
  },
  {
   "cell_type": "code",
   "execution_count": 1,
   "metadata": {},
   "outputs": [],
   "source": [
    "\"\"\"Test the radiosity.Radiosity module.\"\"\"\n",
    "import pyfar as pf\n",
    "import sparrowpy as sp\n",
    "from utils.run_simu import run_simu, run_simu_BRDF\n",
    "import numpy as np\n",
    "import matplotlib.pyplot as plt\n",
    "import os\n",
    "from utils.fig_formatting import create_fig\n",
    "\n",
    "%matplotlib inline"
   ]
  },
  {
   "cell_type": "markdown",
   "metadata": {},
   "source": [
    "Select origin of scattering (BRDF) data"
   ]
  },
  {
   "cell_type": "code",
   "execution_count": 2,
   "metadata": {},
   "outputs": [],
   "source": [
    "###################################################\n",
    "#### SET \"True\" TO LOAD YOUR OWN GENERATED DATA\n",
    "#### \"False\" TO LOAD THE DATA FROM THE PAPER\n",
    "self_data=False\n",
    "###################################################\n",
    "\n",
    "if self_data:\n",
    "    sub_dir=\"user\"\n",
    "else:\n",
    "    sub_dir=\"paper\"\n",
    "\n",
    "basepath= os.path.join(os.getcwd(),\"resources\")"
   ]
  },
  {
   "cell_type": "markdown",
   "metadata": {},
   "source": [
    "We define a function to easily generate the street canyon from 3 dimensions."
   ]
  },
  {
   "cell_type": "code",
   "execution_count": 3,
   "metadata": {},
   "outputs": [],
   "source": [
    "def urban_canyon_stub(length_x, length_y, length_z):\n",
    "    \"\"\"Create a shoebox room with the given dimensions.\n",
    "\n",
    "    Parameters\n",
    "    ----------\n",
    "    length_x : float\n",
    "        Length of the urban canyon in meters.\n",
    "    length_y : float\n",
    "        width of the urban canyon in meters.\n",
    "    length_z : float\n",
    "        height of the urban canyon in meters.\n",
    "\n",
    "    Returns\n",
    "    -------\n",
    "    room : list[geo.Polygon]\n",
    "        List of the walls of the room.\n",
    "\n",
    "    \"\"\"\n",
    "    return [\n",
    "        sp.geometry.Polygon(\n",
    "            [[0, 0, 0], [length_x, 0, 0],\n",
    "            [length_x, 0, length_z], [0, 0, length_z]],\n",
    "            [0, 0, 1], [0, 1, 0]),\n",
    "        sp.geometry.Polygon(\n",
    "            [[0, 0, 0],[0, length_y, 0],\n",
    "            [length_x, length_y, 0], [length_x, 0, 0 ]],\n",
    "            [1, 0, 0], [0, 0, 1]),\n",
    "        sp.geometry.Polygon(\n",
    "            [[0, length_y, 0], [length_x, length_y, 0],\n",
    "            [length_x, length_y, length_z], [0, length_y, length_z]],\n",
    "            [0, 0, -1], [0, -1, 0]),\n",
    "        ]"
   ]
  },
  {
   "cell_type": "markdown",
   "metadata": {},
   "source": [
    "Define basic scene properties"
   ]
  },
  {
   "cell_type": "code",
   "execution_count": 4,
   "metadata": {},
   "outputs": [],
   "source": [
    "# Define parameters\n",
    "X = 90\n",
    "Y = 12\n",
    "Z = 6\n",
    "\n",
    "# create geometry\n",
    "canyon = urban_canyon_stub(X, Y, Z)\n",
    "source = pf.Coordinates(20, 6, 1)\n",
    "receiver = pf.Coordinates(21, 6, 2)"
   ]
  },
  {
   "cell_type": "markdown",
   "metadata": {},
   "source": [
    "Run a very basic scene: this caches optimized functions, ensuring best efficiency for the actual simulations."
   ]
  },
  {
   "cell_type": "code",
   "execution_count": 5,
   "metadata": {},
   "outputs": [
    {
     "name": "stderr",
     "output_type": "stream",
     "text": [
      "c:\\Users\\jotag\\Documents\\dev\\sparapy\\supp_materials\\utils\\run_simu.py:83: PyfarDeprecationWarning: 'This function will be deprecated in pyfar 0.8.0 in favor of spharpy.samplings.gaussian.'\n",
      "  samples = pf.samplings.sph_gaussian(res)\n",
      "c:\\Users\\jotag\\Documents\\dev\\sparapy\\.venv\\Lib\\site-packages\\pyfar\\samplings\\samplings.py:344: PyfarDeprecationWarning: 'This function will be changed in pyfar 0.8.0 to init(x, y, z).'\n",
      "  sampling = pyfar.Coordinates(\n",
      "c:\\Users\\jotag\\Documents\\dev\\sparapy\\.venv\\Lib\\site-packages\\pyfar\\classes\\coordinates.py:276: PyfarDeprecationWarning: 'This function will be deprecated in pyfar 0.8.0 in favor of spharpy.samplings.SamplingSphere.'\n",
      "  self.sh_order = sh_order\n",
      "c:\\Users\\jotag\\Documents\\dev\\sparapy\\supp_materials\\utils\\run_simu.py:100: UserWarning: Gimbal lock detected. Setting third angle to zero since it is not possible to uniquely determine all angles.\n",
      "  radi.set_wall_brdf(\n"
     ]
    },
    {
     "data": {
      "text/plain": [
       "(TimeData:\n",
       " (1, 1) channels with 5 samples,\n",
       " [0.5011081695556641,\n",
       "  0.46585845947265625,\n",
       "  0.3018162250518799,\n",
       "  0.07679247856140137])"
      ]
     },
     "execution_count": 5,
     "metadata": {},
     "output_type": "execute_result"
    }
   ],
   "source": [
    "run_simu(walls=urban_canyon_stub(1,1,1),\n",
    "        source=pf.Coordinates(.5,.5,.5),\n",
    "        receiver=pf.Coordinates(.5,.5,.5),\n",
    "        patch_size=1)"
   ]
  },
  {
   "cell_type": "markdown",
   "metadata": {},
   "source": [
    "## Simulation of urban canyon using RISC and BSC scattering patterns"
   ]
  },
  {
   "cell_type": "markdown",
   "metadata": {},
   "source": [
    "Simulation settings\n",
    "\n",
    "**NOTE:** we recommend starting with rougher simulation requirements. With high resolution, simulations may take a long time to simulate."
   ]
  },
  {
   "cell_type": "code",
   "execution_count": null,
   "metadata": {},
   "outputs": [],
   "source": [
    "max_refl_order=30\n",
    "ETC_duration=1.\n",
    "ETC_time_step=.002\n",
    "patch_side_size=3"
   ]
  },
  {
   "cell_type": "markdown",
   "metadata": {},
   "source": [
    "Run simulation with RISC modeling on walls"
   ]
  },
  {
   "cell_type": "code",
   "execution_count": 7,
   "metadata": {},
   "outputs": [
    {
     "name": "stdout",
     "output_type": "stream",
     "text": [
      "SOFA file contained custom entries\n",
      "----------------------------------\n",
      "SourceWeights, ReceiverWeights\n",
      "SOFA file contained custom entries\n",
      "----------------------------------\n",
      "SourceWeights, ReceiverWeights\n"
     ]
    },
    {
     "name": "stderr",
     "output_type": "stream",
     "text": [
      "c:\\Users\\jotag\\Documents\\dev\\sparapy\\supp_materials\\utils\\run_simu.py:158: UserWarning: Gimbal lock detected. Setting third angle to zero since it is not possible to uniquely determine all angles.\n",
      "  radi.set_wall_brdf(\n",
      "C:\\Users\\jotag\\Documents\\dev\\sparapy\\sparrowpy\\classes\\RadiosityFast.py:1269: ComplexWarning: Casting complex values to real discards the imaginary part\n",
      "  form_factors_tilde[i, j, :, :] = form_factors_tilde[\n"
     ]
    }
   ],
   "source": [
    "BRDF_wall = os.path.join(basepath,sub_dir,\"brdf_walls_RISC.sofa\")\n",
    "BRDF_ground = os.path.join(basepath,sub_dir,\"brdf_ground.sofa\")\n",
    "etc_RISC=run_simu_BRDF(\n",
    "    walls=canyon,\n",
    "    source=source,\n",
    "    receiver=receiver,\n",
    "    patch_size=patch_side_size,\n",
    "    time_step=ETC_time_step,\n",
    "    duration=ETC_duration,\n",
    "    refl_order=max_refl_order,\n",
    "    file_wall=BRDF_wall,\n",
    "    file_ground=BRDF_ground)\n",
    "\n"
   ]
  },
  {
   "cell_type": "markdown",
   "metadata": {},
   "source": [
    "Run simulation with BSC modeling on walls"
   ]
  },
  {
   "cell_type": "code",
   "execution_count": 8,
   "metadata": {},
   "outputs": [
    {
     "name": "stdout",
     "output_type": "stream",
     "text": [
      "SOFA file contained custom entries\n",
      "----------------------------------\n",
      "SourceWeights, ReceiverWeights\n",
      "SOFA file contained custom entries\n",
      "----------------------------------\n",
      "SourceWeights, ReceiverWeights\n"
     ]
    }
   ],
   "source": [
    "BRDF_wall = os.path.join(basepath,sub_dir,\"brdf_walls_BSC.sofa\")\n",
    "BRDF_ground = os.path.join(basepath,sub_dir,\"brdf_ground.sofa\")\n",
    "etc_BSC=run_simu_BRDF(\n",
    "    walls=canyon,\n",
    "    source=source,\n",
    "    receiver=receiver,\n",
    "    patch_size=patch_side_size,\n",
    "    time_step=ETC_time_step,\n",
    "    duration=ETC_duration,\n",
    "    refl_order=max_refl_order,\n",
    "    file_wall=BRDF_wall,\n",
    "    file_ground=BRDF_ground)"
   ]
  },
  {
   "cell_type": "markdown",
   "metadata": {},
   "source": [
    "Write simulation results for access from other files and methods"
   ]
  },
  {
   "cell_type": "code",
   "execution_count": 9,
   "metadata": {},
   "outputs": [],
   "source": [
    "pf.io.write(os.path.join(basepath,\"user\",\n",
    "                         f\"ETCs_psize{patch_side_size}.far\"),\n",
    "            compress=False,\n",
    "            diffuse_etc=etc_RISC,\n",
    "            custom_etc=etc_BSC,\n",
    "            freqs=np.array([125, 250, 500, 1e3, 2e3, 4e3]))"
   ]
  },
  {
   "cell_type": "markdown",
   "metadata": {},
   "source": [
    "Basic figure for quick assessment"
   ]
  },
  {
   "cell_type": "code",
   "execution_count": 10,
   "metadata": {},
   "outputs": [
    {
     "data": {
      "text/plain": [
       "(-120.0, 0.0)"
      ]
     },
     "execution_count": 10,
     "metadata": {},
     "output_type": "execute_result"
    },
    {
     "data": {
      "image/png": "[encoded data removed]",
      "text/plain": [
       "<Figure size 500x300 with 1 Axes>"
      ]
     },
     "metadata": {},
     "output_type": "display_data"
    }
   ],
   "source": [
    "# change this variable to check different frequency bands\n",
    "freq_bin = 2000\n",
    "##\n",
    "\n",
    "i = np.argmin(np.abs(np.array([125, 250, 500, 1e3, 2e3, 4e3])-freq_bin))\n",
    "\n",
    "f,a=create_fig(figtype=\"big\")\n",
    "pf.plot.time(etc_BSC[0,i], dB=True, log_prefix=10,\n",
    "             label=[\"BSC-based BRDF\"],\n",
    "             linestyle=\"-\")\n",
    "pf.plot.time(etc_RISC[0,i], dB=True, log_prefix=10,\n",
    "             label=[\"RISC-based BRDF\"],\n",
    "             linestyle=\"--\")\n",
    "\n",
    "plt.legend(fontsize=10,shadow=True)\n",
    "plt.ylim([-120,0])"
   ]
  },
  {
   "cell_type": "code",
   "execution_count": 11,
   "metadata": {},
   "outputs": [
    {
     "name": "stdout",
     "output_type": "stream",
     "text": [
      "Python implementation: CPython\n",
      "Python version       : 3.11.9\n",
      "IPython version      : 9.1.0\n",
      "\n",
      "Compiler    : MSC v.1938 64 bit (AMD64)\n",
      "OS          : Windows\n",
      "Release     : 10\n",
      "Machine     : AMD64\n",
      "Processor   : AMD64 Family 25 Model 68 Stepping 1, AuthenticAMD\n",
      "CPU cores   : 16\n",
      "Architecture: 64bit\n",
      "\n",
      "numpy     : 1.26.4\n",
      "sparrowpy : 0.1.0\n",
      "matplotlib: 3.10.1\n",
      "pyfar     : 0.7.3\n",
      "\n"
     ]
    }
   ],
   "source": [
    "%load_ext watermark\n",
    "%watermark -v -m -iv"
   ]
  }
 ],
 "metadata": {
  "kernelspec": {
   "display_name": ".venv",
   "language": "python",
   "name": "python3"
  },
  "language_info": {
   "codemirror_mode": {
    "name": "ipython",
    "version": 3
   },
   "file_extension": ".py",
   "mimetype": "text/x-python",
   "name": "python",
   "nbconvert_exporter": "python",
   "pygments_lexer": "ipython3",
   "version": "3.11.9"
  }
 },
 "nbformat": 4,
 "nbformat_minor": 2
}
